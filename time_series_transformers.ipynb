{
  "cells": [
    {
      "cell_type": "markdown",
      "id": "9-a3wNZ9mxWT",
      "metadata": {
        "id": "9-a3wNZ9mxWT"
      },
      "source": [
        "# Probabilistic Time Series Forecasting with 🤗 Transformers\n",
        "\n",
        "## Introduction\n",
        "\n",
        "Time series forecasting is an essential scientific and business problem and as such has also seen a lot of innovation recently with the use of [deep learning based](https://dl.acm.org/doi/abs/10.1145/3533382) models in addition to the [classical methods](https://otexts.com/fpp3/). An important difference between classical methods like ARIMA and novel deep learning methods is the following.\n",
        "\n",
        "##  Probabilistic Forecasting\n",
        "\n",
        "Typically, classical methods are fitted on each time series in a dataset individually. These are often referred to as  \"single\" or \"local\" methods. However, when dealing with a large amount of time series for some applications, it is beneficial to train a \"global\" model on all available time series, which enables the model to learn latent representations from many different sources.\n",
        "\n",
        "Some classical methods are point-valued (meaning, they just output a single value per time step) and models are trained by minimizing an L2 or L1 type of loss with respect to the ground truth data. However, since forecasts are often used in some real-world decision making pipeline, even with humans in the loop, it is much more beneficial to provide the uncertainties of predictions. This is also called \"probabilistic forecasting\", as opposed to \"point forecasting\". This entails modeling a probabilistic distribution, from which one can sample.\n",
        "\n",
        "So in short, rather than training local point forecasting models, we hope to train **global probabilistic** models. Deep learning is a great fit for this, as neural networks can learn representations from several related time series as well as model the uncertainty of the data.\n",
        "\n",
        "It is common in the probabilistic setting to learn the future parameters of some chosen parametric distribution, like Gaussian or Student-T; or learn the conditional quantile function; or use the framework of Conformal Prediction adapted to the time series setting. The choice of method does not affect the modeling aspect and thus can be typically thought of as yet another hyperparameter. One can always turn a probabilistic model into a point-forecasting model, by taking empirical means or medians.\n",
        "\n",
        "## The Time Series Transformer\n",
        "\n",
        "In terms of modeling time series data which are sequential in nature, as one can imagine, researchers have come up with models which use Recurrent Neural Networks (RNN) like LSTM or GRU, or Convolutional Networks (CNN), and more recently Transformer based methods which fit naturally to the time series forecasting setting.\n",
        "\n",
        "In this blog post, we're going to leverage the vanilla Transformer [(Vaswani et al., 2017)](https://arxiv.org/abs/1706.03762) for the **univariate** probabilistic forecasting task (i.e. predicting each time series' 1-d distribution individually). The Encoder-Decoder Transformer is a natural choice for forecasting as it encapsulates several inductive biases nicely.\n",
        "\n",
        "To begin with, the use of an Encoder-Decoder architecture is helpful at inference time where typically for some logged data we wish to forecast some prediction steps into the future. This can be thought of as analogous to the text generation task where given some context, we sample the next token and pass it back into the decoder (also called \"autoregressive generation\"). Similarly here we can also, given some distribution type, sample from it to provide forecasts up until our desired prediction horizon. This is known as Greedy Sampling/Search and there is a great blog post about it [here](https://huggingface.co/blog/how-to-generate) for the NLP setting.\n",
        "\n",
        "Secondly, a Transformer helps us to train on time series data which might contain thousands of time points. It might not be feasible to input *all* the history of a time series at once to the model, due to the time- and memory constraints of the attention mechanism. Thus, one can consider some appropriate context window and sample this window and the subsequent prediction length sized window from the training data when constructing batches for stochastic gradient descent (SGD). The context sized window can be passed to the encoder and the prediction window to a *causal-masked* decoder. This means that the decoder can only look at previous time steps when learning the next value. This is equivalent to how one would train a vanilla Transformer for machine translation, referred to as \"teacher forcing\".\n",
        "\n",
        "Another benefit of Transformers over the other architectures is that we can incorporate missing values (which are common in the time series setting) as an additional mask to the encoder or decoder and still train without resorting to in-filling or imputation. This is equivalent to the `attention_mask` of models like BERT and GPT-2 in the Transformers library, to not include padding tokens in the computation of the attention matrix.\n",
        "\n",
        "A drawback of the Transformer architecture is the limit to the sizes of the context and prediction windows because of the quadratic compute and memory requirements of the vanilla Transformer, see [Tay et al., 2020](https://arxiv.org/abs/2009.06732). Additionally, since the Transformer is a powerful architecture, it might overfit or learn spurious correlations much more easily compared to other [methods](https://openreview.net/pdf?id=D7YBmfX_VQy).\n",
        "\n",
        "The 🤗 Transformers library comes with a vanilla probabilistic time series Transformer model, simply called the [Time Series Transformer](https://huggingface.co/docs/transformers/model_doc/time_series_transformer). In the sections below, we'll show how to train such a model on a custom dataset.\n",
        "\n",
        "## Set-up Environment\n",
        "\n",
        "First, let's install the necessary libraries: 🤗 Transformers, 🤗 Datasets, 🤗 Evaluate,  🤗 Accelerate and [GluonTS](https://github.com/awslabs/gluonts).\n",
        "\n",
        "As we will show, GluonTS will be used for transforming the data to create features as well as for creating appropriate training, validation and test batches."
      ]
    },
    {
      "cell_type": "code",
      "execution_count": null,
      "id": "7AkJMJAunLP9",
      "metadata": {
        "id": "7AkJMJAunLP9"
      },
      "outputs": [],
      "source": [
        "!pip install -q transformers"
      ]
    },
    {
      "cell_type": "code",
      "execution_count": null,
      "id": "cd9NeR_ZnSWP",
      "metadata": {
        "colab": {
          "base_uri": "https://localhost:8080/"
        },
        "id": "cd9NeR_ZnSWP",
        "outputId": "a1ef1e7b-859a-41c4-887a-dfbe71eeb34a"
      },
      "outputs": [
        {
          "output_type": "stream",
          "name": "stdout",
          "text": [
            "\u001b[2K   \u001b[90m━━━━━━━━━━━━━━━━━━━━━━━━━━━━━━━━━━━━━━━━\u001b[0m \u001b[32m491.2/491.2 kB\u001b[0m \u001b[31m8.2 MB/s\u001b[0m eta \u001b[36m0:00:00\u001b[0m\n",
            "\u001b[2K   \u001b[90m━━━━━━━━━━━━━━━━━━━━━━━━━━━━━━━━━━━━━━━━\u001b[0m \u001b[32m116.3/116.3 kB\u001b[0m \u001b[31m4.7 MB/s\u001b[0m eta \u001b[36m0:00:00\u001b[0m\n",
            "\u001b[2K   \u001b[90m━━━━━━━━━━━━━━━━━━━━━━━━━━━━━━━━━━━━━━━━\u001b[0m \u001b[32m183.9/183.9 kB\u001b[0m \u001b[31m10.2 MB/s\u001b[0m eta \u001b[36m0:00:00\u001b[0m\n",
            "\u001b[2K   \u001b[90m━━━━━━━━━━━━━━━━━━━━━━━━━━━━━━━━━━━━━━━━\u001b[0m \u001b[32m143.5/143.5 kB\u001b[0m \u001b[31m6.6 MB/s\u001b[0m eta \u001b[36m0:00:00\u001b[0m\n",
            "\u001b[2K   \u001b[90m━━━━━━━━━━━━━━━━━━━━━━━━━━━━━━━━━━━━━━━━\u001b[0m \u001b[32m194.8/194.8 kB\u001b[0m \u001b[31m11.6 MB/s\u001b[0m eta \u001b[36m0:00:00\u001b[0m\n",
            "\u001b[?25h\u001b[31mERROR: pip's dependency resolver does not currently take into account all the packages that are installed. This behaviour is the source of the following dependency conflicts.\n",
            "torch 2.6.0+cu124 requires nvidia-cublas-cu12==12.4.5.8; platform_system == \"Linux\" and platform_machine == \"x86_64\", but you have nvidia-cublas-cu12 12.5.3.2 which is incompatible.\n",
            "torch 2.6.0+cu124 requires nvidia-cuda-cupti-cu12==12.4.127; platform_system == \"Linux\" and platform_machine == \"x86_64\", but you have nvidia-cuda-cupti-cu12 12.5.82 which is incompatible.\n",
            "torch 2.6.0+cu124 requires nvidia-cuda-nvrtc-cu12==12.4.127; platform_system == \"Linux\" and platform_machine == \"x86_64\", but you have nvidia-cuda-nvrtc-cu12 12.5.82 which is incompatible.\n",
            "torch 2.6.0+cu124 requires nvidia-cuda-runtime-cu12==12.4.127; platform_system == \"Linux\" and platform_machine == \"x86_64\", but you have nvidia-cuda-runtime-cu12 12.5.82 which is incompatible.\n",
            "torch 2.6.0+cu124 requires nvidia-cudnn-cu12==9.1.0.70; platform_system == \"Linux\" and platform_machine == \"x86_64\", but you have nvidia-cudnn-cu12 9.3.0.75 which is incompatible.\n",
            "torch 2.6.0+cu124 requires nvidia-cufft-cu12==11.2.1.3; platform_system == \"Linux\" and platform_machine == \"x86_64\", but you have nvidia-cufft-cu12 11.2.3.61 which is incompatible.\n",
            "torch 2.6.0+cu124 requires nvidia-curand-cu12==10.3.5.147; platform_system == \"Linux\" and platform_machine == \"x86_64\", but you have nvidia-curand-cu12 10.3.6.82 which is incompatible.\n",
            "torch 2.6.0+cu124 requires nvidia-cusolver-cu12==11.6.1.9; platform_system == \"Linux\" and platform_machine == \"x86_64\", but you have nvidia-cusolver-cu12 11.6.3.83 which is incompatible.\n",
            "torch 2.6.0+cu124 requires nvidia-cusparse-cu12==12.3.1.170; platform_system == \"Linux\" and platform_machine == \"x86_64\", but you have nvidia-cusparse-cu12 12.5.1.3 which is incompatible.\n",
            "torch 2.6.0+cu124 requires nvidia-nvjitlink-cu12==12.4.127; platform_system == \"Linux\" and platform_machine == \"x86_64\", but you have nvidia-nvjitlink-cu12 12.5.82 which is incompatible.\n",
            "gcsfs 2025.3.2 requires fsspec==2025.3.2, but you have fsspec 2024.12.0 which is incompatible.\u001b[0m\u001b[31m\n",
            "\u001b[0m"
          ]
        }
      ],
      "source": [
        "!pip install -q datasets"
      ]
    },
    {
      "cell_type": "code",
      "execution_count": null,
      "id": "xl9uzDOCKMoK",
      "metadata": {
        "colab": {
          "base_uri": "https://localhost:8080/"
        },
        "id": "xl9uzDOCKMoK",
        "outputId": "32697f54-8fac-4da3-a022-fe17921ebb31"
      },
      "outputs": [
        {
          "output_type": "stream",
          "name": "stdout",
          "text": [
            "\u001b[?25l   \u001b[90m━━━━━━━━━━━━━━━━━━━━━━━━━━━━━━━━━━━━━━━━\u001b[0m \u001b[32m0.0/84.0 kB\u001b[0m \u001b[31m?\u001b[0m eta \u001b[36m-:--:--\u001b[0m\r\u001b[2K   \u001b[90m━━━━━━━━━━━━━━━━━━━━━━━━━━━━━━━━━━━━━━━━\u001b[0m \u001b[32m84.0/84.0 kB\u001b[0m \u001b[31m5.5 MB/s\u001b[0m eta \u001b[36m0:00:00\u001b[0m\n",
            "\u001b[?25h"
          ]
        }
      ],
      "source": [
        "!pip install -q evaluate"
      ]
    },
    {
      "cell_type": "code",
      "execution_count": null,
      "id": "3X4oByTHPudz",
      "metadata": {
        "colab": {
          "base_uri": "https://localhost:8080/"
        },
        "id": "3X4oByTHPudz",
        "outputId": "0efa814c-5a2a-408c-9e6c-90dc84d8ebed"
      },
      "outputs": [
        {
          "output_type": "stream",
          "name": "stdout",
          "text": [
            "\u001b[2K   \u001b[90m━━━━━━━━━━━━━━━━━━━━━━━━━━━━━━━━━━━━━━━━\u001b[0m \u001b[32m363.4/363.4 MB\u001b[0m \u001b[31m3.0 MB/s\u001b[0m eta \u001b[36m0:00:00\u001b[0m\n",
            "\u001b[2K   \u001b[90m━━━━━━━━━━━━━━━━━━━━━━━━━━━━━━━━━━━━━━━━\u001b[0m \u001b[32m13.8/13.8 MB\u001b[0m \u001b[31m27.5 MB/s\u001b[0m eta \u001b[36m0:00:00\u001b[0m\n",
            "\u001b[2K   \u001b[90m━━━━━━━━━━━━━━━━━━━━━━━━━━━━━━━━━━━━━━━━\u001b[0m \u001b[32m24.6/24.6 MB\u001b[0m \u001b[31m14.7 MB/s\u001b[0m eta \u001b[36m0:00:00\u001b[0m\n",
            "\u001b[2K   \u001b[90m━━━━━━━━━━━━━━━━━━━━━━━━━━━━━━━━━━━━━━━━\u001b[0m \u001b[32m883.7/883.7 kB\u001b[0m \u001b[31m34.0 MB/s\u001b[0m eta \u001b[36m0:00:00\u001b[0m\n",
            "\u001b[2K   \u001b[90m━━━━━━━━━━━━━━━━━━━━━━━━━━━━━━━━━━━━━━━━\u001b[0m \u001b[32m664.8/664.8 MB\u001b[0m \u001b[31m2.2 MB/s\u001b[0m eta \u001b[36m0:00:00\u001b[0m\n",
            "\u001b[2K   \u001b[90m━━━━━━━━━━━━━━━━━━━━━━━━━━━━━━━━━━━━━━━━\u001b[0m \u001b[32m211.5/211.5 MB\u001b[0m \u001b[31m5.7 MB/s\u001b[0m eta \u001b[36m0:00:00\u001b[0m\n",
            "\u001b[2K   \u001b[90m━━━━━━━━━━━━━━━━━━━━━━━━━━━━━━━━━━━━━━━━\u001b[0m \u001b[32m56.3/56.3 MB\u001b[0m \u001b[31m11.9 MB/s\u001b[0m eta \u001b[36m0:00:00\u001b[0m\n",
            "\u001b[2K   \u001b[90m━━━━━━━━━━━━━━━━━━━━━━━━━━━━━━━━━━━━━━━━\u001b[0m \u001b[32m127.9/127.9 MB\u001b[0m \u001b[31m7.1 MB/s\u001b[0m eta \u001b[36m0:00:00\u001b[0m\n",
            "\u001b[2K   \u001b[90m━━━━━━━━━━━━━━━━━━━━━━━━━━━━━━━━━━━━━━━━\u001b[0m \u001b[32m207.5/207.5 MB\u001b[0m \u001b[31m5.6 MB/s\u001b[0m eta \u001b[36m0:00:00\u001b[0m\n",
            "\u001b[2K   \u001b[90m━━━━━━━━━━━━━━━━━━━━━━━━━━━━━━━━━━━━━━━━\u001b[0m \u001b[32m21.1/21.1 MB\u001b[0m \u001b[31m76.1 MB/s\u001b[0m eta \u001b[36m0:00:00\u001b[0m\n",
            "\u001b[?25h"
          ]
        }
      ],
      "source": [
        "!pip install -q accelerate"
      ]
    },
    {
      "cell_type": "code",
      "execution_count": null,
      "id": "f6kDYa76nU9J",
      "metadata": {
        "colab": {
          "base_uri": "https://localhost:8080/"
        },
        "id": "f6kDYa76nU9J",
        "outputId": "bf0bbb01-073c-4559-f8a7-22d57ba2279a"
      },
      "outputs": [
        {
          "output_type": "stream",
          "name": "stdout",
          "text": [
            "\u001b[?25l   \u001b[90m━━━━━━━━━━━━━━━━━━━━━━━━━━━━━━━━━━━━━━━━\u001b[0m \u001b[32m0.0/1.5 MB\u001b[0m \u001b[31m?\u001b[0m eta \u001b[36m-:--:--\u001b[0m\r\u001b[2K   \u001b[91m━━━━━━━━━━━━━━━━━━━━━━━━\u001b[0m\u001b[91m╸\u001b[0m\u001b[90m━━━━━━━━━━━━━━━\u001b[0m \u001b[32m0.9/1.5 MB\u001b[0m \u001b[31m27.5 MB/s\u001b[0m eta \u001b[36m0:00:01\u001b[0m\r\u001b[2K   \u001b[90m━━━━━━━━━━━━━━━━━━━━━━━━━━━━━━━━━━━━━━━━\u001b[0m \u001b[32m1.5/1.5 MB\u001b[0m \u001b[31m22.4 MB/s\u001b[0m eta \u001b[36m0:00:00\u001b[0m\n",
            "\u001b[?25h\u001b[?25l   \u001b[90m━━━━━━━━━━━━━━━━━━━━━━━━━━━━━━━━━━━━━━━━\u001b[0m \u001b[32m0.0/53.6 kB\u001b[0m \u001b[31m?\u001b[0m eta \u001b[36m-:--:--\u001b[0m\r\u001b[2K   \u001b[90m━━━━━━━━━━━━━━━━━━━━━━━━━━━━━━━━━━━━━━━━\u001b[0m \u001b[32m53.6/53.6 kB\u001b[0m \u001b[31m3.8 MB/s\u001b[0m eta \u001b[36m0:00:00\u001b[0m\n",
            "\u001b[?25h"
          ]
        }
      ],
      "source": [
        "!pip install -q gluonts ujson"
      ]
    },
    {
      "cell_type": "markdown",
      "id": "eaebea67",
      "metadata": {
        "id": "eaebea67"
      },
      "source": [
        "We also quickly upload some telemetry - this tells us which examples and software versions are getting used so we know where to prioritize our maintenance efforts. We don't collect (or care about) any personally identifiable information, but if you'd prefer not to be counted, feel free to skip this step or delete this cell entirely."
      ]
    },
    {
      "cell_type": "code",
      "execution_count": null,
      "id": "98c2cf63",
      "metadata": {
        "id": "98c2cf63"
      },
      "outputs": [],
      "source": [
        "from transformers.utils import send_example_telemetry\n",
        "\n",
        "send_example_telemetry(\"time_series_transformers_notebook\", framework=\"pytorch\")"
      ]
    },
    {
      "cell_type": "markdown",
      "id": "4m_7_MKqmzfE",
      "metadata": {
        "id": "4m_7_MKqmzfE"
      },
      "source": [
        "## Load Dataset\n",
        "\n",
        "In this blog post, we'll use the `tourism_monthly` dataset, which is available on the [Hugging Face Hub](https://huggingface.co/datasets/monash_tsf). This dataset contains monthly tourism volumes for 366 regions in Australia.\n",
        "\n",
        "This dataset is part of the [Monash Time Series Forecasting](https://forecastingdata.org/) repository, a collection of  time series datasets from a number of domains. It can be viewed as the GLUE benchmark of time series forecasting."
      ]
    },
    {
      "cell_type": "code",
      "execution_count": null,
      "id": "d93a3f41",
      "metadata": {
        "colab": {
          "base_uri": "https://localhost:8080/",
          "height": 332,
          "referenced_widgets": [
            "3bfaa5e3146f447c9eb2294220913af3",
            "889e8ea67e544997a8fe02687218e1b5",
            "d2eba79b2b0e4fc7829e7a16b66d9c01",
            "d247ecad211540baa33384dfe8e478b4",
            "fcd56f6fd0a74275a587d5d8da6b98df",
            "168b152c283e4774ab81ed5563599521",
            "7a0ea8f99513421d8be9c92f71356c02",
            "1b0d6ed7065b4b5a84cf8ddf17b9373b",
            "83c218a3bedc43a7abac1e4adb964a63",
            "8f524496cf044ee6ad89c96573bf39d2",
            "dbd45d2a7f5846d7aff225fa99dd7707",
            "bd9caa026f4540149fb78f3b04b6f222",
            "cc5ca3c9a676479e9079e71dadd06efb",
            "c1cedb145a1f47db9be3e1382a656a3b",
            "11486acba2a84d97997c5eb2dedba668",
            "bccf6b4100a54de58dc62e54c78fd711",
            "57a27489cd5c4906a323f557e8e6ee81",
            "b4aeb2da6a0c44e4a9d4e39e285f4981",
            "b644f5e22bed46528092e9414f6e316f",
            "d2093d68f2c14cef9293be943f52b0cd",
            "0ce71fd530ac44d6b42bc0f3e11214f7",
            "517000289bed46c0a9d5887dfb493f1c",
            "28a65379e2d24dbeba359d1d9c0bff07",
            "7f5968253901481d876fc6ea8b798d29",
            "381bbb86837d4b9abcc26ee3d24f68a6",
            "8afce63a5703496595d0d6fc5b8e1578",
            "d19ffadc882b402a99a5b12385f94e0f",
            "3d146eefb49c4681ade070eb237e2287",
            "910992ce5e5048dd826711083ad31870",
            "2d35db66448241d3b86bba853287b742",
            "bd9253a08e144fdbbf5b52bceddd147b",
            "ebba4580d5a74d66aae32922d462a049",
            "9ef61a1baa144f2b8e49a7a8a429ae7c",
            "cd4747d412a842a6bda059c4bc7e2034",
            "cd673e4be9344c0392f1621879a5dc9b",
            "843f281ba1734654a82d27d7df9e24e5",
            "8819b8b4cc4d4332a2ab1bf722c76dbd",
            "ed1436c64fa9427a8bec30f503e07013",
            "61dfa0d5fa60464a87702b41e73995db",
            "53f1252440ee408d973b48f60e1b02b9",
            "50c6a34f70a3490183d323054b5cae06",
            "3dc8f8ede51d44bd9e6bb19ec80010c5",
            "e2ea028d6db04fe8859a37fef2e4094e",
            "e5011fa0be324ac4bd07cad34c5f0d39",
            "7d5bef74a7be44a293d5b0a507320059",
            "7c903146db36455391fef003ae159125",
            "108f218192d84bd38816a0ca918286a7",
            "a0442a21dadf4e4e851ee72e3999dd78",
            "a2c8766479464c06a885fa43282f9745",
            "a0aaaa4fd74441d2952e1d35b9f621b5",
            "88657bb7ef8d435ca1cba60cc197403a",
            "8a47563612f5403198af5d5d49138438",
            "f10ccb9c03424cf79d13ad76eade1738",
            "7ad414e9fea2447a80e7c94197ed3d3c",
            "c82056decafe4a8c8d4f214c91eb2b0f",
            "82fe6354a06143ce8cf4e06e0e058b57",
            "05240f32701742d0a9df6e9c08c44ef4",
            "402d09de51344203823d7d63944d0926",
            "85b5d4e8cab841e6a62f25c92e791508",
            "96376ff5224141e38c348aa71a573ef1",
            "7fa417cf9a4944c7b2f9b12b42478632",
            "9cc1ef07391a450eb0e98f698790a694",
            "2fa9f92ca866468db0f7082ac90d4d43",
            "ce5e3eedaf08478da6c87b00202e8d0b",
            "4d3f2e2eacb8429cade7f9837ee9c0cf",
            "a0f043cbc07b4c2d9759475db00cf4a0",
            "3fa09ba187e8449b8202a7883e738003",
            "ba39a56c18aa46c8be598dbb0bf899ad",
            "e43c04c806bb4cacb7018ad597eb44a3",
            "c2c462e8ab924d8aaa1e286ef8d9c347",
            "d9614393829a470aa29a4e6586037c21",
            "ef0d328d44e74007bf5211ec380e663b",
            "c9ef87a8346d4ad8892e3d4e0b6f523d",
            "f72246a480324bf1a87c67fee910cb88",
            "72b06fb321bf4f78b57ed52908af31a3",
            "da7305dc5e474d078435bdea05668835",
            "b9563d00d78b4a81bda83ff3220ac5d3"
          ]
        },
        "id": "d93a3f41",
        "outputId": "70d328bf-c19b-4dd0-bc33-85f9ecf4228b"
      },
      "outputs": [
        {
          "output_type": "display_data",
          "data": {
            "text/plain": [
              "README.md:   0%|          | 0.00/31.2k [00:00<?, ?B/s]"
            ],
            "application/vnd.jupyter.widget-view+json": {
              "version_major": 2,
              "version_minor": 0,
              "model_id": "3bfaa5e3146f447c9eb2294220913af3"
            }
          },
          "metadata": {}
        },
        {
          "output_type": "display_data",
          "data": {
            "text/plain": [
              "monash_tsf.py:   0%|          | 0.00/25.6k [00:00<?, ?B/s]"
            ],
            "application/vnd.jupyter.widget-view+json": {
              "version_major": 2,
              "version_minor": 0,
              "model_id": "bd9caa026f4540149fb78f3b04b6f222"
            }
          },
          "metadata": {}
        },
        {
          "output_type": "display_data",
          "data": {
            "text/plain": [
              "utils.py:   0%|          | 0.00/7.54k [00:00<?, ?B/s]"
            ],
            "application/vnd.jupyter.widget-view+json": {
              "version_major": 2,
              "version_minor": 0,
              "model_id": "28a65379e2d24dbeba359d1d9c0bff07"
            }
          },
          "metadata": {}
        },
        {
          "name": "stdout",
          "output_type": "stream",
          "text": [
            "The repository for monash_tsf contains custom code which must be executed to correctly load the dataset. You can inspect the repository content at https://hf.co/datasets/monash_tsf.\n",
            "You can avoid this prompt in future by passing the argument `trust_remote_code=True`.\n",
            "\n",
            "Do you wish to run the custom code? [y/N] y\n"
          ]
        },
        {
          "output_type": "display_data",
          "data": {
            "text/plain": [
              "tourism_monthly_dataset.zip:   0%|          | 0.00/200k [00:00<?, ?B/s]"
            ],
            "application/vnd.jupyter.widget-view+json": {
              "version_major": 2,
              "version_minor": 0,
              "model_id": "cd4747d412a842a6bda059c4bc7e2034"
            }
          },
          "metadata": {}
        },
        {
          "output_type": "display_data",
          "data": {
            "text/plain": [
              "Generating train split:   0%|          | 0/366 [00:00<?, ? examples/s]"
            ],
            "application/vnd.jupyter.widget-view+json": {
              "version_major": 2,
              "version_minor": 0,
              "model_id": "7d5bef74a7be44a293d5b0a507320059"
            }
          },
          "metadata": {}
        },
        {
          "output_type": "display_data",
          "data": {
            "text/plain": [
              "Generating test split:   0%|          | 0/366 [00:00<?, ? examples/s]"
            ],
            "application/vnd.jupyter.widget-view+json": {
              "version_major": 2,
              "version_minor": 0,
              "model_id": "82fe6354a06143ce8cf4e06e0e058b57"
            }
          },
          "metadata": {}
        },
        {
          "output_type": "display_data",
          "data": {
            "text/plain": [
              "Generating validation split:   0%|          | 0/366 [00:00<?, ? examples/s]"
            ],
            "application/vnd.jupyter.widget-view+json": {
              "version_major": 2,
              "version_minor": 0,
              "model_id": "3fa09ba187e8449b8202a7883e738003"
            }
          },
          "metadata": {}
        }
      ],
      "source": [
        "from datasets import load_dataset\n",
        "\n",
        "dataset = load_dataset(\"monash_tsf\", \"tourism_monthly\")"
      ]
    },
    {
      "cell_type": "markdown",
      "id": "sG1ZNNzwpwmg",
      "metadata": {
        "id": "sG1ZNNzwpwmg"
      },
      "source": [
        "As can be seen, the dataset contains 3 splits: train, validation and test."
      ]
    },
    {
      "cell_type": "code",
      "execution_count": null,
      "id": "d45ae147",
      "metadata": {
        "colab": {
          "base_uri": "https://localhost:8080/"
        },
        "id": "d45ae147",
        "outputId": "645b8d9c-bb0c-4c86-c9bc-ebc45ac018c0"
      },
      "outputs": [
        {
          "output_type": "execute_result",
          "data": {
            "text/plain": [
              "DatasetDict({\n",
              "    train: Dataset({\n",
              "        features: ['start', 'target', 'feat_static_cat', 'feat_dynamic_real', 'item_id'],\n",
              "        num_rows: 366\n",
              "    })\n",
              "    test: Dataset({\n",
              "        features: ['start', 'target', 'feat_static_cat', 'feat_dynamic_real', 'item_id'],\n",
              "        num_rows: 366\n",
              "    })\n",
              "    validation: Dataset({\n",
              "        features: ['start', 'target', 'feat_static_cat', 'feat_dynamic_real', 'item_id'],\n",
              "        num_rows: 366\n",
              "    })\n",
              "})"
            ]
          },
          "metadata": {},
          "execution_count": 8
        }
      ],
      "source": [
        "dataset"
      ]
    },
    {
      "cell_type": "markdown",
      "id": "26KIJLY2qFXI",
      "metadata": {
        "id": "26KIJLY2qFXI"
      },
      "source": [
        "Each example contains a few keys, of which `start` and `target` are the most important ones. Let us have a look at the first time series in the dataset:"
      ]
    },
    {
      "cell_type": "code",
      "execution_count": null,
      "id": "oHlRCUPkoN1N",
      "metadata": {
        "colab": {
          "base_uri": "https://localhost:8080/"
        },
        "id": "oHlRCUPkoN1N",
        "outputId": "1dafec50-2743-48f8-fbe1-58aac80b4894"
      },
      "outputs": [
        {
          "output_type": "execute_result",
          "data": {
            "text/plain": [
              "dict_keys(['start', 'target', 'feat_static_cat', 'feat_dynamic_real', 'item_id'])"
            ]
          },
          "metadata": {},
          "execution_count": 9
        }
      ],
      "source": [
        "train_example = dataset[\"train\"][0]\n",
        "train_example.keys()"
      ]
    },
    {
      "cell_type": "markdown",
      "id": "gbVF5vAcqzJG",
      "metadata": {
        "id": "gbVF5vAcqzJG"
      },
      "source": [
        "The `start` simply indicates the start of the time series (as a datetime), and the `target` contains the actual values of the time series.\n",
        "\n",
        "The `start` will be useful to add time related features to the time series values, as extra input to the model (such as \"month of year\"). Since we know the frequency of the data is `monthly`, we know for instance that the second value has the timestamp `1979-02-01`, etc."
      ]
    },
    {
      "cell_type": "code",
      "execution_count": null,
      "id": "1PDt8bvwoUbN",
      "metadata": {
        "colab": {
          "base_uri": "https://localhost:8080/"
        },
        "id": "1PDt8bvwoUbN",
        "outputId": "b0b3e7e5-7b79-433b-ece4-2ddf4edfc9c2"
      },
      "outputs": [
        {
          "output_type": "stream",
          "name": "stdout",
          "text": [
            "1979-01-01 00:00:00\n",
            "[1149.8699951171875, 1053.8001708984375, 1388.8797607421875, 1783.3702392578125, 1921.025146484375, 2704.94482421875, 4184.41357421875, 4148.35400390625, 2620.72509765625, 1650.300048828125, 1115.9200439453125, 1370.6251220703125, 1096.31494140625, 978.4600219726562, 1294.68505859375, 1480.465087890625, 1748.865234375, 2216.920166015625, 4690.5185546875, 4682.8642578125, 2459.579833984375, 1484.4901123046875, 1028.985107421875, 1109.3648681640625, 960.8751220703125, 896.35009765625, 1118.6551513671875, 1619.9949951171875, 1847.994873046875, 2367.044921875, 4991.16015625, 4772.9443359375, 2894.678466796875, 1860.4801025390625, 1185.150146484375, 1313.659912109375, 1160.9150390625, 1061.5048828125, 1301.77001953125, 1794.3797607421875, 2106.455078125, 2789.034912109375, 4917.8466796875, 4994.4833984375, 3016.754150390625, 1941.505126953125, 1234.135009765625, 1378.72021484375, 1182.9749755859375, 1081.6600341796875, 1424.110107421875, 1774.5350341796875, 2115.420166015625, 2804.840087890625, 4849.498046875, 4937.47509765625, 3074.2236328125, 2063.42529296875, 1297.355224609375, 1350.710205078125, 1224.360107421875, 1165.815185546875, 1409.3299560546875, 2116.5498046875, 2357.135009765625, 2995.0703125, 5295.2119140625, 4957.90478515625, 3321.959228515625, 2221.18017578125, 1345.9000244140625, 1514.01513671875, 1239.5501708984375, 1172.159912109375, 1518.9752197265625, 1996.8751220703125, 2248.68505859375, 3053.440185546875, 5019.45361328125, 5466.7802734375, 3235.167724609375, 2157.97998046875, 1379.7252197265625, 1728.0400390625, 1350.10986328125, 1216.014892578125, 1751.3251953125, 1805.320068359375, 2570.02490234375, 3204.240234375, 5395.72021484375, 6078.82861328125, 3587.098388671875, 2285.195068359375, 1582.18994140625, 1787.4298095703125, 1554.8701171875, 1409.8648681640625, 1612.125, 2286.239990234375, 2913.755126953125, 3645.908447265625, 5956.70849609375, 6326.97509765625, 3914.66015625, 2617.675048828125, 1675.1650390625, 2139.219970703125, 1715.4898681640625, 1663.5799560546875, 2053.699951171875, 2354.929931640625, 3038.591796875, 3470.609375, 6606.18359375, 6587.63671875, 4133.78271484375, 2960.0244140625, 1762.5849609375, 2125.64013671875, 1815.9150390625, 1632.31494140625, 2210.39501953125, 2210.215087890625, 3099.269287109375, 3468.77783203125, 6482.92529296875, 6665.48486328125, 4006.36181640625, 2882.3349609375, 1775.2498779296875, 2171.64990234375, 1796.4749755859375, 1692.349853515625, 1949.78515625, 2680.630126953125, 2645.949951171875, 3414.742919921875, 5772.876953125]\n"
          ]
        }
      ],
      "source": [
        "print(train_example[\"start\"])\n",
        "print(train_example[\"target\"])"
      ]
    },
    {
      "cell_type": "markdown",
      "id": "DfkPxhCkquKL",
      "metadata": {
        "id": "DfkPxhCkquKL"
      },
      "source": [
        "The validation set contains the same data as the training set, just for a `prediction_length` longer amount of time. This allows us to validate the model's predictions against the ground truth.\n",
        "\n",
        "The test set is again one `prediction_length` longer data compared to the validation set (or some multiple of  `prediction_length` longer data compared to the training set for testing on multiple rolling windows)."
      ]
    },
    {
      "cell_type": "code",
      "execution_count": null,
      "id": "eRQhm4EGpa0y",
      "metadata": {
        "colab": {
          "base_uri": "https://localhost:8080/"
        },
        "id": "eRQhm4EGpa0y",
        "outputId": "f9e92844-a042-4307-a95d-d9f3d39580d8"
      },
      "outputs": [
        {
          "output_type": "execute_result",
          "data": {
            "text/plain": [
              "dict_keys(['start', 'target', 'feat_static_cat', 'feat_dynamic_real', 'item_id'])"
            ]
          },
          "metadata": {},
          "execution_count": 11
        }
      ],
      "source": [
        "validation_example = dataset[\"validation\"][0]\n",
        "validation_example.keys()"
      ]
    },
    {
      "cell_type": "markdown",
      "id": "x5PI_Jn7rDfj",
      "metadata": {
        "id": "x5PI_Jn7rDfj"
      },
      "source": [
        "The initial values are exactly the same as the corresponding training example:"
      ]
    },
    {
      "cell_type": "code",
      "execution_count": null,
      "id": "yHQnXZbUpg8q",
      "metadata": {
        "colab": {
          "base_uri": "https://localhost:8080/"
        },
        "id": "yHQnXZbUpg8q",
        "outputId": "5b7a9bfa-3adb-46c4-cf91-f370a81de4a0"
      },
      "outputs": [
        {
          "output_type": "stream",
          "name": "stdout",
          "text": [
            "1979-01-01 00:00:00\n",
            "[1149.8699951171875, 1053.8001708984375, 1388.8797607421875, 1783.3702392578125, 1921.025146484375, 2704.94482421875, 4184.41357421875, 4148.35400390625, 2620.72509765625, 1650.300048828125, 1115.9200439453125, 1370.6251220703125, 1096.31494140625, 978.4600219726562, 1294.68505859375, 1480.465087890625, 1748.865234375, 2216.920166015625, 4690.5185546875, 4682.8642578125, 2459.579833984375, 1484.4901123046875, 1028.985107421875, 1109.3648681640625, 960.8751220703125, 896.35009765625, 1118.6551513671875, 1619.9949951171875, 1847.994873046875, 2367.044921875, 4991.16015625, 4772.9443359375, 2894.678466796875, 1860.4801025390625, 1185.150146484375, 1313.659912109375, 1160.9150390625, 1061.5048828125, 1301.77001953125, 1794.3797607421875, 2106.455078125, 2789.034912109375, 4917.8466796875, 4994.4833984375, 3016.754150390625, 1941.505126953125, 1234.135009765625, 1378.72021484375, 1182.9749755859375, 1081.6600341796875, 1424.110107421875, 1774.5350341796875, 2115.420166015625, 2804.840087890625, 4849.498046875, 4937.47509765625, 3074.2236328125, 2063.42529296875, 1297.355224609375, 1350.710205078125, 1224.360107421875, 1165.815185546875, 1409.3299560546875, 2116.5498046875, 2357.135009765625, 2995.0703125, 5295.2119140625, 4957.90478515625, 3321.959228515625, 2221.18017578125, 1345.9000244140625, 1514.01513671875, 1239.5501708984375, 1172.159912109375, 1518.9752197265625, 1996.8751220703125, 2248.68505859375, 3053.440185546875, 5019.45361328125, 5466.7802734375, 3235.167724609375, 2157.97998046875, 1379.7252197265625, 1728.0400390625, 1350.10986328125, 1216.014892578125, 1751.3251953125, 1805.320068359375, 2570.02490234375, 3204.240234375, 5395.72021484375, 6078.82861328125, 3587.098388671875, 2285.195068359375, 1582.18994140625, 1787.4298095703125, 1554.8701171875, 1409.8648681640625, 1612.125, 2286.239990234375, 2913.755126953125, 3645.908447265625, 5956.70849609375, 6326.97509765625, 3914.66015625, 2617.675048828125, 1675.1650390625, 2139.219970703125, 1715.4898681640625, 1663.5799560546875, 2053.699951171875, 2354.929931640625, 3038.591796875, 3470.609375, 6606.18359375, 6587.63671875, 4133.78271484375, 2960.0244140625, 1762.5849609375, 2125.64013671875, 1815.9150390625, 1632.31494140625, 2210.39501953125, 2210.215087890625, 3099.269287109375, 3468.77783203125, 6482.92529296875, 6665.48486328125, 4006.36181640625, 2882.3349609375, 1775.2498779296875, 2171.64990234375, 1796.4749755859375, 1692.349853515625, 1949.78515625, 2680.630126953125, 2645.949951171875, 3414.742919921875, 5772.876953125, 6053.7041015625, 3878.12841796875, 2806.514892578125, 1735.5382080078125, 2128.919921875, 1608.01416015625, 1441.330078125, 2068.235107421875, 2207.610107421875, 2918.409912109375, 3400.81787109375, 6048.7421875, 6483.14013671875, 4063.502685546875, 2900.22998046875, 1907.094970703125, 2338.510009765625, 1787.1650390625, 1699.6451416015625, 1979.105224609375, 2824.260009765625, 3076.5048828125, 3402.5849609375, 5985.830078125]\n"
          ]
        }
      ],
      "source": [
        "print(validation_example[\"start\"])\n",
        "print(validation_example[\"target\"])"
      ]
    },
    {
      "cell_type": "markdown",
      "id": "vQU8V7hPrIZA",
      "metadata": {
        "id": "vQU8V7hPrIZA"
      },
      "source": [
        "However, this example has `prediction_length=24` additional values compared to the training example. Let us verify it."
      ]
    },
    {
      "cell_type": "code",
      "execution_count": null,
      "id": "__j4Z5Ohp8gg",
      "metadata": {
        "id": "__j4Z5Ohp8gg"
      },
      "outputs": [],
      "source": [
        "freq = \"1M\"\n",
        "prediction_length = 24\n",
        "\n",
        "assert len(train_example[\"target\"]) + prediction_length == len(\n",
        "    validation_example[\"target\"]\n",
        ")"
      ]
    },
    {
      "cell_type": "markdown",
      "id": "PGq2e9D-rhtg",
      "metadata": {
        "id": "PGq2e9D-rhtg"
      },
      "source": [
        "Let's visualize this:"
      ]
    },
    {
      "cell_type": "code",
      "execution_count": null,
      "id": "cYDyml0tsnlL",
      "metadata": {
        "colab": {
          "base_uri": "https://localhost:8080/",
          "height": 430
        },
        "id": "cYDyml0tsnlL",
        "outputId": "18201c88-83cf-4579-d15c-b96a36c26ea3"
      },
      "outputs": [
        {
          "output_type": "display_data",
          "data": {
            "text/plain": [
              "<Figure size 640x480 with 1 Axes>"
            ],
            "image/png": "[encoded data removed]"
          },
          "metadata": {}
        }
      ],
      "source": [
        "import matplotlib.pyplot as plt\n",
        "\n",
        "figure, axes = plt.subplots()\n",
        "axes.plot(train_example[\"target\"], color=\"blue\")\n",
        "axes.plot(validation_example[\"target\"], color=\"red\", alpha=0.5)\n",
        "\n",
        "plt.show()"
      ]
    },
    {
      "cell_type": "markdown",
      "id": "4pGV6_ZduUaA",
      "metadata": {
        "id": "4pGV6_ZduUaA"
      },
      "source": [
        "Let's split up the data:"
      ]
    },
    {
      "cell_type": "code",
      "execution_count": null,
      "id": "7eb15a6a",
      "metadata": {
        "id": "7eb15a6a"
      },
      "outputs": [],
      "source": [
        "train_dataset = dataset[\"train\"]\n",
        "test_dataset = dataset[\"test\"]"
      ]
    },
    {
      "cell_type": "markdown",
      "id": "0125722c",
      "metadata": {
        "id": "0125722c"
      },
      "source": [
        "## Update `start` to `pd.Period`\n",
        "\n",
        "The first thing we'll do is convert the `start` feature of each time series to a pandas `Period` index using the data's `freq`:"
      ]
    },
    {
      "cell_type": "code",
      "execution_count": null,
      "id": "249a9da4",
      "metadata": {
        "id": "249a9da4"
      },
      "outputs": [],
      "source": [
        "from functools import lru_cache\n",
        "\n",
        "import pandas as pd\n",
        "import numpy as np\n",
        "\n",
        "\n",
        "@lru_cache(10_000)\n",
        "def convert_to_pandas_period(date, freq):\n",
        "    return pd.Period(date, freq)\n",
        "\n",
        "\n",
        "def transform_start_field(batch, freq):\n",
        "    batch[\"start\"] = [convert_to_pandas_period(date, freq) for date in batch[\"start\"]]\n",
        "    return batch"
      ]
    },
    {
      "cell_type": "markdown",
      "id": "D7goNkUB1MPB",
      "metadata": {
        "id": "D7goNkUB1MPB"
      },
      "source": [
        "We now use `datasets`' [`set_transform`](https://huggingface.co/docs/datasets/v2.7.0/en/package_reference/main_classes#datasets.Dataset.set_transform) functionality to do this on-the-fly in place:"
      ]
    },
    {
      "cell_type": "code",
      "execution_count": null,
      "id": "b43c7551",
      "metadata": {
        "id": "b43c7551"
      },
      "outputs": [],
      "source": [
        "from functools import partial\n",
        "\n",
        "train_dataset.set_transform(partial(transform_start_field, freq=freq))\n",
        "test_dataset.set_transform(partial(transform_start_field, freq=freq))"
      ]
    },
    {
      "cell_type": "markdown",
      "id": "50efb119",
      "metadata": {
        "id": "50efb119"
      },
      "source": [
        "## Define the model\n",
        "\n",
        "Next, let's instantiate a model. The model will be trained from scratch, hence we won't use the `from_pretrained` method here, but rather randomly initialize the model from a [`config`](https://huggingface.co/docs/transformers/model_doc/time_series_transformer#transformers.TimeSeriesTransformerConfig).\n",
        "\n",
        "We specify a couple of additional parameters to the model:\n",
        "- `prediction_length` (in our case, `24` months): this is the horizon that the decoder of the Transformer will learn to predict for;\n",
        "- `context_length`: the model will set the `context_length` (input of the encoder) equal to the `prediction_length`, if no `context_length` is specified;\n",
        "- `lags` for a given frequency: these specify how much we \"look back\", to be added as additional features. e.g. for a `Daily` frequency we might consider a look back of `[1, 2, 7, 30, ...]` or in other words look back 1, 2, ... days while for `Minute` data we might consider `[1, 30, 60, 60*24, ...]` etc.;\n",
        "- the number of time features: in our case, this will be `2` as we'll add `MonthOfYear` and `Age` features;\n",
        "- the number of static categorical features: in our case, this will be just `1` as we'll add a single \"time series ID\" feature;\n",
        "- the cardinality: the number of values of each static categorical feature, as a list which for our case will be `[366]` as we have 366 different time series\n",
        "- the embedding dimension: the embedding dimension for each static categorical feature, as a list, for example `[3]` meaning the model will learn an embedding vector of size `3` for each of the `366` time series (regions).\n"
      ]
    },
    {
      "cell_type": "markdown",
      "id": "0z4YFov8CNUu",
      "metadata": {
        "id": "0z4YFov8CNUu"
      },
      "source": [
        "Let's use the default lags provided by GluonTS for the given frequency (\"monthly\"):"
      ]
    },
    {
      "cell_type": "code",
      "execution_count": null,
      "id": "6CF4M8Ms7W-q",
      "metadata": {
        "colab": {
          "base_uri": "https://localhost:8080/"
        },
        "id": "6CF4M8Ms7W-q",
        "outputId": "2cd3e03e-f727-4df7-e096-9a83f92cc568"
      },
      "outputs": [
        {
          "output_type": "stream",
          "name": "stdout",
          "text": [
            "[1, 2, 3, 4, 5, 6, 7, 11, 12, 13, 23, 24, 25, 35, 36, 37]\n"
          ]
        },
        {
          "output_type": "stream",
          "name": "stderr",
          "text": [
            "/usr/local/lib/python3.11/dist-packages/gluonts/time_feature/lag.py:104: FutureWarning: 'M' is deprecated and will be removed in a future version, please use 'ME' instead.\n",
            "  offset = to_offset(freq_str)\n"
          ]
        }
      ],
      "source": [
        "from gluonts.time_feature import get_lags_for_frequency\n",
        "\n",
        "lags_sequence = get_lags_for_frequency(freq)\n",
        "print(lags_sequence)"
      ]
    },
    {
      "cell_type": "markdown",
      "id": "q6ZuFx8yCSAM",
      "metadata": {
        "id": "q6ZuFx8yCSAM"
      },
      "source": [
        "This means that we'll look back up to 37 months for each time step, as additional features.\n",
        "\n",
        "Let's also check the default time features which GluonTS provides us:"
      ]
    },
    {
      "cell_type": "code",
      "execution_count": null,
      "id": "VlP_0E5I76lg",
      "metadata": {
        "colab": {
          "base_uri": "https://localhost:8080/"
        },
        "id": "VlP_0E5I76lg",
        "outputId": "2b39ecb8-43d6-4ed3-da42-7e7475fc6080"
      },
      "outputs": [
        {
          "output_type": "stream",
          "name": "stdout",
          "text": [
            "[<function month_of_year at 0x7c2e9be69da0>]\n"
          ]
        },
        {
          "output_type": "stream",
          "name": "stderr",
          "text": [
            "/usr/local/lib/python3.11/dist-packages/gluonts/time_feature/_base.py:249: FutureWarning: 'M' is deprecated and will be removed in a future version, please use 'ME' instead.\n",
            "  offset = to_offset(freq_str)\n"
          ]
        }
      ],
      "source": [
        "from gluonts.time_feature import time_features_from_frequency_str\n",
        "\n",
        "time_features = time_features_from_frequency_str(freq)\n",
        "print(time_features)"
      ]
    },
    {
      "cell_type": "markdown",
      "id": "m0_f7lm9CbNG",
      "metadata": {
        "id": "m0_f7lm9CbNG"
      },
      "source": [
        "In this case, there's only a single feature, namely \"month of year\". This means that for each time step, we'll add the month as a scalar value (e.g. `1` in case the timestamp is \"january\", `2` in case the timestamp is \"february\", etc.).\n",
        "\n",
        "We now have everything to define the model:"
      ]
    },
    {
      "cell_type": "code",
      "execution_count": null,
      "id": "3dda0e78",
      "metadata": {
        "id": "3dda0e78"
      },
      "outputs": [],
      "source": [
        "from transformers import TimeSeriesTransformerConfig, TimeSeriesTransformerForPrediction\n",
        "\n",
        "config = TimeSeriesTransformerConfig(\n",
        "    prediction_length=prediction_length,\n",
        "    # context length:\n",
        "    context_length=prediction_length * 2,\n",
        "    # lags coming from helper given the freq:\n",
        "    lags_sequence=lags_sequence,\n",
        "    # we'll add 2 time features (\"month of year\" and \"age\", see further):\n",
        "    num_time_features=len(time_features) + 1,\n",
        "    # we have a single static categorical feature, namely time series ID:\n",
        "    num_static_categorical_features=1,\n",
        "    # it has 366 possible values:\n",
        "    cardinality=[len(train_dataset)],\n",
        "    # the model will learn an embedding of size 2 for each of the 366 possible values:\n",
        "    embedding_dimension=[2],\n",
        "\n",
        "    # transformer params:\n",
        "    encoder_layers=4,\n",
        "    decoder_layers=4,\n",
        "    d_model=32,\n",
        ")\n",
        "\n",
        "model = TimeSeriesTransformerForPrediction(config)"
      ]
    },
    {
      "cell_type": "markdown",
      "id": "T6rCeV4dsUnF",
      "metadata": {
        "id": "T6rCeV4dsUnF"
      },
      "source": [
        "Note that, similar to other models in the 🤗 Transformers library, [`TimeSeriesTransformerModel`](https://huggingface.co/docs/transformers/model_doc/time_series_transformer#transformers.TimeSeriesTransformerModel) corresponds to the encoder-decoder Transformer without any head on top, and [`TimeSeriesTransformerForPrediction`](https://huggingface.co/docs/transformers/model_doc/time_series_transformer#transformers.TimeSeriesTransformerForPrediction) corresponds to `TimeSeriesTransformerModel` with a **distribution head** on top. By default, the model uses a Student-t distribution (but this is configurable):"
      ]
    },
    {
      "cell_type": "code",
      "execution_count": null,
      "id": "EaoKZyujsuIA",
      "metadata": {
        "colab": {
          "base_uri": "https://localhost:8080/",
          "height": 35
        },
        "id": "EaoKZyujsuIA",
        "outputId": "0d82be6e-7163-4343-fa74-a30e90e9616b"
      },
      "outputs": [
        {
          "output_type": "execute_result",
          "data": {
            "text/plain": [
              "'student_t'"
            ],
            "application/vnd.google.colaboratory.intrinsic+json": {
              "type": "string"
            }
          },
          "metadata": {},
          "execution_count": 21
        }
      ],
      "source": [
        "model.config.distribution_output"
      ]
    },
    {
      "cell_type": "markdown",
      "id": "feQYVhgus-yl",
      "metadata": {
        "id": "feQYVhgus-yl"
      },
      "source": [
        "This is an important difference with Transformers for NLP, where the head typically consists of a fixed categorical distribution implemented as an `nn.Linear` layer."
      ]
    },
    {
      "cell_type": "markdown",
      "id": "af82c60d",
      "metadata": {
        "id": "af82c60d"
      },
      "source": [
        "## Define Transformations\n",
        "\n",
        "Next, we define the transformations for the data, in particular for the creation of the time features (based on the dataset or universal ones).\n",
        "\n",
        "Again, we'll use the GluonTS library for this. We define a `Chain` of transformations (which is a bit comparable to `torchvision.transforms.Compose` for images). It allows us to combine several transformations into a single pipeline."
      ]
    },
    {
      "cell_type": "code",
      "execution_count": null,
      "id": "tR87yKPSn8SZ",
      "metadata": {
        "id": "tR87yKPSn8SZ"
      },
      "outputs": [],
      "source": [
        "from gluonts.time_feature import (\n",
        "    time_features_from_frequency_str,\n",
        "    TimeFeature,\n",
        "    get_lags_for_frequency,\n",
        ")\n",
        "from gluonts.dataset.field_names import FieldName\n",
        "from gluonts.transform import (\n",
        "    AddAgeFeature,\n",
        "    AddObservedValuesIndicator,\n",
        "    AddTimeFeatures,\n",
        "    AsNumpyArray,\n",
        "    Chain,\n",
        "    ExpectedNumInstanceSampler,\n",
        "    InstanceSplitter,\n",
        "    RemoveFields,\n",
        "    SelectFields,\n",
        "    SetField,\n",
        "    TestSplitSampler,\n",
        "    Transformation,\n",
        "    ValidationSplitSampler,\n",
        "    VstackFeatures,\n",
        "    RenameFields,\n",
        ")"
      ]
    },
    {
      "cell_type": "markdown",
      "id": "4Qql4CInFWO7",
      "metadata": {
        "id": "4Qql4CInFWO7"
      },
      "source": [
        "The transformations below are annotated with comments, to explain what they do. At a high level, we will iterate over the individual time series of our dataset and add/remove fields or features:"
      ]
    },
    {
      "cell_type": "code",
      "execution_count": null,
      "id": "20fe036e",
      "metadata": {
        "id": "20fe036e"
      },
      "outputs": [],
      "source": [
        "from transformers import PretrainedConfig\n",
        "\n",
        "\n",
        "def create_transformation(freq: str, config: PretrainedConfig) -> Transformation:\n",
        "    remove_field_names = []\n",
        "    if config.num_static_real_features == 0:\n",
        "        remove_field_names.append(FieldName.FEAT_STATIC_REAL)\n",
        "    if config.num_dynamic_real_features == 0:\n",
        "        remove_field_names.append(FieldName.FEAT_DYNAMIC_REAL)\n",
        "    if config.num_static_categorical_features == 0:\n",
        "        remove_field_names.append(FieldName.FEAT_STATIC_CAT)\n",
        "\n",
        "    # a bit like torchvision.transforms.Compose\n",
        "    return Chain(\n",
        "        # step 1: remove static/dynamic fields if not specified\n",
        "        [RemoveFields(field_names=remove_field_names)]\n",
        "        # step 2: convert the data to NumPy (potentially not needed)\n",
        "        + (\n",
        "            [\n",
        "                AsNumpyArray(\n",
        "                    field=FieldName.FEAT_STATIC_CAT,\n",
        "                    expected_ndim=1,\n",
        "                    dtype=int,\n",
        "                )\n",
        "            ]\n",
        "            if config.num_static_categorical_features > 0\n",
        "            else []\n",
        "        )\n",
        "        + (\n",
        "            [\n",
        "                AsNumpyArray(\n",
        "                    field=FieldName.FEAT_STATIC_REAL,\n",
        "                    expected_ndim=1,\n",
        "                )\n",
        "            ]\n",
        "            if config.num_static_real_features > 0\n",
        "            else []\n",
        "        )\n",
        "        + [\n",
        "            AsNumpyArray(\n",
        "                field=FieldName.TARGET,\n",
        "                # we expect an extra dim for the multivariate case:\n",
        "                expected_ndim=1 if config.input_size == 1 else 2,\n",
        "            ),\n",
        "            # step 3: handle the NaN's by filling in the target with zero\n",
        "            # and return the mask (which is in the observed values)\n",
        "            # true for observed values, false for nan's\n",
        "            # the decoder uses this mask (no loss is incurred for unobserved values)\n",
        "            # see loss_weights inside the xxxForPrediction model\n",
        "            AddObservedValuesIndicator(\n",
        "                target_field=FieldName.TARGET,\n",
        "                output_field=FieldName.OBSERVED_VALUES,\n",
        "            ),\n",
        "            # step 4: add temporal features based on freq of the dataset\n",
        "            # month of year in the case when freq=\"M\"\n",
        "            # these serve as positional encodings\n",
        "            AddTimeFeatures(\n",
        "                start_field=FieldName.START,\n",
        "                target_field=FieldName.TARGET,\n",
        "                output_field=FieldName.FEAT_TIME,\n",
        "                time_features=time_features_from_frequency_str(freq),\n",
        "                pred_length=config.prediction_length,\n",
        "            ),\n",
        "            # step 5: add another temporal feature (just a single number)\n",
        "            # tells the model where in the life the value of the time series is\n",
        "            # sort of running counter\n",
        "            AddAgeFeature(\n",
        "                target_field=FieldName.TARGET,\n",
        "                output_field=FieldName.FEAT_AGE,\n",
        "                pred_length=config.prediction_length,\n",
        "                log_scale=True,\n",
        "            ),\n",
        "            # step 6: vertically stack all the temporal features into the key FEAT_TIME\n",
        "            VstackFeatures(\n",
        "                output_field=FieldName.FEAT_TIME,\n",
        "                input_fields=[FieldName.FEAT_TIME, FieldName.FEAT_AGE]\n",
        "                + (\n",
        "                    [FieldName.FEAT_DYNAMIC_REAL]\n",
        "                    if config.num_dynamic_real_features > 0\n",
        "                    else []\n",
        "                ),\n",
        "            ),\n",
        "            # step 7: rename to match HuggingFace names\n",
        "            RenameFields(\n",
        "                mapping={\n",
        "                    FieldName.FEAT_STATIC_CAT: \"static_categorical_features\",\n",
        "                    FieldName.FEAT_STATIC_REAL: \"static_real_features\",\n",
        "                    FieldName.FEAT_TIME: \"time_features\",\n",
        "                    FieldName.TARGET: \"values\",\n",
        "                    FieldName.OBSERVED_VALUES: \"observed_mask\",\n",
        "                }\n",
        "            ),\n",
        "        ]\n",
        "    )"
      ]
    },
    {
      "cell_type": "markdown",
      "id": "8bab46d0",
      "metadata": {
        "id": "8bab46d0"
      },
      "source": [
        "## Define `InstanceSplitter`\n",
        "\n",
        "For training/validation/testing we next create an `InstanceSplitter` which is used to sample windows from the dataset (as, remember, we can't pass the entire history of values to the Transformer due to time- and memory constraints).\n",
        "\n",
        "The instance splitter samples random `context_length` sized and subsequent `prediction_length` sized windows from the data, and appends a `past_` or `future_` key to any temporal keys for the respective windows. This makes sure that the `values` will be split into `past_values` and subsequent `future_values` keys, which will serve as the encoder and decoder inputs respectively. The same happens for any keys in the `time_series_fields` argument:"
      ]
    },
    {
      "cell_type": "code",
      "execution_count": null,
      "id": "cae7600d",
      "metadata": {
        "id": "cae7600d"
      },
      "outputs": [],
      "source": [
        "from gluonts.transform.sampler import InstanceSampler\n",
        "from typing import Optional\n",
        "\n",
        "\n",
        "def create_instance_splitter(\n",
        "    config: PretrainedConfig,\n",
        "    mode: str,\n",
        "    train_sampler: Optional[InstanceSampler] = None,\n",
        "    validation_sampler: Optional[InstanceSampler] = None,\n",
        ") -> Transformation:\n",
        "    assert mode in [\"train\", \"validation\", \"test\"]\n",
        "\n",
        "    instance_sampler = {\n",
        "        \"train\": train_sampler\n",
        "        or ExpectedNumInstanceSampler(\n",
        "            num_instances=1.0, min_future=config.prediction_length\n",
        "        ),\n",
        "        \"validation\": validation_sampler\n",
        "        or ValidationSplitSampler(min_future=config.prediction_length),\n",
        "        \"test\": TestSplitSampler(),\n",
        "    }[mode]\n",
        "\n",
        "    return InstanceSplitter(\n",
        "        target_field=\"values\",\n",
        "        is_pad_field=FieldName.IS_PAD,\n",
        "        start_field=FieldName.START,\n",
        "        forecast_start_field=FieldName.FORECAST_START,\n",
        "        instance_sampler=instance_sampler,\n",
        "        past_length=config.context_length + max(config.lags_sequence),\n",
        "        future_length=config.prediction_length,\n",
        "        time_series_fields=[\"time_features\", \"observed_mask\"],\n",
        "    )"
      ]
    },
    {
      "cell_type": "markdown",
      "id": "958e050d",
      "metadata": {
        "id": "958e050d"
      },
      "source": [
        "## Create DataLoaders\n",
        "\n",
        "Next, it's time to create the DataLoaders, which allow us to have batches of (input, output pairs) - or in other words (`past_values`, `future_values`)."
      ]
    },
    {
      "cell_type": "code",
      "execution_count": null,
      "id": "6995101c",
      "metadata": {
        "id": "6995101c"
      },
      "outputs": [],
      "source": [
        "from typing import Iterable\n",
        "\n",
        "import torch\n",
        "from gluonts.itertools import Cyclic, Cached\n",
        "from gluonts.dataset.loader import as_stacked_batches\n",
        "\n",
        "\n",
        "def create_train_dataloader(\n",
        "    config: PretrainedConfig,\n",
        "    freq,\n",
        "    data,\n",
        "    batch_size: int,\n",
        "    num_batches_per_epoch: int,\n",
        "    shuffle_buffer_length: Optional[int] = None,\n",
        "    cache_data: bool = True,\n",
        "    **kwargs,\n",
        ") -> Iterable:\n",
        "    PREDICTION_INPUT_NAMES = [\n",
        "        \"past_time_features\",\n",
        "        \"past_values\",\n",
        "        \"past_observed_mask\",\n",
        "        \"future_time_features\",\n",
        "    ]\n",
        "    if config.num_static_categorical_features > 0:\n",
        "        PREDICTION_INPUT_NAMES.append(\"static_categorical_features\")\n",
        "\n",
        "    if config.num_static_real_features > 0:\n",
        "        PREDICTION_INPUT_NAMES.append(\"static_real_features\")\n",
        "\n",
        "    TRAINING_INPUT_NAMES = PREDICTION_INPUT_NAMES + [\n",
        "        \"future_values\",\n",
        "        \"future_observed_mask\",\n",
        "    ]\n",
        "\n",
        "    transformation = create_transformation(freq, config)\n",
        "    transformed_data = transformation.apply(data, is_train=True)\n",
        "    if cache_data:\n",
        "        transformed_data = Cached(transformed_data)\n",
        "\n",
        "    # we initialize a Training instance\n",
        "    instance_splitter = create_instance_splitter(config, \"train\")\n",
        "\n",
        "    # the instance splitter will sample a window of\n",
        "    # context length + lags + prediction length (from the 366 possible transformed time series)\n",
        "    # randomly from within the target time series and return an iterator.\n",
        "    stream = Cyclic(transformed_data).stream()\n",
        "    training_instances = instance_splitter.apply(\n",
        "        stream, is_train=True\n",
        "    )\n",
        "\n",
        "    return as_stacked_batches(\n",
        "        training_instances,\n",
        "        batch_size=batch_size,\n",
        "        shuffle_buffer_length=shuffle_buffer_length,\n",
        "        field_names=TRAINING_INPUT_NAMES,\n",
        "        output_type=torch.tensor,\n",
        "        num_batches_per_epoch=num_batches_per_epoch,\n",
        "    )"
      ]
    },
    {
      "cell_type": "code",
      "execution_count": null,
      "id": "10c55455",
      "metadata": {
        "id": "10c55455"
      },
      "outputs": [],
      "source": [
        "def create_test_dataloader(\n",
        "    config: PretrainedConfig,\n",
        "    freq,\n",
        "    data,\n",
        "    batch_size: int,\n",
        "    **kwargs,\n",
        "):\n",
        "    PREDICTION_INPUT_NAMES = [\n",
        "        \"past_time_features\",\n",
        "        \"past_values\",\n",
        "        \"past_observed_mask\",\n",
        "        \"future_time_features\",\n",
        "    ]\n",
        "    if config.num_static_categorical_features > 0:\n",
        "        PREDICTION_INPUT_NAMES.append(\"static_categorical_features\")\n",
        "\n",
        "    if config.num_static_real_features > 0:\n",
        "        PREDICTION_INPUT_NAMES.append(\"static_real_features\")\n",
        "\n",
        "    transformation = create_transformation(freq, config)\n",
        "    transformed_data = transformation.apply(data, is_train=False)\n",
        "\n",
        "    # we create a Test Instance splitter which will sample the very last\n",
        "    # context window seen during training only for the encoder.\n",
        "    instance_sampler = create_instance_splitter(config, \"test\")\n",
        "\n",
        "    # we apply the transformations in test mode\n",
        "    testing_instances = instance_sampler.apply(transformed_data, is_train=False)\n",
        "\n",
        "    return as_stacked_batches(\n",
        "        testing_instances,\n",
        "        batch_size=batch_size,\n",
        "        output_type=torch.tensor,\n",
        "        field_names=PREDICTION_INPUT_NAMES,\n",
        "    )"
      ]
    },
    {
      "cell_type": "code",
      "execution_count": null,
      "id": "20e2338b",
      "metadata": {
        "id": "20e2338b",
        "colab": {
          "base_uri": "https://localhost:8080/"
        },
        "outputId": "27fdf4b6-bfeb-4c41-a720-a0e5bd8ca6dc"
      },
      "outputs": [
        {
          "output_type": "stream",
          "name": "stderr",
          "text": [
            "/usr/local/lib/python3.11/dist-packages/gluonts/time_feature/_base.py:249: FutureWarning: 'M' is deprecated and will be removed in a future version, please use 'ME' instead.\n",
            "  offset = to_offset(freq_str)\n"
          ]
        }
      ],
      "source": [
        "train_dataloader = create_train_dataloader(\n",
        "    config=config,\n",
        "    freq=freq,\n",
        "    data=train_dataset,\n",
        "    batch_size=256,\n",
        "    num_batches_per_epoch=100,\n",
        ")\n",
        "\n",
        "test_dataloader = create_test_dataloader(\n",
        "    config=config,\n",
        "    freq=freq,\n",
        "    data=test_dataset,\n",
        "    batch_size=64,\n",
        ")"
      ]
    },
    {
      "cell_type": "markdown",
      "id": "ES2U8g-2G2Jd",
      "metadata": {
        "id": "ES2U8g-2G2Jd"
      },
      "source": [
        "Let's check the first batch:"
      ]
    },
    {
      "cell_type": "code",
      "execution_count": null,
      "id": "YU2h9OOB5IsX",
      "metadata": {
        "colab": {
          "base_uri": "https://localhost:8080/"
        },
        "id": "YU2h9OOB5IsX",
        "outputId": "7cdd9938-e189-49f4-af51-9bea29fd14ed"
      },
      "outputs": [
        {
          "output_type": "stream",
          "name": "stdout",
          "text": [
            "past_time_features torch.Size([256, 85, 2]) torch.FloatTensor\n",
            "past_values torch.Size([256, 85]) torch.FloatTensor\n",
            "past_observed_mask torch.Size([256, 85]) torch.FloatTensor\n",
            "future_time_features torch.Size([256, 24, 2]) torch.FloatTensor\n",
            "static_categorical_features torch.Size([256, 1]) torch.LongTensor\n",
            "future_values torch.Size([256, 24]) torch.FloatTensor\n",
            "future_observed_mask torch.Size([256, 24]) torch.FloatTensor\n"
          ]
        }
      ],
      "source": [
        "batch = next(iter(train_dataloader))\n",
        "for k, v in batch.items():\n",
        "    print(k, v.shape, v.type())"
      ]
    },
    {
      "cell_type": "markdown",
      "id": "HvvPlSF8HBYd",
      "metadata": {
        "id": "HvvPlSF8HBYd"
      },
      "source": [
        "As can be seen, we don't feed `input_ids` and `attention_mask` to the encoder (as would be the case for NLP models), but rather `past_values`, along with `past_observed_mask`, `past_time_features`, and `static_categorical_features`.\n",
        "\n",
        "The decoder inputs consist of `future_values`, `future_observed_mask` and `future_time_features`. The `future_values` can be seen as the equivalent of `decoder_input_ids` in NLP.\n",
        "\n",
        "We refer to the [docs](https://huggingface.co/docs/transformers/model_doc/time_series_transformer#transformers.TimeSeriesTransformerForPrediction.forward.past_values) for a detailed explanation for each of them."
      ]
    },
    {
      "cell_type": "markdown",
      "id": "_cev4ufVv1yf",
      "metadata": {
        "id": "_cev4ufVv1yf"
      },
      "source": [
        "## Forward pass\n",
        "\n",
        "Let's perform a single forward pass with the batch we just created:"
      ]
    },
    {
      "cell_type": "code",
      "execution_count": null,
      "id": "sD8fav6qTApR",
      "metadata": {
        "id": "sD8fav6qTApR"
      },
      "outputs": [],
      "source": [
        "# perform forward pass\n",
        "outputs = model(\n",
        "    past_values=batch[\"past_values\"],\n",
        "    past_time_features=batch[\"past_time_features\"],\n",
        "    past_observed_mask=batch[\"past_observed_mask\"],\n",
        "    static_categorical_features=batch[\"static_categorical_features\"]\n",
        "    if config.num_static_categorical_features > 0\n",
        "    else None,\n",
        "    static_real_features=batch[\"static_real_features\"]\n",
        "    if config.num_static_real_features > 0\n",
        "    else None,\n",
        "    future_values=batch[\"future_values\"],\n",
        "    future_time_features=batch[\"future_time_features\"],\n",
        "    future_observed_mask=batch[\"future_observed_mask\"],\n",
        "    output_hidden_states=True,\n",
        ")"
      ]
    },
    {
      "cell_type": "code",
      "execution_count": null,
      "id": "j2KnnHTCX4RC",
      "metadata": {
        "colab": {
          "base_uri": "https://localhost:8080/"
        },
        "id": "j2KnnHTCX4RC",
        "outputId": "e2a02401-3c5a-4fb3-9d40-88bd7e40e10e"
      },
      "outputs": [
        {
          "output_type": "stream",
          "name": "stdout",
          "text": [
            "Loss: 9.05599308013916\n"
          ]
        }
      ],
      "source": [
        "print(\"Loss:\", outputs.loss.item())"
      ]
    },
    {
      "cell_type": "markdown",
      "id": "V9K8s2j9y8x7",
      "metadata": {
        "id": "V9K8s2j9y8x7"
      },
      "source": [
        "Note that the model is returning a loss. This is possible as the decoder automatically shifts the `future_values` one position to the right in order to have the labels. This allows computing a loss between the predicted values and the labels.\n",
        "\n",
        "Also note that the decoder uses a causal mask to not look into the future as the values it needs to predict are in the `future_values` tensor."
      ]
    },
    {
      "cell_type": "markdown",
      "id": "SxHDCa7vwPBF",
      "metadata": {
        "id": "SxHDCa7vwPBF"
      },
      "source": [
        "## Train the Model\n",
        "\n",
        "It's time to train the model! We'll use a standard PyTorch training loop.\n",
        "\n",
        "We will use the 🤗 [Accelerate](https://huggingface.co/docs/accelerate/index) library here, which automatically places the model, optimizer and dataloader on the appropriate `device`."
      ]
    },
    {
      "cell_type": "code",
      "execution_count": null,
      "id": "gMLYvQaNHuXQ",
      "metadata": {
        "colab": {
          "base_uri": "https://localhost:8080/"
        },
        "id": "gMLYvQaNHuXQ",
        "outputId": "9bcbc985-85cb-4ca8-adea-d0e241cd3216",
        "scrolled": false
      },
      "outputs": [
        {
          "output_type": "stream",
          "name": "stdout",
          "text": [
            "8.908995628356934\n",
            "7.8099822998046875\n",
            "7.380425930023193\n",
            "7.65535306930542\n",
            "6.997676849365234\n",
            "7.1312336921691895\n",
            "7.675381183624268\n",
            "7.2400126457214355\n",
            "7.486240386962891\n",
            "7.375837326049805\n",
            "7.178185939788818\n",
            "7.581951141357422\n",
            "7.642984867095947\n",
            "6.987415790557861\n",
            "6.729491710662842\n",
            "6.5646820068359375\n",
            "7.274221897125244\n",
            "6.616269588470459\n",
            "6.679296016693115\n",
            "7.098794460296631\n",
            "6.927282810211182\n",
            "6.621879577636719\n",
            "6.9386067390441895\n",
            "7.338104724884033\n",
            "6.933742523193359\n",
            "7.57940673828125\n",
            "7.400534152984619\n",
            "7.084648609161377\n",
            "7.467553615570068\n",
            "7.418172359466553\n",
            "7.570255756378174\n",
            "7.0005974769592285\n",
            "7.290412902832031\n",
            "6.575107097625732\n",
            "7.312389373779297\n",
            "6.959780216217041\n",
            "7.44810676574707\n",
            "6.649177551269531\n",
            "7.104150295257568\n",
            "7.524905681610107\n"
          ]
        }
      ],
      "source": [
        "from accelerate import Accelerator\n",
        "from torch.optim import AdamW\n",
        "\n",
        "accelerator = Accelerator()\n",
        "device = accelerator.device\n",
        "\n",
        "model.to(device)\n",
        "optimizer = AdamW(model.parameters(), lr=6e-4, betas=(0.9, 0.95), weight_decay=1e-1)\n",
        "\n",
        "model, optimizer, train_dataloader = accelerator.prepare(\n",
        "    model,\n",
        "    optimizer,\n",
        "    train_dataloader,\n",
        ")\n",
        "\n",
        "model.train()\n",
        "for epoch in range(40):\n",
        "    for idx, batch in enumerate(train_dataloader):\n",
        "        optimizer.zero_grad()\n",
        "        outputs = model(\n",
        "            static_categorical_features=batch[\"static_categorical_features\"].to(device)\n",
        "            if config.num_static_categorical_features > 0\n",
        "            else None,\n",
        "            static_real_features=batch[\"static_real_features\"].to(device)\n",
        "            if config.num_static_real_features > 0\n",
        "            else None,\n",
        "            past_time_features=batch[\"past_time_features\"].to(device),\n",
        "            past_values=batch[\"past_values\"].to(device),\n",
        "            future_time_features=batch[\"future_time_features\"].to(device),\n",
        "            future_values=batch[\"future_values\"].to(device),\n",
        "            past_observed_mask=batch[\"past_observed_mask\"].to(device),\n",
        "            future_observed_mask=batch[\"future_observed_mask\"].to(device),\n",
        "        )\n",
        "        loss = outputs.loss\n",
        "\n",
        "        # Backpropagation\n",
        "        accelerator.backward(loss)\n",
        "        optimizer.step()\n",
        "\n",
        "        if idx % 100 == 0:\n",
        "            print(loss.item())"
      ]
    },
    {
      "cell_type": "markdown",
      "id": "Q1U6YhaFXlSp",
      "metadata": {
        "id": "Q1U6YhaFXlSp"
      },
      "source": [
        "## Inference\n",
        "\n",
        "At inference time, it's recommended to use the `generate()` method for autoregressive generation, similar to NLP models.\n",
        "\n",
        "Forecasting involves getting data from the test instance sampler, which will sample the very last `context_length` sized window of values from each time series in the dataset, and pass it to the model. Note that we pass `future_time_features`, which are known ahead of time, to the decoder.\n",
        "\n",
        "The model will autoregressively sample a certain number of values from the predicted distribution and pass them back to the decoder to return the prediction outputs:"
      ]
    },
    {
      "cell_type": "code",
      "execution_count": null,
      "id": "7c7482c1",
      "metadata": {
        "id": "7c7482c1"
      },
      "outputs": [],
      "source": [
        "model.eval()\n",
        "\n",
        "forecasts = []\n",
        "\n",
        "for batch in test_dataloader:\n",
        "    outputs = model.generate(\n",
        "        static_categorical_features=batch[\"static_categorical_features\"].to(device)\n",
        "        if config.num_static_categorical_features > 0\n",
        "        else None,\n",
        "        static_real_features=batch[\"static_real_features\"].to(device)\n",
        "        if config.num_static_real_features > 0\n",
        "        else None,\n",
        "        past_time_features=batch[\"past_time_features\"].to(device),\n",
        "        past_values=batch[\"past_values\"].to(device),\n",
        "        future_time_features=batch[\"future_time_features\"].to(device),\n",
        "        past_observed_mask=batch[\"past_observed_mask\"].to(device),\n",
        "    )\n",
        "    forecasts.append(outputs.sequences.cpu().numpy())"
      ]
    },
    {
      "cell_type": "markdown",
      "id": "kPLiRcOeZR67",
      "metadata": {
        "id": "kPLiRcOeZR67"
      },
      "source": [
        "The model outputs a tensor of shape (`batch_size`, `number of samples`, `prediction length`).\n",
        "\n",
        "In this case, we get `100` possible values for the next `24` months (for each example in the batch which is of size `64`):"
      ]
    },
    {
      "cell_type": "code",
      "execution_count": null,
      "id": "DwAfSZitZNAQ",
      "metadata": {
        "colab": {
          "base_uri": "https://localhost:8080/"
        },
        "id": "DwAfSZitZNAQ",
        "outputId": "9f8dd9bb-6b18-4db7-9b95-8505130b3063"
      },
      "outputs": [
        {
          "output_type": "execute_result",
          "data": {
            "text/plain": [
              "(64, 100, 24)"
            ]
          },
          "metadata": {},
          "execution_count": 33
        }
      ],
      "source": [
        "forecasts[0].shape"
      ]
    },
    {
      "cell_type": "markdown",
      "id": "fCTBw_t91xwH",
      "metadata": {
        "id": "fCTBw_t91xwH"
      },
      "source": [
        "We'll stack them vertically, to get forecasts for all time-series in the test dataset:"
      ]
    },
    {
      "cell_type": "code",
      "execution_count": null,
      "id": "du1GyJVXlpHp",
      "metadata": {
        "colab": {
          "base_uri": "https://localhost:8080/"
        },
        "id": "du1GyJVXlpHp",
        "outputId": "1235f308-5231-4916-ef92-0219c747bce6"
      },
      "outputs": [
        {
          "output_type": "stream",
          "name": "stdout",
          "text": [
            "(366, 100, 24)\n"
          ]
        }
      ],
      "source": [
        "forecasts = np.vstack(forecasts)\n",
        "print(forecasts.shape)"
      ]
    },
    {
      "cell_type": "markdown",
      "id": "wlvFCdgiA9oy",
      "metadata": {
        "id": "wlvFCdgiA9oy"
      },
      "source": [
        "We can evaluate the resulting forecast with respect to the ground truth out of sample values present in the test set. For that, we'll use the 🤗 [Evaluate](https://huggingface.co/docs/evaluate/index) library, which includes the [MASE](https://huggingface.co/spaces/evaluate-metric/mase) and [sMAPE](https://huggingface.co/spaces/evaluate-metric/smape) metrics.\n",
        "\n",
        "We calculate both metrics for each time series in the dataset:"
      ]
    },
    {
      "cell_type": "code",
      "execution_count": null,
      "id": "0yb9RnczYE4z",
      "metadata": {
        "id": "0yb9RnczYE4z",
        "colab": {
          "base_uri": "https://localhost:8080/",
          "height": 1000,
          "referenced_widgets": [
            "58fbd92e39e94609ab01913e263806bd",
            "53a7cb0178a84d149ea44f787793acfa",
            "ae3ab7d427594d6fb6539e70c8c63eda",
            "5fa9e642b4e8451ea8090c7624dbbac0",
            "3c47ab5f6eb74266b55c06f7398ac83a",
            "57135c5f8800441596ca4603533f07a8",
            "8fa3960e913142e4871be7b9cc8f2916",
            "1e4a85231b22473ca36d1d435338963b",
            "27bd58fcd8724325a8225109c11653db",
            "2b4fa50e9c5144e7802d568823479ee8",
            "0601f6b63d694375b5506018e1be68f8",
            "edabcc9f66554f24a7e7570ae8c96201",
            "a0534f30b0f546478765124559f31845",
            "b5b1ce1ed47244bf95cd17da1959db15",
            "14904faf19ff4c98895362373773c701",
            "60dece238e2f4bc0afef80c551458917",
            "555a64496a694e23ac8bda752e0e4602",
            "02e7457a78804c54b24921e598b63066",
            "f203877873dc48f9b8c5474b273bba50",
            "961b1de86fb54fc499c98c860e9ad8e7",
            "dd9e8a80ead544fca90ff3fa1e8b8c11",
            "1370efeccc014551b2d7eaaaf38de166"
          ]
        },
        "outputId": "4992b8b6-c794-4b83-8a85-4f0265fb93ee"
      },
      "outputs": [
        {
          "output_type": "display_data",
          "data": {
            "text/plain": [
              "Downloading builder script:   0%|          | 0.00/5.50k [00:00<?, ?B/s]"
            ],
            "application/vnd.jupyter.widget-view+json": {
              "version_major": 2,
              "version_minor": 0,
              "model_id": "58fbd92e39e94609ab01913e263806bd"
            }
          },
          "metadata": {}
        },
        {
          "output_type": "display_data",
          "data": {
            "text/plain": [
              "Downloading builder script:   0%|          | 0.00/6.65k [00:00<?, ?B/s]"
            ],
            "application/vnd.jupyter.widget-view+json": {
              "version_major": 2,
              "version_minor": 0,
              "model_id": "edabcc9f66554f24a7e7570ae8c96201"
            }
          },
          "metadata": {}
        },
        {
          "output_type": "stream",
          "name": "stderr",
          "text": [
            "/usr/local/lib/python3.11/dist-packages/gluonts/time_feature/seasonality.py:47: FutureWarning: 'M' is deprecated and will be removed in a future version, please use 'ME' instead.\n",
            "  offset = pd.tseries.frequencies.to_offset(freq)\n",
            "/usr/local/lib/python3.11/dist-packages/gluonts/time_feature/seasonality.py:47: FutureWarning: 'M' is deprecated and will be removed in a future version, please use 'ME' instead.\n",
            "  offset = pd.tseries.frequencies.to_offset(freq)\n",
            "/usr/local/lib/python3.11/dist-packages/gluonts/time_feature/seasonality.py:47: FutureWarning: 'M' is deprecated and will be removed in a future version, please use 'ME' instead.\n",
            "  offset = pd.tseries.frequencies.to_offset(freq)\n",
            "/usr/local/lib/python3.11/dist-packages/gluonts/time_feature/seasonality.py:47: FutureWarning: 'M' is deprecated and will be removed in a future version, please use 'ME' instead.\n",
            "  offset = pd.tseries.frequencies.to_offset(freq)\n",
            "/usr/local/lib/python3.11/dist-packages/gluonts/time_feature/seasonality.py:47: FutureWarning: 'M' is deprecated and will be removed in a future version, please use 'ME' instead.\n",
            "  offset = pd.tseries.frequencies.to_offset(freq)\n",
            "/usr/local/lib/python3.11/dist-packages/gluonts/time_feature/seasonality.py:47: FutureWarning: 'M' is deprecated and will be removed in a future version, please use 'ME' instead.\n",
            "  offset = pd.tseries.frequencies.to_offset(freq)\n",
            "/usr/local/lib/python3.11/dist-packages/gluonts/time_feature/seasonality.py:47: FutureWarning: 'M' is deprecated and will be removed in a future version, please use 'ME' instead.\n",
            "  offset = pd.tseries.frequencies.to_offset(freq)\n",
            "/usr/local/lib/python3.11/dist-packages/gluonts/time_feature/seasonality.py:47: FutureWarning: 'M' is deprecated and will be removed in a future version, please use 'ME' instead.\n",
            "  offset = pd.tseries.frequencies.to_offset(freq)\n",
            "/usr/local/lib/python3.11/dist-packages/gluonts/time_feature/seasonality.py:47: FutureWarning: 'M' is deprecated and will be removed in a future version, please use 'ME' instead.\n",
            "  offset = pd.tseries.frequencies.to_offset(freq)\n",
            "/usr/local/lib/python3.11/dist-packages/gluonts/time_feature/seasonality.py:47: FutureWarning: 'M' is deprecated and will be removed in a future version, please use 'ME' instead.\n",
            "  offset = pd.tseries.frequencies.to_offset(freq)\n",
            "/usr/local/lib/python3.11/dist-packages/gluonts/time_feature/seasonality.py:47: FutureWarning: 'M' is deprecated and will be removed in a future version, please use 'ME' instead.\n",
            "  offset = pd.tseries.frequencies.to_offset(freq)\n",
            "/usr/local/lib/python3.11/dist-packages/gluonts/time_feature/seasonality.py:47: FutureWarning: 'M' is deprecated and will be removed in a future version, please use 'ME' instead.\n",
            "  offset = pd.tseries.frequencies.to_offset(freq)\n",
            "/usr/local/lib/python3.11/dist-packages/gluonts/time_feature/seasonality.py:47: FutureWarning: 'M' is deprecated and will be removed in a future version, please use 'ME' instead.\n",
            "  offset = pd.tseries.frequencies.to_offset(freq)\n",
            "/usr/local/lib/python3.11/dist-packages/gluonts/time_feature/seasonality.py:47: FutureWarning: 'M' is deprecated and will be removed in a future version, please use 'ME' instead.\n",
            "  offset = pd.tseries.frequencies.to_offset(freq)\n",
            "/usr/local/lib/python3.11/dist-packages/gluonts/time_feature/seasonality.py:47: FutureWarning: 'M' is deprecated and will be removed in a future version, please use 'ME' instead.\n",
            "  offset = pd.tseries.frequencies.to_offset(freq)\n",
            "/usr/local/lib/python3.11/dist-packages/gluonts/time_feature/seasonality.py:47: FutureWarning: 'M' is deprecated and will be removed in a future version, please use 'ME' instead.\n",
            "  offset = pd.tseries.frequencies.to_offset(freq)\n",
            "/usr/local/lib/python3.11/dist-packages/gluonts/time_feature/seasonality.py:47: FutureWarning: 'M' is deprecated and will be removed in a future version, please use 'ME' instead.\n",
            "  offset = pd.tseries.frequencies.to_offset(freq)\n",
            "/usr/local/lib/python3.11/dist-packages/gluonts/time_feature/seasonality.py:47: FutureWarning: 'M' is deprecated and will be removed in a future version, please use 'ME' instead.\n",
            "  offset = pd.tseries.frequencies.to_offset(freq)\n",
            "/usr/local/lib/python3.11/dist-packages/gluonts/time_feature/seasonality.py:47: FutureWarning: 'M' is deprecated and will be removed in a future version, please use 'ME' instead.\n",
            "  offset = pd.tseries.frequencies.to_offset(freq)\n",
            "/usr/local/lib/python3.11/dist-packages/gluonts/time_feature/seasonality.py:47: FutureWarning: 'M' is deprecated and will be removed in a future version, please use 'ME' instead.\n",
            "  offset = pd.tseries.frequencies.to_offset(freq)\n",
            "/usr/local/lib/python3.11/dist-packages/gluonts/time_feature/seasonality.py:47: FutureWarning: 'M' is deprecated and will be removed in a future version, please use 'ME' instead.\n",
            "  offset = pd.tseries.frequencies.to_offset(freq)\n",
            "/usr/local/lib/python3.11/dist-packages/gluonts/time_feature/seasonality.py:47: FutureWarning: 'M' is deprecated and will be removed in a future version, please use 'ME' instead.\n",
            "  offset = pd.tseries.frequencies.to_offset(freq)\n",
            "/usr/local/lib/python3.11/dist-packages/gluonts/time_feature/seasonality.py:47: FutureWarning: 'M' is deprecated and will be removed in a future version, please use 'ME' instead.\n",
            "  offset = pd.tseries.frequencies.to_offset(freq)\n",
            "/usr/local/lib/python3.11/dist-packages/gluonts/time_feature/seasonality.py:47: FutureWarning: 'M' is deprecated and will be removed in a future version, please use 'ME' instead.\n",
            "  offset = pd.tseries.frequencies.to_offset(freq)\n",
            "/usr/local/lib/python3.11/dist-packages/gluonts/time_feature/seasonality.py:47: FutureWarning: 'M' is deprecated and will be removed in a future version, please use 'ME' instead.\n",
            "  offset = pd.tseries.frequencies.to_offset(freq)\n",
            "/usr/local/lib/python3.11/dist-packages/gluonts/time_feature/seasonality.py:47: FutureWarning: 'M' is deprecated and will be removed in a future version, please use 'ME' instead.\n",
            "  offset = pd.tseries.frequencies.to_offset(freq)\n",
            "/usr/local/lib/python3.11/dist-packages/gluonts/time_feature/seasonality.py:47: FutureWarning: 'M' is deprecated and will be removed in a future version, please use 'ME' instead.\n",
            "  offset = pd.tseries.frequencies.to_offset(freq)\n",
            "/usr/local/lib/python3.11/dist-packages/gluonts/time_feature/seasonality.py:47: FutureWarning: 'M' is deprecated and will be removed in a future version, please use 'ME' instead.\n",
            "  offset = pd.tseries.frequencies.to_offset(freq)\n",
            "/usr/local/lib/python3.11/dist-packages/gluonts/time_feature/seasonality.py:47: FutureWarning: 'M' is deprecated and will be removed in a future version, please use 'ME' instead.\n",
            "  offset = pd.tseries.frequencies.to_offset(freq)\n",
            "/usr/local/lib/python3.11/dist-packages/gluonts/time_feature/seasonality.py:47: FutureWarning: 'M' is deprecated and will be removed in a future version, please use 'ME' instead.\n",
            "  offset = pd.tseries.frequencies.to_offset(freq)\n",
            "/usr/local/lib/python3.11/dist-packages/gluonts/time_feature/seasonality.py:47: FutureWarning: 'M' is deprecated and will be removed in a future version, please use 'ME' instead.\n",
            "  offset = pd.tseries.frequencies.to_offset(freq)\n",
            "/usr/local/lib/python3.11/dist-packages/gluonts/time_feature/seasonality.py:47: FutureWarning: 'M' is deprecated and will be removed in a future version, please use 'ME' instead.\n",
            "  offset = pd.tseries.frequencies.to_offset(freq)\n",
            "/usr/local/lib/python3.11/dist-packages/gluonts/time_feature/seasonality.py:47: FutureWarning: 'M' is deprecated and will be removed in a future version, please use 'ME' instead.\n",
            "  offset = pd.tseries.frequencies.to_offset(freq)\n",
            "/usr/local/lib/python3.11/dist-packages/gluonts/time_feature/seasonality.py:47: FutureWarning: 'M' is deprecated and will be removed in a future version, please use 'ME' instead.\n",
            "  offset = pd.tseries.frequencies.to_offset(freq)\n",
            "/usr/local/lib/python3.11/dist-packages/gluonts/time_feature/seasonality.py:47: FutureWarning: 'M' is deprecated and will be removed in a future version, please use 'ME' instead.\n",
            "  offset = pd.tseries.frequencies.to_offset(freq)\n",
            "/usr/local/lib/python3.11/dist-packages/gluonts/time_feature/seasonality.py:47: FutureWarning: 'M' is deprecated and will be removed in a future version, please use 'ME' instead.\n",
            "  offset = pd.tseries.frequencies.to_offset(freq)\n",
            "/usr/local/lib/python3.11/dist-packages/gluonts/time_feature/seasonality.py:47: FutureWarning: 'M' is deprecated and will be removed in a future version, please use 'ME' instead.\n",
            "  offset = pd.tseries.frequencies.to_offset(freq)\n",
            "/usr/local/lib/python3.11/dist-packages/gluonts/time_feature/seasonality.py:47: FutureWarning: 'M' is deprecated and will be removed in a future version, please use 'ME' instead.\n",
            "  offset = pd.tseries.frequencies.to_offset(freq)\n",
            "/usr/local/lib/python3.11/dist-packages/gluonts/time_feature/seasonality.py:47: FutureWarning: 'M' is deprecated and will be removed in a future version, please use 'ME' instead.\n",
            "  offset = pd.tseries.frequencies.to_offset(freq)\n",
            "/usr/local/lib/python3.11/dist-packages/gluonts/time_feature/seasonality.py:47: FutureWarning: 'M' is deprecated and will be removed in a future version, please use 'ME' instead.\n",
            "  offset = pd.tseries.frequencies.to_offset(freq)\n",
            "/usr/local/lib/python3.11/dist-packages/gluonts/time_feature/seasonality.py:47: FutureWarning: 'M' is deprecated and will be removed in a future version, please use 'ME' instead.\n",
            "  offset = pd.tseries.frequencies.to_offset(freq)\n",
            "/usr/local/lib/python3.11/dist-packages/gluonts/time_feature/seasonality.py:47: FutureWarning: 'M' is deprecated and will be removed in a future version, please use 'ME' instead.\n",
            "  offset = pd.tseries.frequencies.to_offset(freq)\n",
            "/usr/local/lib/python3.11/dist-packages/gluonts/time_feature/seasonality.py:47: FutureWarning: 'M' is deprecated and will be removed in a future version, please use 'ME' instead.\n",
            "  offset = pd.tseries.frequencies.to_offset(freq)\n",
            "/usr/local/lib/python3.11/dist-packages/gluonts/time_feature/seasonality.py:47: FutureWarning: 'M' is deprecated and will be removed in a future version, please use 'ME' instead.\n",
            "  offset = pd.tseries.frequencies.to_offset(freq)\n",
            "/usr/local/lib/python3.11/dist-packages/gluonts/time_feature/seasonality.py:47: FutureWarning: 'M' is deprecated and will be removed in a future version, please use 'ME' instead.\n",
            "  offset = pd.tseries.frequencies.to_offset(freq)\n",
            "/usr/local/lib/python3.11/dist-packages/gluonts/time_feature/seasonality.py:47: FutureWarning: 'M' is deprecated and will be removed in a future version, please use 'ME' instead.\n",
            "  offset = pd.tseries.frequencies.to_offset(freq)\n",
            "/usr/local/lib/python3.11/dist-packages/gluonts/time_feature/seasonality.py:47: FutureWarning: 'M' is deprecated and will be removed in a future version, please use 'ME' instead.\n",
            "  offset = pd.tseries.frequencies.to_offset(freq)\n",
            "/usr/local/lib/python3.11/dist-packages/gluonts/time_feature/seasonality.py:47: FutureWarning: 'M' is deprecated and will be removed in a future version, please use 'ME' instead.\n",
            "  offset = pd.tseries.frequencies.to_offset(freq)\n",
            "/usr/local/lib/python3.11/dist-packages/gluonts/time_feature/seasonality.py:47: FutureWarning: 'M' is deprecated and will be removed in a future version, please use 'ME' instead.\n",
            "  offset = pd.tseries.frequencies.to_offset(freq)\n",
            "/usr/local/lib/python3.11/dist-packages/gluonts/time_feature/seasonality.py:47: FutureWarning: 'M' is deprecated and will be removed in a future version, please use 'ME' instead.\n",
            "  offset = pd.tseries.frequencies.to_offset(freq)\n",
            "/usr/local/lib/python3.11/dist-packages/gluonts/time_feature/seasonality.py:47: FutureWarning: 'M' is deprecated and will be removed in a future version, please use 'ME' instead.\n",
            "  offset = pd.tseries.frequencies.to_offset(freq)\n",
            "/usr/local/lib/python3.11/dist-packages/gluonts/time_feature/seasonality.py:47: FutureWarning: 'M' is deprecated and will be removed in a future version, please use 'ME' instead.\n",
            "  offset = pd.tseries.frequencies.to_offset(freq)\n",
            "/usr/local/lib/python3.11/dist-packages/gluonts/time_feature/seasonality.py:47: FutureWarning: 'M' is deprecated and will be removed in a future version, please use 'ME' instead.\n",
            "  offset = pd.tseries.frequencies.to_offset(freq)\n",
            "/usr/local/lib/python3.11/dist-packages/gluonts/time_feature/seasonality.py:47: FutureWarning: 'M' is deprecated and will be removed in a future version, please use 'ME' instead.\n",
            "  offset = pd.tseries.frequencies.to_offset(freq)\n",
            "/usr/local/lib/python3.11/dist-packages/gluonts/time_feature/seasonality.py:47: FutureWarning: 'M' is deprecated and will be removed in a future version, please use 'ME' instead.\n",
            "  offset = pd.tseries.frequencies.to_offset(freq)\n",
            "/usr/local/lib/python3.11/dist-packages/gluonts/time_feature/seasonality.py:47: FutureWarning: 'M' is deprecated and will be removed in a future version, please use 'ME' instead.\n",
            "  offset = pd.tseries.frequencies.to_offset(freq)\n",
            "/usr/local/lib/python3.11/dist-packages/gluonts/time_feature/seasonality.py:47: FutureWarning: 'M' is deprecated and will be removed in a future version, please use 'ME' instead.\n",
            "  offset = pd.tseries.frequencies.to_offset(freq)\n",
            "/usr/local/lib/python3.11/dist-packages/gluonts/time_feature/seasonality.py:47: FutureWarning: 'M' is deprecated and will be removed in a future version, please use 'ME' instead.\n",
            "  offset = pd.tseries.frequencies.to_offset(freq)\n",
            "/usr/local/lib/python3.11/dist-packages/gluonts/time_feature/seasonality.py:47: FutureWarning: 'M' is deprecated and will be removed in a future version, please use 'ME' instead.\n",
            "  offset = pd.tseries.frequencies.to_offset(freq)\n",
            "/usr/local/lib/python3.11/dist-packages/gluonts/time_feature/seasonality.py:47: FutureWarning: 'M' is deprecated and will be removed in a future version, please use 'ME' instead.\n",
            "  offset = pd.tseries.frequencies.to_offset(freq)\n",
            "/usr/local/lib/python3.11/dist-packages/gluonts/time_feature/seasonality.py:47: FutureWarning: 'M' is deprecated and will be removed in a future version, please use 'ME' instead.\n",
            "  offset = pd.tseries.frequencies.to_offset(freq)\n",
            "/usr/local/lib/python3.11/dist-packages/gluonts/time_feature/seasonality.py:47: FutureWarning: 'M' is deprecated and will be removed in a future version, please use 'ME' instead.\n",
            "  offset = pd.tseries.frequencies.to_offset(freq)\n",
            "/usr/local/lib/python3.11/dist-packages/gluonts/time_feature/seasonality.py:47: FutureWarning: 'M' is deprecated and will be removed in a future version, please use 'ME' instead.\n",
            "  offset = pd.tseries.frequencies.to_offset(freq)\n",
            "/usr/local/lib/python3.11/dist-packages/gluonts/time_feature/seasonality.py:47: FutureWarning: 'M' is deprecated and will be removed in a future version, please use 'ME' instead.\n",
            "  offset = pd.tseries.frequencies.to_offset(freq)\n",
            "/usr/local/lib/python3.11/dist-packages/gluonts/time_feature/seasonality.py:47: FutureWarning: 'M' is deprecated and will be removed in a future version, please use 'ME' instead.\n",
            "  offset = pd.tseries.frequencies.to_offset(freq)\n",
            "/usr/local/lib/python3.11/dist-packages/gluonts/time_feature/seasonality.py:47: FutureWarning: 'M' is deprecated and will be removed in a future version, please use 'ME' instead.\n",
            "  offset = pd.tseries.frequencies.to_offset(freq)\n",
            "/usr/local/lib/python3.11/dist-packages/gluonts/time_feature/seasonality.py:47: FutureWarning: 'M' is deprecated and will be removed in a future version, please use 'ME' instead.\n",
            "  offset = pd.tseries.frequencies.to_offset(freq)\n",
            "/usr/local/lib/python3.11/dist-packages/gluonts/time_feature/seasonality.py:47: FutureWarning: 'M' is deprecated and will be removed in a future version, please use 'ME' instead.\n",
            "  offset = pd.tseries.frequencies.to_offset(freq)\n",
            "/usr/local/lib/python3.11/dist-packages/gluonts/time_feature/seasonality.py:47: FutureWarning: 'M' is deprecated and will be removed in a future version, please use 'ME' instead.\n",
            "  offset = pd.tseries.frequencies.to_offset(freq)\n",
            "/usr/local/lib/python3.11/dist-packages/gluonts/time_feature/seasonality.py:47: FutureWarning: 'M' is deprecated and will be removed in a future version, please use 'ME' instead.\n",
            "  offset = pd.tseries.frequencies.to_offset(freq)\n",
            "/usr/local/lib/python3.11/dist-packages/gluonts/time_feature/seasonality.py:47: FutureWarning: 'M' is deprecated and will be removed in a future version, please use 'ME' instead.\n",
            "  offset = pd.tseries.frequencies.to_offset(freq)\n",
            "/usr/local/lib/python3.11/dist-packages/gluonts/time_feature/seasonality.py:47: FutureWarning: 'M' is deprecated and will be removed in a future version, please use 'ME' instead.\n",
            "  offset = pd.tseries.frequencies.to_offset(freq)\n",
            "/usr/local/lib/python3.11/dist-packages/gluonts/time_feature/seasonality.py:47: FutureWarning: 'M' is deprecated and will be removed in a future version, please use 'ME' instead.\n",
            "  offset = pd.tseries.frequencies.to_offset(freq)\n",
            "/usr/local/lib/python3.11/dist-packages/gluonts/time_feature/seasonality.py:47: FutureWarning: 'M' is deprecated and will be removed in a future version, please use 'ME' instead.\n",
            "  offset = pd.tseries.frequencies.to_offset(freq)\n",
            "/usr/local/lib/python3.11/dist-packages/gluonts/time_feature/seasonality.py:47: FutureWarning: 'M' is deprecated and will be removed in a future version, please use 'ME' instead.\n",
            "  offset = pd.tseries.frequencies.to_offset(freq)\n",
            "/usr/local/lib/python3.11/dist-packages/gluonts/time_feature/seasonality.py:47: FutureWarning: 'M' is deprecated and will be removed in a future version, please use 'ME' instead.\n",
            "  offset = pd.tseries.frequencies.to_offset(freq)\n",
            "/usr/local/lib/python3.11/dist-packages/gluonts/time_feature/seasonality.py:47: FutureWarning: 'M' is deprecated and will be removed in a future version, please use 'ME' instead.\n",
            "  offset = pd.tseries.frequencies.to_offset(freq)\n",
            "/usr/local/lib/python3.11/dist-packages/gluonts/time_feature/seasonality.py:47: FutureWarning: 'M' is deprecated and will be removed in a future version, please use 'ME' instead.\n",
            "  offset = pd.tseries.frequencies.to_offset(freq)\n",
            "/usr/local/lib/python3.11/dist-packages/gluonts/time_feature/seasonality.py:47: FutureWarning: 'M' is deprecated and will be removed in a future version, please use 'ME' instead.\n",
            "  offset = pd.tseries.frequencies.to_offset(freq)\n",
            "/usr/local/lib/python3.11/dist-packages/gluonts/time_feature/seasonality.py:47: FutureWarning: 'M' is deprecated and will be removed in a future version, please use 'ME' instead.\n",
            "  offset = pd.tseries.frequencies.to_offset(freq)\n",
            "/usr/local/lib/python3.11/dist-packages/gluonts/time_feature/seasonality.py:47: FutureWarning: 'M' is deprecated and will be removed in a future version, please use 'ME' instead.\n",
            "  offset = pd.tseries.frequencies.to_offset(freq)\n",
            "/usr/local/lib/python3.11/dist-packages/gluonts/time_feature/seasonality.py:47: FutureWarning: 'M' is deprecated and will be removed in a future version, please use 'ME' instead.\n",
            "  offset = pd.tseries.frequencies.to_offset(freq)\n",
            "/usr/local/lib/python3.11/dist-packages/gluonts/time_feature/seasonality.py:47: FutureWarning: 'M' is deprecated and will be removed in a future version, please use 'ME' instead.\n",
            "  offset = pd.tseries.frequencies.to_offset(freq)\n",
            "/usr/local/lib/python3.11/dist-packages/gluonts/time_feature/seasonality.py:47: FutureWarning: 'M' is deprecated and will be removed in a future version, please use 'ME' instead.\n",
            "  offset = pd.tseries.frequencies.to_offset(freq)\n",
            "/usr/local/lib/python3.11/dist-packages/gluonts/time_feature/seasonality.py:47: FutureWarning: 'M' is deprecated and will be removed in a future version, please use 'ME' instead.\n",
            "  offset = pd.tseries.frequencies.to_offset(freq)\n",
            "/usr/local/lib/python3.11/dist-packages/gluonts/time_feature/seasonality.py:47: FutureWarning: 'M' is deprecated and will be removed in a future version, please use 'ME' instead.\n",
            "  offset = pd.tseries.frequencies.to_offset(freq)\n",
            "/usr/local/lib/python3.11/dist-packages/gluonts/time_feature/seasonality.py:47: FutureWarning: 'M' is deprecated and will be removed in a future version, please use 'ME' instead.\n",
            "  offset = pd.tseries.frequencies.to_offset(freq)\n",
            "/usr/local/lib/python3.11/dist-packages/gluonts/time_feature/seasonality.py:47: FutureWarning: 'M' is deprecated and will be removed in a future version, please use 'ME' instead.\n",
            "  offset = pd.tseries.frequencies.to_offset(freq)\n",
            "/usr/local/lib/python3.11/dist-packages/gluonts/time_feature/seasonality.py:47: FutureWarning: 'M' is deprecated and will be removed in a future version, please use 'ME' instead.\n",
            "  offset = pd.tseries.frequencies.to_offset(freq)\n",
            "/usr/local/lib/python3.11/dist-packages/gluonts/time_feature/seasonality.py:47: FutureWarning: 'M' is deprecated and will be removed in a future version, please use 'ME' instead.\n",
            "  offset = pd.tseries.frequencies.to_offset(freq)\n",
            "/usr/local/lib/python3.11/dist-packages/gluonts/time_feature/seasonality.py:47: FutureWarning: 'M' is deprecated and will be removed in a future version, please use 'ME' instead.\n",
            "  offset = pd.tseries.frequencies.to_offset(freq)\n",
            "/usr/local/lib/python3.11/dist-packages/gluonts/time_feature/seasonality.py:47: FutureWarning: 'M' is deprecated and will be removed in a future version, please use 'ME' instead.\n",
            "  offset = pd.tseries.frequencies.to_offset(freq)\n",
            "/usr/local/lib/python3.11/dist-packages/gluonts/time_feature/seasonality.py:47: FutureWarning: 'M' is deprecated and will be removed in a future version, please use 'ME' instead.\n",
            "  offset = pd.tseries.frequencies.to_offset(freq)\n",
            "/usr/local/lib/python3.11/dist-packages/gluonts/time_feature/seasonality.py:47: FutureWarning: 'M' is deprecated and will be removed in a future version, please use 'ME' instead.\n",
            "  offset = pd.tseries.frequencies.to_offset(freq)\n",
            "/usr/local/lib/python3.11/dist-packages/gluonts/time_feature/seasonality.py:47: FutureWarning: 'M' is deprecated and will be removed in a future version, please use 'ME' instead.\n",
            "  offset = pd.tseries.frequencies.to_offset(freq)\n",
            "/usr/local/lib/python3.11/dist-packages/gluonts/time_feature/seasonality.py:47: FutureWarning: 'M' is deprecated and will be removed in a future version, please use 'ME' instead.\n",
            "  offset = pd.tseries.frequencies.to_offset(freq)\n",
            "/usr/local/lib/python3.11/dist-packages/gluonts/time_feature/seasonality.py:47: FutureWarning: 'M' is deprecated and will be removed in a future version, please use 'ME' instead.\n",
            "  offset = pd.tseries.frequencies.to_offset(freq)\n",
            "/usr/local/lib/python3.11/dist-packages/gluonts/time_feature/seasonality.py:47: FutureWarning: 'M' is deprecated and will be removed in a future version, please use 'ME' instead.\n",
            "  offset = pd.tseries.frequencies.to_offset(freq)\n",
            "/usr/local/lib/python3.11/dist-packages/gluonts/time_feature/seasonality.py:47: FutureWarning: 'M' is deprecated and will be removed in a future version, please use 'ME' instead.\n",
            "  offset = pd.tseries.frequencies.to_offset(freq)\n",
            "/usr/local/lib/python3.11/dist-packages/gluonts/time_feature/seasonality.py:47: FutureWarning: 'M' is deprecated and will be removed in a future version, please use 'ME' instead.\n",
            "  offset = pd.tseries.frequencies.to_offset(freq)\n",
            "/usr/local/lib/python3.11/dist-packages/gluonts/time_feature/seasonality.py:47: FutureWarning: 'M' is deprecated and will be removed in a future version, please use 'ME' instead.\n",
            "  offset = pd.tseries.frequencies.to_offset(freq)\n",
            "/usr/local/lib/python3.11/dist-packages/gluonts/time_feature/seasonality.py:47: FutureWarning: 'M' is deprecated and will be removed in a future version, please use 'ME' instead.\n",
            "  offset = pd.tseries.frequencies.to_offset(freq)\n",
            "/usr/local/lib/python3.11/dist-packages/gluonts/time_feature/seasonality.py:47: FutureWarning: 'M' is deprecated and will be removed in a future version, please use 'ME' instead.\n",
            "  offset = pd.tseries.frequencies.to_offset(freq)\n",
            "/usr/local/lib/python3.11/dist-packages/gluonts/time_feature/seasonality.py:47: FutureWarning: 'M' is deprecated and will be removed in a future version, please use 'ME' instead.\n",
            "  offset = pd.tseries.frequencies.to_offset(freq)\n",
            "/usr/local/lib/python3.11/dist-packages/gluonts/time_feature/seasonality.py:47: FutureWarning: 'M' is deprecated and will be removed in a future version, please use 'ME' instead.\n",
            "  offset = pd.tseries.frequencies.to_offset(freq)\n",
            "/usr/local/lib/python3.11/dist-packages/gluonts/time_feature/seasonality.py:47: FutureWarning: 'M' is deprecated and will be removed in a future version, please use 'ME' instead.\n",
            "  offset = pd.tseries.frequencies.to_offset(freq)\n",
            "/usr/local/lib/python3.11/dist-packages/gluonts/time_feature/seasonality.py:47: FutureWarning: 'M' is deprecated and will be removed in a future version, please use 'ME' instead.\n",
            "  offset = pd.tseries.frequencies.to_offset(freq)\n",
            "/usr/local/lib/python3.11/dist-packages/gluonts/time_feature/seasonality.py:47: FutureWarning: 'M' is deprecated and will be removed in a future version, please use 'ME' instead.\n",
            "  offset = pd.tseries.frequencies.to_offset(freq)\n",
            "/usr/local/lib/python3.11/dist-packages/gluonts/time_feature/seasonality.py:47: FutureWarning: 'M' is deprecated and will be removed in a future version, please use 'ME' instead.\n",
            "  offset = pd.tseries.frequencies.to_offset(freq)\n",
            "/usr/local/lib/python3.11/dist-packages/gluonts/time_feature/seasonality.py:47: FutureWarning: 'M' is deprecated and will be removed in a future version, please use 'ME' instead.\n",
            "  offset = pd.tseries.frequencies.to_offset(freq)\n",
            "/usr/local/lib/python3.11/dist-packages/gluonts/time_feature/seasonality.py:47: FutureWarning: 'M' is deprecated and will be removed in a future version, please use 'ME' instead.\n",
            "  offset = pd.tseries.frequencies.to_offset(freq)\n",
            "/usr/local/lib/python3.11/dist-packages/gluonts/time_feature/seasonality.py:47: FutureWarning: 'M' is deprecated and will be removed in a future version, please use 'ME' instead.\n",
            "  offset = pd.tseries.frequencies.to_offset(freq)\n",
            "/usr/local/lib/python3.11/dist-packages/gluonts/time_feature/seasonality.py:47: FutureWarning: 'M' is deprecated and will be removed in a future version, please use 'ME' instead.\n",
            "  offset = pd.tseries.frequencies.to_offset(freq)\n",
            "/usr/local/lib/python3.11/dist-packages/gluonts/time_feature/seasonality.py:47: FutureWarning: 'M' is deprecated and will be removed in a future version, please use 'ME' instead.\n",
            "  offset = pd.tseries.frequencies.to_offset(freq)\n",
            "/usr/local/lib/python3.11/dist-packages/gluonts/time_feature/seasonality.py:47: FutureWarning: 'M' is deprecated and will be removed in a future version, please use 'ME' instead.\n",
            "  offset = pd.tseries.frequencies.to_offset(freq)\n",
            "/usr/local/lib/python3.11/dist-packages/gluonts/time_feature/seasonality.py:47: FutureWarning: 'M' is deprecated and will be removed in a future version, please use 'ME' instead.\n",
            "  offset = pd.tseries.frequencies.to_offset(freq)\n",
            "/usr/local/lib/python3.11/dist-packages/gluonts/time_feature/seasonality.py:47: FutureWarning: 'M' is deprecated and will be removed in a future version, please use 'ME' instead.\n",
            "  offset = pd.tseries.frequencies.to_offset(freq)\n",
            "/usr/local/lib/python3.11/dist-packages/gluonts/time_feature/seasonality.py:47: FutureWarning: 'M' is deprecated and will be removed in a future version, please use 'ME' instead.\n",
            "  offset = pd.tseries.frequencies.to_offset(freq)\n",
            "/usr/local/lib/python3.11/dist-packages/gluonts/time_feature/seasonality.py:47: FutureWarning: 'M' is deprecated and will be removed in a future version, please use 'ME' instead.\n",
            "  offset = pd.tseries.frequencies.to_offset(freq)\n",
            "/usr/local/lib/python3.11/dist-packages/gluonts/time_feature/seasonality.py:47: FutureWarning: 'M' is deprecated and will be removed in a future version, please use 'ME' instead.\n",
            "  offset = pd.tseries.frequencies.to_offset(freq)\n",
            "/usr/local/lib/python3.11/dist-packages/gluonts/time_feature/seasonality.py:47: FutureWarning: 'M' is deprecated and will be removed in a future version, please use 'ME' instead.\n",
            "  offset = pd.tseries.frequencies.to_offset(freq)\n",
            "/usr/local/lib/python3.11/dist-packages/gluonts/time_feature/seasonality.py:47: FutureWarning: 'M' is deprecated and will be removed in a future version, please use 'ME' instead.\n",
            "  offset = pd.tseries.frequencies.to_offset(freq)\n",
            "/usr/local/lib/python3.11/dist-packages/gluonts/time_feature/seasonality.py:47: FutureWarning: 'M' is deprecated and will be removed in a future version, please use 'ME' instead.\n",
            "  offset = pd.tseries.frequencies.to_offset(freq)\n",
            "/usr/local/lib/python3.11/dist-packages/gluonts/time_feature/seasonality.py:47: FutureWarning: 'M' is deprecated and will be removed in a future version, please use 'ME' instead.\n",
            "  offset = pd.tseries.frequencies.to_offset(freq)\n",
            "/usr/local/lib/python3.11/dist-packages/gluonts/time_feature/seasonality.py:47: FutureWarning: 'M' is deprecated and will be removed in a future version, please use 'ME' instead.\n",
            "  offset = pd.tseries.frequencies.to_offset(freq)\n",
            "/usr/local/lib/python3.11/dist-packages/gluonts/time_feature/seasonality.py:47: FutureWarning: 'M' is deprecated and will be removed in a future version, please use 'ME' instead.\n",
            "  offset = pd.tseries.frequencies.to_offset(freq)\n",
            "/usr/local/lib/python3.11/dist-packages/gluonts/time_feature/seasonality.py:47: FutureWarning: 'M' is deprecated and will be removed in a future version, please use 'ME' instead.\n",
            "  offset = pd.tseries.frequencies.to_offset(freq)\n",
            "/usr/local/lib/python3.11/dist-packages/gluonts/time_feature/seasonality.py:47: FutureWarning: 'M' is deprecated and will be removed in a future version, please use 'ME' instead.\n",
            "  offset = pd.tseries.frequencies.to_offset(freq)\n",
            "/usr/local/lib/python3.11/dist-packages/gluonts/time_feature/seasonality.py:47: FutureWarning: 'M' is deprecated and will be removed in a future version, please use 'ME' instead.\n",
            "  offset = pd.tseries.frequencies.to_offset(freq)\n",
            "/usr/local/lib/python3.11/dist-packages/gluonts/time_feature/seasonality.py:47: FutureWarning: 'M' is deprecated and will be removed in a future version, please use 'ME' instead.\n",
            "  offset = pd.tseries.frequencies.to_offset(freq)\n",
            "/usr/local/lib/python3.11/dist-packages/gluonts/time_feature/seasonality.py:47: FutureWarning: 'M' is deprecated and will be removed in a future version, please use 'ME' instead.\n",
            "  offset = pd.tseries.frequencies.to_offset(freq)\n",
            "/usr/local/lib/python3.11/dist-packages/gluonts/time_feature/seasonality.py:47: FutureWarning: 'M' is deprecated and will be removed in a future version, please use 'ME' instead.\n",
            "  offset = pd.tseries.frequencies.to_offset(freq)\n",
            "/usr/local/lib/python3.11/dist-packages/gluonts/time_feature/seasonality.py:47: FutureWarning: 'M' is deprecated and will be removed in a future version, please use 'ME' instead.\n",
            "  offset = pd.tseries.frequencies.to_offset(freq)\n",
            "/usr/local/lib/python3.11/dist-packages/gluonts/time_feature/seasonality.py:47: FutureWarning: 'M' is deprecated and will be removed in a future version, please use 'ME' instead.\n",
            "  offset = pd.tseries.frequencies.to_offset(freq)\n",
            "/usr/local/lib/python3.11/dist-packages/gluonts/time_feature/seasonality.py:47: FutureWarning: 'M' is deprecated and will be removed in a future version, please use 'ME' instead.\n",
            "  offset = pd.tseries.frequencies.to_offset(freq)\n",
            "/usr/local/lib/python3.11/dist-packages/gluonts/time_feature/seasonality.py:47: FutureWarning: 'M' is deprecated and will be removed in a future version, please use 'ME' instead.\n",
            "  offset = pd.tseries.frequencies.to_offset(freq)\n",
            "/usr/local/lib/python3.11/dist-packages/gluonts/time_feature/seasonality.py:47: FutureWarning: 'M' is deprecated and will be removed in a future version, please use 'ME' instead.\n",
            "  offset = pd.tseries.frequencies.to_offset(freq)\n",
            "/usr/local/lib/python3.11/dist-packages/gluonts/time_feature/seasonality.py:47: FutureWarning: 'M' is deprecated and will be removed in a future version, please use 'ME' instead.\n",
            "  offset = pd.tseries.frequencies.to_offset(freq)\n",
            "/usr/local/lib/python3.11/dist-packages/gluonts/time_feature/seasonality.py:47: FutureWarning: 'M' is deprecated and will be removed in a future version, please use 'ME' instead.\n",
            "  offset = pd.tseries.frequencies.to_offset(freq)\n",
            "/usr/local/lib/python3.11/dist-packages/gluonts/time_feature/seasonality.py:47: FutureWarning: 'M' is deprecated and will be removed in a future version, please use 'ME' instead.\n",
            "  offset = pd.tseries.frequencies.to_offset(freq)\n",
            "/usr/local/lib/python3.11/dist-packages/gluonts/time_feature/seasonality.py:47: FutureWarning: 'M' is deprecated and will be removed in a future version, please use 'ME' instead.\n",
            "  offset = pd.tseries.frequencies.to_offset(freq)\n",
            "/usr/local/lib/python3.11/dist-packages/gluonts/time_feature/seasonality.py:47: FutureWarning: 'M' is deprecated and will be removed in a future version, please use 'ME' instead.\n",
            "  offset = pd.tseries.frequencies.to_offset(freq)\n",
            "/usr/local/lib/python3.11/dist-packages/gluonts/time_feature/seasonality.py:47: FutureWarning: 'M' is deprecated and will be removed in a future version, please use 'ME' instead.\n",
            "  offset = pd.tseries.frequencies.to_offset(freq)\n",
            "/usr/local/lib/python3.11/dist-packages/gluonts/time_feature/seasonality.py:47: FutureWarning: 'M' is deprecated and will be removed in a future version, please use 'ME' instead.\n",
            "  offset = pd.tseries.frequencies.to_offset(freq)\n",
            "/usr/local/lib/python3.11/dist-packages/gluonts/time_feature/seasonality.py:47: FutureWarning: 'M' is deprecated and will be removed in a future version, please use 'ME' instead.\n",
            "  offset = pd.tseries.frequencies.to_offset(freq)\n",
            "/usr/local/lib/python3.11/dist-packages/gluonts/time_feature/seasonality.py:47: FutureWarning: 'M' is deprecated and will be removed in a future version, please use 'ME' instead.\n",
            "  offset = pd.tseries.frequencies.to_offset(freq)\n",
            "/usr/local/lib/python3.11/dist-packages/gluonts/time_feature/seasonality.py:47: FutureWarning: 'M' is deprecated and will be removed in a future version, please use 'ME' instead.\n",
            "  offset = pd.tseries.frequencies.to_offset(freq)\n",
            "/usr/local/lib/python3.11/dist-packages/gluonts/time_feature/seasonality.py:47: FutureWarning: 'M' is deprecated and will be removed in a future version, please use 'ME' instead.\n",
            "  offset = pd.tseries.frequencies.to_offset(freq)\n",
            "/usr/local/lib/python3.11/dist-packages/gluonts/time_feature/seasonality.py:47: FutureWarning: 'M' is deprecated and will be removed in a future version, please use 'ME' instead.\n",
            "  offset = pd.tseries.frequencies.to_offset(freq)\n",
            "/usr/local/lib/python3.11/dist-packages/gluonts/time_feature/seasonality.py:47: FutureWarning: 'M' is deprecated and will be removed in a future version, please use 'ME' instead.\n",
            "  offset = pd.tseries.frequencies.to_offset(freq)\n",
            "/usr/local/lib/python3.11/dist-packages/gluonts/time_feature/seasonality.py:47: FutureWarning: 'M' is deprecated and will be removed in a future version, please use 'ME' instead.\n",
            "  offset = pd.tseries.frequencies.to_offset(freq)\n",
            "/usr/local/lib/python3.11/dist-packages/gluonts/time_feature/seasonality.py:47: FutureWarning: 'M' is deprecated and will be removed in a future version, please use 'ME' instead.\n",
            "  offset = pd.tseries.frequencies.to_offset(freq)\n",
            "/usr/local/lib/python3.11/dist-packages/gluonts/time_feature/seasonality.py:47: FutureWarning: 'M' is deprecated and will be removed in a future version, please use 'ME' instead.\n",
            "  offset = pd.tseries.frequencies.to_offset(freq)\n",
            "/usr/local/lib/python3.11/dist-packages/gluonts/time_feature/seasonality.py:47: FutureWarning: 'M' is deprecated and will be removed in a future version, please use 'ME' instead.\n",
            "  offset = pd.tseries.frequencies.to_offset(freq)\n",
            "/usr/local/lib/python3.11/dist-packages/gluonts/time_feature/seasonality.py:47: FutureWarning: 'M' is deprecated and will be removed in a future version, please use 'ME' instead.\n",
            "  offset = pd.tseries.frequencies.to_offset(freq)\n",
            "/usr/local/lib/python3.11/dist-packages/gluonts/time_feature/seasonality.py:47: FutureWarning: 'M' is deprecated and will be removed in a future version, please use 'ME' instead.\n",
            "  offset = pd.tseries.frequencies.to_offset(freq)\n",
            "/usr/local/lib/python3.11/dist-packages/gluonts/time_feature/seasonality.py:47: FutureWarning: 'M' is deprecated and will be removed in a future version, please use 'ME' instead.\n",
            "  offset = pd.tseries.frequencies.to_offset(freq)\n",
            "/usr/local/lib/python3.11/dist-packages/gluonts/time_feature/seasonality.py:47: FutureWarning: 'M' is deprecated and will be removed in a future version, please use 'ME' instead.\n",
            "  offset = pd.tseries.frequencies.to_offset(freq)\n",
            "/usr/local/lib/python3.11/dist-packages/gluonts/time_feature/seasonality.py:47: FutureWarning: 'M' is deprecated and will be removed in a future version, please use 'ME' instead.\n",
            "  offset = pd.tseries.frequencies.to_offset(freq)\n",
            "/usr/local/lib/python3.11/dist-packages/gluonts/time_feature/seasonality.py:47: FutureWarning: 'M' is deprecated and will be removed in a future version, please use 'ME' instead.\n",
            "  offset = pd.tseries.frequencies.to_offset(freq)\n",
            "/usr/local/lib/python3.11/dist-packages/gluonts/time_feature/seasonality.py:47: FutureWarning: 'M' is deprecated and will be removed in a future version, please use 'ME' instead.\n",
            "  offset = pd.tseries.frequencies.to_offset(freq)\n",
            "/usr/local/lib/python3.11/dist-packages/gluonts/time_feature/seasonality.py:47: FutureWarning: 'M' is deprecated and will be removed in a future version, please use 'ME' instead.\n",
            "  offset = pd.tseries.frequencies.to_offset(freq)\n",
            "/usr/local/lib/python3.11/dist-packages/gluonts/time_feature/seasonality.py:47: FutureWarning: 'M' is deprecated and will be removed in a future version, please use 'ME' instead.\n",
            "  offset = pd.tseries.frequencies.to_offset(freq)\n",
            "/usr/local/lib/python3.11/dist-packages/gluonts/time_feature/seasonality.py:47: FutureWarning: 'M' is deprecated and will be removed in a future version, please use 'ME' instead.\n",
            "  offset = pd.tseries.frequencies.to_offset(freq)\n",
            "/usr/local/lib/python3.11/dist-packages/gluonts/time_feature/seasonality.py:47: FutureWarning: 'M' is deprecated and will be removed in a future version, please use 'ME' instead.\n",
            "  offset = pd.tseries.frequencies.to_offset(freq)\n",
            "/usr/local/lib/python3.11/dist-packages/gluonts/time_feature/seasonality.py:47: FutureWarning: 'M' is deprecated and will be removed in a future version, please use 'ME' instead.\n",
            "  offset = pd.tseries.frequencies.to_offset(freq)\n",
            "/usr/local/lib/python3.11/dist-packages/gluonts/time_feature/seasonality.py:47: FutureWarning: 'M' is deprecated and will be removed in a future version, please use 'ME' instead.\n",
            "  offset = pd.tseries.frequencies.to_offset(freq)\n",
            "/usr/local/lib/python3.11/dist-packages/gluonts/time_feature/seasonality.py:47: FutureWarning: 'M' is deprecated and will be removed in a future version, please use 'ME' instead.\n",
            "  offset = pd.tseries.frequencies.to_offset(freq)\n",
            "/usr/local/lib/python3.11/dist-packages/gluonts/time_feature/seasonality.py:47: FutureWarning: 'M' is deprecated and will be removed in a future version, please use 'ME' instead.\n",
            "  offset = pd.tseries.frequencies.to_offset(freq)\n",
            "/usr/local/lib/python3.11/dist-packages/gluonts/time_feature/seasonality.py:47: FutureWarning: 'M' is deprecated and will be removed in a future version, please use 'ME' instead.\n",
            "  offset = pd.tseries.frequencies.to_offset(freq)\n",
            "/usr/local/lib/python3.11/dist-packages/gluonts/time_feature/seasonality.py:47: FutureWarning: 'M' is deprecated and will be removed in a future version, please use 'ME' instead.\n",
            "  offset = pd.tseries.frequencies.to_offset(freq)\n",
            "/usr/local/lib/python3.11/dist-packages/gluonts/time_feature/seasonality.py:47: FutureWarning: 'M' is deprecated and will be removed in a future version, please use 'ME' instead.\n",
            "  offset = pd.tseries.frequencies.to_offset(freq)\n",
            "/usr/local/lib/python3.11/dist-packages/gluonts/time_feature/seasonality.py:47: FutureWarning: 'M' is deprecated and will be removed in a future version, please use 'ME' instead.\n",
            "  offset = pd.tseries.frequencies.to_offset(freq)\n",
            "/usr/local/lib/python3.11/dist-packages/gluonts/time_feature/seasonality.py:47: FutureWarning: 'M' is deprecated and will be removed in a future version, please use 'ME' instead.\n",
            "  offset = pd.tseries.frequencies.to_offset(freq)\n",
            "/usr/local/lib/python3.11/dist-packages/gluonts/time_feature/seasonality.py:47: FutureWarning: 'M' is deprecated and will be removed in a future version, please use 'ME' instead.\n",
            "  offset = pd.tseries.frequencies.to_offset(freq)\n",
            "/usr/local/lib/python3.11/dist-packages/gluonts/time_feature/seasonality.py:47: FutureWarning: 'M' is deprecated and will be removed in a future version, please use 'ME' instead.\n",
            "  offset = pd.tseries.frequencies.to_offset(freq)\n",
            "/usr/local/lib/python3.11/dist-packages/gluonts/time_feature/seasonality.py:47: FutureWarning: 'M' is deprecated and will be removed in a future version, please use 'ME' instead.\n",
            "  offset = pd.tseries.frequencies.to_offset(freq)\n",
            "/usr/local/lib/python3.11/dist-packages/gluonts/time_feature/seasonality.py:47: FutureWarning: 'M' is deprecated and will be removed in a future version, please use 'ME' instead.\n",
            "  offset = pd.tseries.frequencies.to_offset(freq)\n",
            "/usr/local/lib/python3.11/dist-packages/gluonts/time_feature/seasonality.py:47: FutureWarning: 'M' is deprecated and will be removed in a future version, please use 'ME' instead.\n",
            "  offset = pd.tseries.frequencies.to_offset(freq)\n",
            "/usr/local/lib/python3.11/dist-packages/gluonts/time_feature/seasonality.py:47: FutureWarning: 'M' is deprecated and will be removed in a future version, please use 'ME' instead.\n",
            "  offset = pd.tseries.frequencies.to_offset(freq)\n",
            "/usr/local/lib/python3.11/dist-packages/gluonts/time_feature/seasonality.py:47: FutureWarning: 'M' is deprecated and will be removed in a future version, please use 'ME' instead.\n",
            "  offset = pd.tseries.frequencies.to_offset(freq)\n",
            "/usr/local/lib/python3.11/dist-packages/gluonts/time_feature/seasonality.py:47: FutureWarning: 'M' is deprecated and will be removed in a future version, please use 'ME' instead.\n",
            "  offset = pd.tseries.frequencies.to_offset(freq)\n",
            "/usr/local/lib/python3.11/dist-packages/gluonts/time_feature/seasonality.py:47: FutureWarning: 'M' is deprecated and will be removed in a future version, please use 'ME' instead.\n",
            "  offset = pd.tseries.frequencies.to_offset(freq)\n",
            "/usr/local/lib/python3.11/dist-packages/gluonts/time_feature/seasonality.py:47: FutureWarning: 'M' is deprecated and will be removed in a future version, please use 'ME' instead.\n",
            "  offset = pd.tseries.frequencies.to_offset(freq)\n",
            "/usr/local/lib/python3.11/dist-packages/gluonts/time_feature/seasonality.py:47: FutureWarning: 'M' is deprecated and will be removed in a future version, please use 'ME' instead.\n",
            "  offset = pd.tseries.frequencies.to_offset(freq)\n",
            "/usr/local/lib/python3.11/dist-packages/gluonts/time_feature/seasonality.py:47: FutureWarning: 'M' is deprecated and will be removed in a future version, please use 'ME' instead.\n",
            "  offset = pd.tseries.frequencies.to_offset(freq)\n",
            "/usr/local/lib/python3.11/dist-packages/gluonts/time_feature/seasonality.py:47: FutureWarning: 'M' is deprecated and will be removed in a future version, please use 'ME' instead.\n",
            "  offset = pd.tseries.frequencies.to_offset(freq)\n",
            "/usr/local/lib/python3.11/dist-packages/gluonts/time_feature/seasonality.py:47: FutureWarning: 'M' is deprecated and will be removed in a future version, please use 'ME' instead.\n",
            "  offset = pd.tseries.frequencies.to_offset(freq)\n",
            "/usr/local/lib/python3.11/dist-packages/gluonts/time_feature/seasonality.py:47: FutureWarning: 'M' is deprecated and will be removed in a future version, please use 'ME' instead.\n",
            "  offset = pd.tseries.frequencies.to_offset(freq)\n",
            "/usr/local/lib/python3.11/dist-packages/gluonts/time_feature/seasonality.py:47: FutureWarning: 'M' is deprecated and will be removed in a future version, please use 'ME' instead.\n",
            "  offset = pd.tseries.frequencies.to_offset(freq)\n",
            "/usr/local/lib/python3.11/dist-packages/gluonts/time_feature/seasonality.py:47: FutureWarning: 'M' is deprecated and will be removed in a future version, please use 'ME' instead.\n",
            "  offset = pd.tseries.frequencies.to_offset(freq)\n",
            "/usr/local/lib/python3.11/dist-packages/gluonts/time_feature/seasonality.py:47: FutureWarning: 'M' is deprecated and will be removed in a future version, please use 'ME' instead.\n",
            "  offset = pd.tseries.frequencies.to_offset(freq)\n",
            "/usr/local/lib/python3.11/dist-packages/gluonts/time_feature/seasonality.py:47: FutureWarning: 'M' is deprecated and will be removed in a future version, please use 'ME' instead.\n",
            "  offset = pd.tseries.frequencies.to_offset(freq)\n",
            "/usr/local/lib/python3.11/dist-packages/gluonts/time_feature/seasonality.py:47: FutureWarning: 'M' is deprecated and will be removed in a future version, please use 'ME' instead.\n",
            "  offset = pd.tseries.frequencies.to_offset(freq)\n",
            "/usr/local/lib/python3.11/dist-packages/gluonts/time_feature/seasonality.py:47: FutureWarning: 'M' is deprecated and will be removed in a future version, please use 'ME' instead.\n",
            "  offset = pd.tseries.frequencies.to_offset(freq)\n",
            "/usr/local/lib/python3.11/dist-packages/gluonts/time_feature/seasonality.py:47: FutureWarning: 'M' is deprecated and will be removed in a future version, please use 'ME' instead.\n",
            "  offset = pd.tseries.frequencies.to_offset(freq)\n",
            "/usr/local/lib/python3.11/dist-packages/gluonts/time_feature/seasonality.py:47: FutureWarning: 'M' is deprecated and will be removed in a future version, please use 'ME' instead.\n",
            "  offset = pd.tseries.frequencies.to_offset(freq)\n",
            "/usr/local/lib/python3.11/dist-packages/gluonts/time_feature/seasonality.py:47: FutureWarning: 'M' is deprecated and will be removed in a future version, please use 'ME' instead.\n",
            "  offset = pd.tseries.frequencies.to_offset(freq)\n",
            "/usr/local/lib/python3.11/dist-packages/gluonts/time_feature/seasonality.py:47: FutureWarning: 'M' is deprecated and will be removed in a future version, please use 'ME' instead.\n",
            "  offset = pd.tseries.frequencies.to_offset(freq)\n",
            "/usr/local/lib/python3.11/dist-packages/gluonts/time_feature/seasonality.py:47: FutureWarning: 'M' is deprecated and will be removed in a future version, please use 'ME' instead.\n",
            "  offset = pd.tseries.frequencies.to_offset(freq)\n",
            "/usr/local/lib/python3.11/dist-packages/gluonts/time_feature/seasonality.py:47: FutureWarning: 'M' is deprecated and will be removed in a future version, please use 'ME' instead.\n",
            "  offset = pd.tseries.frequencies.to_offset(freq)\n",
            "/usr/local/lib/python3.11/dist-packages/gluonts/time_feature/seasonality.py:47: FutureWarning: 'M' is deprecated and will be removed in a future version, please use 'ME' instead.\n",
            "  offset = pd.tseries.frequencies.to_offset(freq)\n",
            "/usr/local/lib/python3.11/dist-packages/gluonts/time_feature/seasonality.py:47: FutureWarning: 'M' is deprecated and will be removed in a future version, please use 'ME' instead.\n",
            "  offset = pd.tseries.frequencies.to_offset(freq)\n",
            "/usr/local/lib/python3.11/dist-packages/gluonts/time_feature/seasonality.py:47: FutureWarning: 'M' is deprecated and will be removed in a future version, please use 'ME' instead.\n",
            "  offset = pd.tseries.frequencies.to_offset(freq)\n",
            "/usr/local/lib/python3.11/dist-packages/gluonts/time_feature/seasonality.py:47: FutureWarning: 'M' is deprecated and will be removed in a future version, please use 'ME' instead.\n",
            "  offset = pd.tseries.frequencies.to_offset(freq)\n",
            "/usr/local/lib/python3.11/dist-packages/gluonts/time_feature/seasonality.py:47: FutureWarning: 'M' is deprecated and will be removed in a future version, please use 'ME' instead.\n",
            "  offset = pd.tseries.frequencies.to_offset(freq)\n",
            "/usr/local/lib/python3.11/dist-packages/gluonts/time_feature/seasonality.py:47: FutureWarning: 'M' is deprecated and will be removed in a future version, please use 'ME' instead.\n",
            "  offset = pd.tseries.frequencies.to_offset(freq)\n",
            "/usr/local/lib/python3.11/dist-packages/gluonts/time_feature/seasonality.py:47: FutureWarning: 'M' is deprecated and will be removed in a future version, please use 'ME' instead.\n",
            "  offset = pd.tseries.frequencies.to_offset(freq)\n",
            "/usr/local/lib/python3.11/dist-packages/gluonts/time_feature/seasonality.py:47: FutureWarning: 'M' is deprecated and will be removed in a future version, please use 'ME' instead.\n",
            "  offset = pd.tseries.frequencies.to_offset(freq)\n",
            "/usr/local/lib/python3.11/dist-packages/gluonts/time_feature/seasonality.py:47: FutureWarning: 'M' is deprecated and will be removed in a future version, please use 'ME' instead.\n",
            "  offset = pd.tseries.frequencies.to_offset(freq)\n",
            "/usr/local/lib/python3.11/dist-packages/gluonts/time_feature/seasonality.py:47: FutureWarning: 'M' is deprecated and will be removed in a future version, please use 'ME' instead.\n",
            "  offset = pd.tseries.frequencies.to_offset(freq)\n",
            "/usr/local/lib/python3.11/dist-packages/gluonts/time_feature/seasonality.py:47: FutureWarning: 'M' is deprecated and will be removed in a future version, please use 'ME' instead.\n",
            "  offset = pd.tseries.frequencies.to_offset(freq)\n",
            "/usr/local/lib/python3.11/dist-packages/gluonts/time_feature/seasonality.py:47: FutureWarning: 'M' is deprecated and will be removed in a future version, please use 'ME' instead.\n",
            "  offset = pd.tseries.frequencies.to_offset(freq)\n",
            "/usr/local/lib/python3.11/dist-packages/gluonts/time_feature/seasonality.py:47: FutureWarning: 'M' is deprecated and will be removed in a future version, please use 'ME' instead.\n",
            "  offset = pd.tseries.frequencies.to_offset(freq)\n",
            "/usr/local/lib/python3.11/dist-packages/gluonts/time_feature/seasonality.py:47: FutureWarning: 'M' is deprecated and will be removed in a future version, please use 'ME' instead.\n",
            "  offset = pd.tseries.frequencies.to_offset(freq)\n",
            "/usr/local/lib/python3.11/dist-packages/gluonts/time_feature/seasonality.py:47: FutureWarning: 'M' is deprecated and will be removed in a future version, please use 'ME' instead.\n",
            "  offset = pd.tseries.frequencies.to_offset(freq)\n",
            "/usr/local/lib/python3.11/dist-packages/gluonts/time_feature/seasonality.py:47: FutureWarning: 'M' is deprecated and will be removed in a future version, please use 'ME' instead.\n",
            "  offset = pd.tseries.frequencies.to_offset(freq)\n",
            "/usr/local/lib/python3.11/dist-packages/gluonts/time_feature/seasonality.py:47: FutureWarning: 'M' is deprecated and will be removed in a future version, please use 'ME' instead.\n",
            "  offset = pd.tseries.frequencies.to_offset(freq)\n",
            "/usr/local/lib/python3.11/dist-packages/gluonts/time_feature/seasonality.py:47: FutureWarning: 'M' is deprecated and will be removed in a future version, please use 'ME' instead.\n",
            "  offset = pd.tseries.frequencies.to_offset(freq)\n",
            "/usr/local/lib/python3.11/dist-packages/gluonts/time_feature/seasonality.py:47: FutureWarning: 'M' is deprecated and will be removed in a future version, please use 'ME' instead.\n",
            "  offset = pd.tseries.frequencies.to_offset(freq)\n",
            "/usr/local/lib/python3.11/dist-packages/gluonts/time_feature/seasonality.py:47: FutureWarning: 'M' is deprecated and will be removed in a future version, please use 'ME' instead.\n",
            "  offset = pd.tseries.frequencies.to_offset(freq)\n",
            "/usr/local/lib/python3.11/dist-packages/gluonts/time_feature/seasonality.py:47: FutureWarning: 'M' is deprecated and will be removed in a future version, please use 'ME' instead.\n",
            "  offset = pd.tseries.frequencies.to_offset(freq)\n",
            "/usr/local/lib/python3.11/dist-packages/gluonts/time_feature/seasonality.py:47: FutureWarning: 'M' is deprecated and will be removed in a future version, please use 'ME' instead.\n",
            "  offset = pd.tseries.frequencies.to_offset(freq)\n",
            "/usr/local/lib/python3.11/dist-packages/gluonts/time_feature/seasonality.py:47: FutureWarning: 'M' is deprecated and will be removed in a future version, please use 'ME' instead.\n",
            "  offset = pd.tseries.frequencies.to_offset(freq)\n",
            "/usr/local/lib/python3.11/dist-packages/gluonts/time_feature/seasonality.py:47: FutureWarning: 'M' is deprecated and will be removed in a future version, please use 'ME' instead.\n",
            "  offset = pd.tseries.frequencies.to_offset(freq)\n",
            "/usr/local/lib/python3.11/dist-packages/gluonts/time_feature/seasonality.py:47: FutureWarning: 'M' is deprecated and will be removed in a future version, please use 'ME' instead.\n",
            "  offset = pd.tseries.frequencies.to_offset(freq)\n",
            "/usr/local/lib/python3.11/dist-packages/gluonts/time_feature/seasonality.py:47: FutureWarning: 'M' is deprecated and will be removed in a future version, please use 'ME' instead.\n",
            "  offset = pd.tseries.frequencies.to_offset(freq)\n",
            "/usr/local/lib/python3.11/dist-packages/gluonts/time_feature/seasonality.py:47: FutureWarning: 'M' is deprecated and will be removed in a future version, please use 'ME' instead.\n",
            "  offset = pd.tseries.frequencies.to_offset(freq)\n",
            "/usr/local/lib/python3.11/dist-packages/gluonts/time_feature/seasonality.py:47: FutureWarning: 'M' is deprecated and will be removed in a future version, please use 'ME' instead.\n",
            "  offset = pd.tseries.frequencies.to_offset(freq)\n",
            "/usr/local/lib/python3.11/dist-packages/gluonts/time_feature/seasonality.py:47: FutureWarning: 'M' is deprecated and will be removed in a future version, please use 'ME' instead.\n",
            "  offset = pd.tseries.frequencies.to_offset(freq)\n",
            "/usr/local/lib/python3.11/dist-packages/gluonts/time_feature/seasonality.py:47: FutureWarning: 'M' is deprecated and will be removed in a future version, please use 'ME' instead.\n",
            "  offset = pd.tseries.frequencies.to_offset(freq)\n",
            "/usr/local/lib/python3.11/dist-packages/gluonts/time_feature/seasonality.py:47: FutureWarning: 'M' is deprecated and will be removed in a future version, please use 'ME' instead.\n",
            "  offset = pd.tseries.frequencies.to_offset(freq)\n",
            "/usr/local/lib/python3.11/dist-packages/gluonts/time_feature/seasonality.py:47: FutureWarning: 'M' is deprecated and will be removed in a future version, please use 'ME' instead.\n",
            "  offset = pd.tseries.frequencies.to_offset(freq)\n",
            "/usr/local/lib/python3.11/dist-packages/gluonts/time_feature/seasonality.py:47: FutureWarning: 'M' is deprecated and will be removed in a future version, please use 'ME' instead.\n",
            "  offset = pd.tseries.frequencies.to_offset(freq)\n",
            "/usr/local/lib/python3.11/dist-packages/gluonts/time_feature/seasonality.py:47: FutureWarning: 'M' is deprecated and will be removed in a future version, please use 'ME' instead.\n",
            "  offset = pd.tseries.frequencies.to_offset(freq)\n",
            "/usr/local/lib/python3.11/dist-packages/gluonts/time_feature/seasonality.py:47: FutureWarning: 'M' is deprecated and will be removed in a future version, please use 'ME' instead.\n",
            "  offset = pd.tseries.frequencies.to_offset(freq)\n",
            "/usr/local/lib/python3.11/dist-packages/gluonts/time_feature/seasonality.py:47: FutureWarning: 'M' is deprecated and will be removed in a future version, please use 'ME' instead.\n",
            "  offset = pd.tseries.frequencies.to_offset(freq)\n",
            "/usr/local/lib/python3.11/dist-packages/gluonts/time_feature/seasonality.py:47: FutureWarning: 'M' is deprecated and will be removed in a future version, please use 'ME' instead.\n",
            "  offset = pd.tseries.frequencies.to_offset(freq)\n",
            "/usr/local/lib/python3.11/dist-packages/gluonts/time_feature/seasonality.py:47: FutureWarning: 'M' is deprecated and will be removed in a future version, please use 'ME' instead.\n",
            "  offset = pd.tseries.frequencies.to_offset(freq)\n",
            "/usr/local/lib/python3.11/dist-packages/gluonts/time_feature/seasonality.py:47: FutureWarning: 'M' is deprecated and will be removed in a future version, please use 'ME' instead.\n",
            "  offset = pd.tseries.frequencies.to_offset(freq)\n",
            "/usr/local/lib/python3.11/dist-packages/gluonts/time_feature/seasonality.py:47: FutureWarning: 'M' is deprecated and will be removed in a future version, please use 'ME' instead.\n",
            "  offset = pd.tseries.frequencies.to_offset(freq)\n",
            "/usr/local/lib/python3.11/dist-packages/gluonts/time_feature/seasonality.py:47: FutureWarning: 'M' is deprecated and will be removed in a future version, please use 'ME' instead.\n",
            "  offset = pd.tseries.frequencies.to_offset(freq)\n",
            "/usr/local/lib/python3.11/dist-packages/gluonts/time_feature/seasonality.py:47: FutureWarning: 'M' is deprecated and will be removed in a future version, please use 'ME' instead.\n",
            "  offset = pd.tseries.frequencies.to_offset(freq)\n",
            "/usr/local/lib/python3.11/dist-packages/gluonts/time_feature/seasonality.py:47: FutureWarning: 'M' is deprecated and will be removed in a future version, please use 'ME' instead.\n",
            "  offset = pd.tseries.frequencies.to_offset(freq)\n",
            "/usr/local/lib/python3.11/dist-packages/gluonts/time_feature/seasonality.py:47: FutureWarning: 'M' is deprecated and will be removed in a future version, please use 'ME' instead.\n",
            "  offset = pd.tseries.frequencies.to_offset(freq)\n",
            "/usr/local/lib/python3.11/dist-packages/gluonts/time_feature/seasonality.py:47: FutureWarning: 'M' is deprecated and will be removed in a future version, please use 'ME' instead.\n",
            "  offset = pd.tseries.frequencies.to_offset(freq)\n",
            "/usr/local/lib/python3.11/dist-packages/gluonts/time_feature/seasonality.py:47: FutureWarning: 'M' is deprecated and will be removed in a future version, please use 'ME' instead.\n",
            "  offset = pd.tseries.frequencies.to_offset(freq)\n",
            "/usr/local/lib/python3.11/dist-packages/gluonts/time_feature/seasonality.py:47: FutureWarning: 'M' is deprecated and will be removed in a future version, please use 'ME' instead.\n",
            "  offset = pd.tseries.frequencies.to_offset(freq)\n",
            "/usr/local/lib/python3.11/dist-packages/gluonts/time_feature/seasonality.py:47: FutureWarning: 'M' is deprecated and will be removed in a future version, please use 'ME' instead.\n",
            "  offset = pd.tseries.frequencies.to_offset(freq)\n",
            "/usr/local/lib/python3.11/dist-packages/gluonts/time_feature/seasonality.py:47: FutureWarning: 'M' is deprecated and will be removed in a future version, please use 'ME' instead.\n",
            "  offset = pd.tseries.frequencies.to_offset(freq)\n",
            "/usr/local/lib/python3.11/dist-packages/gluonts/time_feature/seasonality.py:47: FutureWarning: 'M' is deprecated and will be removed in a future version, please use 'ME' instead.\n",
            "  offset = pd.tseries.frequencies.to_offset(freq)\n",
            "/usr/local/lib/python3.11/dist-packages/gluonts/time_feature/seasonality.py:47: FutureWarning: 'M' is deprecated and will be removed in a future version, please use 'ME' instead.\n",
            "  offset = pd.tseries.frequencies.to_offset(freq)\n",
            "/usr/local/lib/python3.11/dist-packages/gluonts/time_feature/seasonality.py:47: FutureWarning: 'M' is deprecated and will be removed in a future version, please use 'ME' instead.\n",
            "  offset = pd.tseries.frequencies.to_offset(freq)\n",
            "/usr/local/lib/python3.11/dist-packages/gluonts/time_feature/seasonality.py:47: FutureWarning: 'M' is deprecated and will be removed in a future version, please use 'ME' instead.\n",
            "  offset = pd.tseries.frequencies.to_offset(freq)\n",
            "/usr/local/lib/python3.11/dist-packages/gluonts/time_feature/seasonality.py:47: FutureWarning: 'M' is deprecated and will be removed in a future version, please use 'ME' instead.\n",
            "  offset = pd.tseries.frequencies.to_offset(freq)\n",
            "/usr/local/lib/python3.11/dist-packages/gluonts/time_feature/seasonality.py:47: FutureWarning: 'M' is deprecated and will be removed in a future version, please use 'ME' instead.\n",
            "  offset = pd.tseries.frequencies.to_offset(freq)\n",
            "/usr/local/lib/python3.11/dist-packages/gluonts/time_feature/seasonality.py:47: FutureWarning: 'M' is deprecated and will be removed in a future version, please use 'ME' instead.\n",
            "  offset = pd.tseries.frequencies.to_offset(freq)\n",
            "/usr/local/lib/python3.11/dist-packages/gluonts/time_feature/seasonality.py:47: FutureWarning: 'M' is deprecated and will be removed in a future version, please use 'ME' instead.\n",
            "  offset = pd.tseries.frequencies.to_offset(freq)\n",
            "/usr/local/lib/python3.11/dist-packages/gluonts/time_feature/seasonality.py:47: FutureWarning: 'M' is deprecated and will be removed in a future version, please use 'ME' instead.\n",
            "  offset = pd.tseries.frequencies.to_offset(freq)\n",
            "/usr/local/lib/python3.11/dist-packages/gluonts/time_feature/seasonality.py:47: FutureWarning: 'M' is deprecated and will be removed in a future version, please use 'ME' instead.\n",
            "  offset = pd.tseries.frequencies.to_offset(freq)\n",
            "/usr/local/lib/python3.11/dist-packages/gluonts/time_feature/seasonality.py:47: FutureWarning: 'M' is deprecated and will be removed in a future version, please use 'ME' instead.\n",
            "  offset = pd.tseries.frequencies.to_offset(freq)\n",
            "/usr/local/lib/python3.11/dist-packages/gluonts/time_feature/seasonality.py:47: FutureWarning: 'M' is deprecated and will be removed in a future version, please use 'ME' instead.\n",
            "  offset = pd.tseries.frequencies.to_offset(freq)\n",
            "/usr/local/lib/python3.11/dist-packages/gluonts/time_feature/seasonality.py:47: FutureWarning: 'M' is deprecated and will be removed in a future version, please use 'ME' instead.\n",
            "  offset = pd.tseries.frequencies.to_offset(freq)\n",
            "/usr/local/lib/python3.11/dist-packages/gluonts/time_feature/seasonality.py:47: FutureWarning: 'M' is deprecated and will be removed in a future version, please use 'ME' instead.\n",
            "  offset = pd.tseries.frequencies.to_offset(freq)\n",
            "/usr/local/lib/python3.11/dist-packages/gluonts/time_feature/seasonality.py:47: FutureWarning: 'M' is deprecated and will be removed in a future version, please use 'ME' instead.\n",
            "  offset = pd.tseries.frequencies.to_offset(freq)\n",
            "/usr/local/lib/python3.11/dist-packages/gluonts/time_feature/seasonality.py:47: FutureWarning: 'M' is deprecated and will be removed in a future version, please use 'ME' instead.\n",
            "  offset = pd.tseries.frequencies.to_offset(freq)\n",
            "/usr/local/lib/python3.11/dist-packages/gluonts/time_feature/seasonality.py:47: FutureWarning: 'M' is deprecated and will be removed in a future version, please use 'ME' instead.\n",
            "  offset = pd.tseries.frequencies.to_offset(freq)\n",
            "/usr/local/lib/python3.11/dist-packages/gluonts/time_feature/seasonality.py:47: FutureWarning: 'M' is deprecated and will be removed in a future version, please use 'ME' instead.\n",
            "  offset = pd.tseries.frequencies.to_offset(freq)\n",
            "/usr/local/lib/python3.11/dist-packages/gluonts/time_feature/seasonality.py:47: FutureWarning: 'M' is deprecated and will be removed in a future version, please use 'ME' instead.\n",
            "  offset = pd.tseries.frequencies.to_offset(freq)\n",
            "/usr/local/lib/python3.11/dist-packages/gluonts/time_feature/seasonality.py:47: FutureWarning: 'M' is deprecated and will be removed in a future version, please use 'ME' instead.\n",
            "  offset = pd.tseries.frequencies.to_offset(freq)\n",
            "/usr/local/lib/python3.11/dist-packages/gluonts/time_feature/seasonality.py:47: FutureWarning: 'M' is deprecated and will be removed in a future version, please use 'ME' instead.\n",
            "  offset = pd.tseries.frequencies.to_offset(freq)\n",
            "/usr/local/lib/python3.11/dist-packages/gluonts/time_feature/seasonality.py:47: FutureWarning: 'M' is deprecated and will be removed in a future version, please use 'ME' instead.\n",
            "  offset = pd.tseries.frequencies.to_offset(freq)\n",
            "/usr/local/lib/python3.11/dist-packages/gluonts/time_feature/seasonality.py:47: FutureWarning: 'M' is deprecated and will be removed in a future version, please use 'ME' instead.\n",
            "  offset = pd.tseries.frequencies.to_offset(freq)\n",
            "/usr/local/lib/python3.11/dist-packages/gluonts/time_feature/seasonality.py:47: FutureWarning: 'M' is deprecated and will be removed in a future version, please use 'ME' instead.\n",
            "  offset = pd.tseries.frequencies.to_offset(freq)\n",
            "/usr/local/lib/python3.11/dist-packages/gluonts/time_feature/seasonality.py:47: FutureWarning: 'M' is deprecated and will be removed in a future version, please use 'ME' instead.\n",
            "  offset = pd.tseries.frequencies.to_offset(freq)\n",
            "/usr/local/lib/python3.11/dist-packages/gluonts/time_feature/seasonality.py:47: FutureWarning: 'M' is deprecated and will be removed in a future version, please use 'ME' instead.\n",
            "  offset = pd.tseries.frequencies.to_offset(freq)\n",
            "/usr/local/lib/python3.11/dist-packages/gluonts/time_feature/seasonality.py:47: FutureWarning: 'M' is deprecated and will be removed in a future version, please use 'ME' instead.\n",
            "  offset = pd.tseries.frequencies.to_offset(freq)\n",
            "/usr/local/lib/python3.11/dist-packages/gluonts/time_feature/seasonality.py:47: FutureWarning: 'M' is deprecated and will be removed in a future version, please use 'ME' instead.\n",
            "  offset = pd.tseries.frequencies.to_offset(freq)\n",
            "/usr/local/lib/python3.11/dist-packages/gluonts/time_feature/seasonality.py:47: FutureWarning: 'M' is deprecated and will be removed in a future version, please use 'ME' instead.\n",
            "  offset = pd.tseries.frequencies.to_offset(freq)\n",
            "/usr/local/lib/python3.11/dist-packages/gluonts/time_feature/seasonality.py:47: FutureWarning: 'M' is deprecated and will be removed in a future version, please use 'ME' instead.\n",
            "  offset = pd.tseries.frequencies.to_offset(freq)\n",
            "/usr/local/lib/python3.11/dist-packages/gluonts/time_feature/seasonality.py:47: FutureWarning: 'M' is deprecated and will be removed in a future version, please use 'ME' instead.\n",
            "  offset = pd.tseries.frequencies.to_offset(freq)\n",
            "/usr/local/lib/python3.11/dist-packages/gluonts/time_feature/seasonality.py:47: FutureWarning: 'M' is deprecated and will be removed in a future version, please use 'ME' instead.\n",
            "  offset = pd.tseries.frequencies.to_offset(freq)\n",
            "/usr/local/lib/python3.11/dist-packages/gluonts/time_feature/seasonality.py:47: FutureWarning: 'M' is deprecated and will be removed in a future version, please use 'ME' instead.\n",
            "  offset = pd.tseries.frequencies.to_offset(freq)\n",
            "/usr/local/lib/python3.11/dist-packages/gluonts/time_feature/seasonality.py:47: FutureWarning: 'M' is deprecated and will be removed in a future version, please use 'ME' instead.\n",
            "  offset = pd.tseries.frequencies.to_offset(freq)\n",
            "/usr/local/lib/python3.11/dist-packages/gluonts/time_feature/seasonality.py:47: FutureWarning: 'M' is deprecated and will be removed in a future version, please use 'ME' instead.\n",
            "  offset = pd.tseries.frequencies.to_offset(freq)\n",
            "/usr/local/lib/python3.11/dist-packages/gluonts/time_feature/seasonality.py:47: FutureWarning: 'M' is deprecated and will be removed in a future version, please use 'ME' instead.\n",
            "  offset = pd.tseries.frequencies.to_offset(freq)\n",
            "/usr/local/lib/python3.11/dist-packages/gluonts/time_feature/seasonality.py:47: FutureWarning: 'M' is deprecated and will be removed in a future version, please use 'ME' instead.\n",
            "  offset = pd.tseries.frequencies.to_offset(freq)\n",
            "/usr/local/lib/python3.11/dist-packages/gluonts/time_feature/seasonality.py:47: FutureWarning: 'M' is deprecated and will be removed in a future version, please use 'ME' instead.\n",
            "  offset = pd.tseries.frequencies.to_offset(freq)\n",
            "/usr/local/lib/python3.11/dist-packages/gluonts/time_feature/seasonality.py:47: FutureWarning: 'M' is deprecated and will be removed in a future version, please use 'ME' instead.\n",
            "  offset = pd.tseries.frequencies.to_offset(freq)\n",
            "/usr/local/lib/python3.11/dist-packages/gluonts/time_feature/seasonality.py:47: FutureWarning: 'M' is deprecated and will be removed in a future version, please use 'ME' instead.\n",
            "  offset = pd.tseries.frequencies.to_offset(freq)\n",
            "/usr/local/lib/python3.11/dist-packages/gluonts/time_feature/seasonality.py:47: FutureWarning: 'M' is deprecated and will be removed in a future version, please use 'ME' instead.\n",
            "  offset = pd.tseries.frequencies.to_offset(freq)\n",
            "/usr/local/lib/python3.11/dist-packages/gluonts/time_feature/seasonality.py:47: FutureWarning: 'M' is deprecated and will be removed in a future version, please use 'ME' instead.\n",
            "  offset = pd.tseries.frequencies.to_offset(freq)\n",
            "/usr/local/lib/python3.11/dist-packages/gluonts/time_feature/seasonality.py:47: FutureWarning: 'M' is deprecated and will be removed in a future version, please use 'ME' instead.\n",
            "  offset = pd.tseries.frequencies.to_offset(freq)\n",
            "/usr/local/lib/python3.11/dist-packages/gluonts/time_feature/seasonality.py:47: FutureWarning: 'M' is deprecated and will be removed in a future version, please use 'ME' instead.\n",
            "  offset = pd.tseries.frequencies.to_offset(freq)\n",
            "/usr/local/lib/python3.11/dist-packages/gluonts/time_feature/seasonality.py:47: FutureWarning: 'M' is deprecated and will be removed in a future version, please use 'ME' instead.\n",
            "  offset = pd.tseries.frequencies.to_offset(freq)\n",
            "/usr/local/lib/python3.11/dist-packages/gluonts/time_feature/seasonality.py:47: FutureWarning: 'M' is deprecated and will be removed in a future version, please use 'ME' instead.\n",
            "  offset = pd.tseries.frequencies.to_offset(freq)\n",
            "/usr/local/lib/python3.11/dist-packages/gluonts/time_feature/seasonality.py:47: FutureWarning: 'M' is deprecated and will be removed in a future version, please use 'ME' instead.\n",
            "  offset = pd.tseries.frequencies.to_offset(freq)\n",
            "/usr/local/lib/python3.11/dist-packages/gluonts/time_feature/seasonality.py:47: FutureWarning: 'M' is deprecated and will be removed in a future version, please use 'ME' instead.\n",
            "  offset = pd.tseries.frequencies.to_offset(freq)\n",
            "/usr/local/lib/python3.11/dist-packages/gluonts/time_feature/seasonality.py:47: FutureWarning: 'M' is deprecated and will be removed in a future version, please use 'ME' instead.\n",
            "  offset = pd.tseries.frequencies.to_offset(freq)\n",
            "/usr/local/lib/python3.11/dist-packages/gluonts/time_feature/seasonality.py:47: FutureWarning: 'M' is deprecated and will be removed in a future version, please use 'ME' instead.\n",
            "  offset = pd.tseries.frequencies.to_offset(freq)\n",
            "/usr/local/lib/python3.11/dist-packages/gluonts/time_feature/seasonality.py:47: FutureWarning: 'M' is deprecated and will be removed in a future version, please use 'ME' instead.\n",
            "  offset = pd.tseries.frequencies.to_offset(freq)\n",
            "/usr/local/lib/python3.11/dist-packages/gluonts/time_feature/seasonality.py:47: FutureWarning: 'M' is deprecated and will be removed in a future version, please use 'ME' instead.\n",
            "  offset = pd.tseries.frequencies.to_offset(freq)\n",
            "/usr/local/lib/python3.11/dist-packages/gluonts/time_feature/seasonality.py:47: FutureWarning: 'M' is deprecated and will be removed in a future version, please use 'ME' instead.\n",
            "  offset = pd.tseries.frequencies.to_offset(freq)\n",
            "/usr/local/lib/python3.11/dist-packages/gluonts/time_feature/seasonality.py:47: FutureWarning: 'M' is deprecated and will be removed in a future version, please use 'ME' instead.\n",
            "  offset = pd.tseries.frequencies.to_offset(freq)\n",
            "/usr/local/lib/python3.11/dist-packages/gluonts/time_feature/seasonality.py:47: FutureWarning: 'M' is deprecated and will be removed in a future version, please use 'ME' instead.\n",
            "  offset = pd.tseries.frequencies.to_offset(freq)\n",
            "/usr/local/lib/python3.11/dist-packages/gluonts/time_feature/seasonality.py:47: FutureWarning: 'M' is deprecated and will be removed in a future version, please use 'ME' instead.\n",
            "  offset = pd.tseries.frequencies.to_offset(freq)\n",
            "/usr/local/lib/python3.11/dist-packages/gluonts/time_feature/seasonality.py:47: FutureWarning: 'M' is deprecated and will be removed in a future version, please use 'ME' instead.\n",
            "  offset = pd.tseries.frequencies.to_offset(freq)\n",
            "/usr/local/lib/python3.11/dist-packages/gluonts/time_feature/seasonality.py:47: FutureWarning: 'M' is deprecated and will be removed in a future version, please use 'ME' instead.\n",
            "  offset = pd.tseries.frequencies.to_offset(freq)\n",
            "/usr/local/lib/python3.11/dist-packages/gluonts/time_feature/seasonality.py:47: FutureWarning: 'M' is deprecated and will be removed in a future version, please use 'ME' instead.\n",
            "  offset = pd.tseries.frequencies.to_offset(freq)\n",
            "/usr/local/lib/python3.11/dist-packages/gluonts/time_feature/seasonality.py:47: FutureWarning: 'M' is deprecated and will be removed in a future version, please use 'ME' instead.\n",
            "  offset = pd.tseries.frequencies.to_offset(freq)\n",
            "/usr/local/lib/python3.11/dist-packages/gluonts/time_feature/seasonality.py:47: FutureWarning: 'M' is deprecated and will be removed in a future version, please use 'ME' instead.\n",
            "  offset = pd.tseries.frequencies.to_offset(freq)\n",
            "/usr/local/lib/python3.11/dist-packages/gluonts/time_feature/seasonality.py:47: FutureWarning: 'M' is deprecated and will be removed in a future version, please use 'ME' instead.\n",
            "  offset = pd.tseries.frequencies.to_offset(freq)\n",
            "/usr/local/lib/python3.11/dist-packages/gluonts/time_feature/seasonality.py:47: FutureWarning: 'M' is deprecated and will be removed in a future version, please use 'ME' instead.\n",
            "  offset = pd.tseries.frequencies.to_offset(freq)\n",
            "/usr/local/lib/python3.11/dist-packages/gluonts/time_feature/seasonality.py:47: FutureWarning: 'M' is deprecated and will be removed in a future version, please use 'ME' instead.\n",
            "  offset = pd.tseries.frequencies.to_offset(freq)\n",
            "/usr/local/lib/python3.11/dist-packages/gluonts/time_feature/seasonality.py:47: FutureWarning: 'M' is deprecated and will be removed in a future version, please use 'ME' instead.\n",
            "  offset = pd.tseries.frequencies.to_offset(freq)\n",
            "/usr/local/lib/python3.11/dist-packages/gluonts/time_feature/seasonality.py:47: FutureWarning: 'M' is deprecated and will be removed in a future version, please use 'ME' instead.\n",
            "  offset = pd.tseries.frequencies.to_offset(freq)\n",
            "/usr/local/lib/python3.11/dist-packages/gluonts/time_feature/seasonality.py:47: FutureWarning: 'M' is deprecated and will be removed in a future version, please use 'ME' instead.\n",
            "  offset = pd.tseries.frequencies.to_offset(freq)\n",
            "/usr/local/lib/python3.11/dist-packages/gluonts/time_feature/seasonality.py:47: FutureWarning: 'M' is deprecated and will be removed in a future version, please use 'ME' instead.\n",
            "  offset = pd.tseries.frequencies.to_offset(freq)\n",
            "/usr/local/lib/python3.11/dist-packages/gluonts/time_feature/seasonality.py:47: FutureWarning: 'M' is deprecated and will be removed in a future version, please use 'ME' instead.\n",
            "  offset = pd.tseries.frequencies.to_offset(freq)\n",
            "/usr/local/lib/python3.11/dist-packages/gluonts/time_feature/seasonality.py:47: FutureWarning: 'M' is deprecated and will be removed in a future version, please use 'ME' instead.\n",
            "  offset = pd.tseries.frequencies.to_offset(freq)\n",
            "/usr/local/lib/python3.11/dist-packages/gluonts/time_feature/seasonality.py:47: FutureWarning: 'M' is deprecated and will be removed in a future version, please use 'ME' instead.\n",
            "  offset = pd.tseries.frequencies.to_offset(freq)\n",
            "/usr/local/lib/python3.11/dist-packages/gluonts/time_feature/seasonality.py:47: FutureWarning: 'M' is deprecated and will be removed in a future version, please use 'ME' instead.\n",
            "  offset = pd.tseries.frequencies.to_offset(freq)\n",
            "/usr/local/lib/python3.11/dist-packages/gluonts/time_feature/seasonality.py:47: FutureWarning: 'M' is deprecated and will be removed in a future version, please use 'ME' instead.\n",
            "  offset = pd.tseries.frequencies.to_offset(freq)\n",
            "/usr/local/lib/python3.11/dist-packages/gluonts/time_feature/seasonality.py:47: FutureWarning: 'M' is deprecated and will be removed in a future version, please use 'ME' instead.\n",
            "  offset = pd.tseries.frequencies.to_offset(freq)\n",
            "/usr/local/lib/python3.11/dist-packages/gluonts/time_feature/seasonality.py:47: FutureWarning: 'M' is deprecated and will be removed in a future version, please use 'ME' instead.\n",
            "  offset = pd.tseries.frequencies.to_offset(freq)\n",
            "/usr/local/lib/python3.11/dist-packages/gluonts/time_feature/seasonality.py:47: FutureWarning: 'M' is deprecated and will be removed in a future version, please use 'ME' instead.\n",
            "  offset = pd.tseries.frequencies.to_offset(freq)\n",
            "/usr/local/lib/python3.11/dist-packages/gluonts/time_feature/seasonality.py:47: FutureWarning: 'M' is deprecated and will be removed in a future version, please use 'ME' instead.\n",
            "  offset = pd.tseries.frequencies.to_offset(freq)\n",
            "/usr/local/lib/python3.11/dist-packages/gluonts/time_feature/seasonality.py:47: FutureWarning: 'M' is deprecated and will be removed in a future version, please use 'ME' instead.\n",
            "  offset = pd.tseries.frequencies.to_offset(freq)\n",
            "/usr/local/lib/python3.11/dist-packages/gluonts/time_feature/seasonality.py:47: FutureWarning: 'M' is deprecated and will be removed in a future version, please use 'ME' instead.\n",
            "  offset = pd.tseries.frequencies.to_offset(freq)\n",
            "/usr/local/lib/python3.11/dist-packages/gluonts/time_feature/seasonality.py:47: FutureWarning: 'M' is deprecated and will be removed in a future version, please use 'ME' instead.\n",
            "  offset = pd.tseries.frequencies.to_offset(freq)\n",
            "/usr/local/lib/python3.11/dist-packages/gluonts/time_feature/seasonality.py:47: FutureWarning: 'M' is deprecated and will be removed in a future version, please use 'ME' instead.\n",
            "  offset = pd.tseries.frequencies.to_offset(freq)\n",
            "/usr/local/lib/python3.11/dist-packages/gluonts/time_feature/seasonality.py:47: FutureWarning: 'M' is deprecated and will be removed in a future version, please use 'ME' instead.\n",
            "  offset = pd.tseries.frequencies.to_offset(freq)\n",
            "/usr/local/lib/python3.11/dist-packages/gluonts/time_feature/seasonality.py:47: FutureWarning: 'M' is deprecated and will be removed in a future version, please use 'ME' instead.\n",
            "  offset = pd.tseries.frequencies.to_offset(freq)\n",
            "/usr/local/lib/python3.11/dist-packages/gluonts/time_feature/seasonality.py:47: FutureWarning: 'M' is deprecated and will be removed in a future version, please use 'ME' instead.\n",
            "  offset = pd.tseries.frequencies.to_offset(freq)\n",
            "/usr/local/lib/python3.11/dist-packages/gluonts/time_feature/seasonality.py:47: FutureWarning: 'M' is deprecated and will be removed in a future version, please use 'ME' instead.\n",
            "  offset = pd.tseries.frequencies.to_offset(freq)\n",
            "/usr/local/lib/python3.11/dist-packages/gluonts/time_feature/seasonality.py:47: FutureWarning: 'M' is deprecated and will be removed in a future version, please use 'ME' instead.\n",
            "  offset = pd.tseries.frequencies.to_offset(freq)\n",
            "/usr/local/lib/python3.11/dist-packages/gluonts/time_feature/seasonality.py:47: FutureWarning: 'M' is deprecated and will be removed in a future version, please use 'ME' instead.\n",
            "  offset = pd.tseries.frequencies.to_offset(freq)\n",
            "/usr/local/lib/python3.11/dist-packages/gluonts/time_feature/seasonality.py:47: FutureWarning: 'M' is deprecated and will be removed in a future version, please use 'ME' instead.\n",
            "  offset = pd.tseries.frequencies.to_offset(freq)\n",
            "/usr/local/lib/python3.11/dist-packages/gluonts/time_feature/seasonality.py:47: FutureWarning: 'M' is deprecated and will be removed in a future version, please use 'ME' instead.\n",
            "  offset = pd.tseries.frequencies.to_offset(freq)\n",
            "/usr/local/lib/python3.11/dist-packages/gluonts/time_feature/seasonality.py:47: FutureWarning: 'M' is deprecated and will be removed in a future version, please use 'ME' instead.\n",
            "  offset = pd.tseries.frequencies.to_offset(freq)\n",
            "/usr/local/lib/python3.11/dist-packages/gluonts/time_feature/seasonality.py:47: FutureWarning: 'M' is deprecated and will be removed in a future version, please use 'ME' instead.\n",
            "  offset = pd.tseries.frequencies.to_offset(freq)\n",
            "/usr/local/lib/python3.11/dist-packages/gluonts/time_feature/seasonality.py:47: FutureWarning: 'M' is deprecated and will be removed in a future version, please use 'ME' instead.\n",
            "  offset = pd.tseries.frequencies.to_offset(freq)\n",
            "/usr/local/lib/python3.11/dist-packages/gluonts/time_feature/seasonality.py:47: FutureWarning: 'M' is deprecated and will be removed in a future version, please use 'ME' instead.\n",
            "  offset = pd.tseries.frequencies.to_offset(freq)\n",
            "/usr/local/lib/python3.11/dist-packages/gluonts/time_feature/seasonality.py:47: FutureWarning: 'M' is deprecated and will be removed in a future version, please use 'ME' instead.\n",
            "  offset = pd.tseries.frequencies.to_offset(freq)\n",
            "/usr/local/lib/python3.11/dist-packages/gluonts/time_feature/seasonality.py:47: FutureWarning: 'M' is deprecated and will be removed in a future version, please use 'ME' instead.\n",
            "  offset = pd.tseries.frequencies.to_offset(freq)\n",
            "/usr/local/lib/python3.11/dist-packages/gluonts/time_feature/seasonality.py:47: FutureWarning: 'M' is deprecated and will be removed in a future version, please use 'ME' instead.\n",
            "  offset = pd.tseries.frequencies.to_offset(freq)\n",
            "/usr/local/lib/python3.11/dist-packages/gluonts/time_feature/seasonality.py:47: FutureWarning: 'M' is deprecated and will be removed in a future version, please use 'ME' instead.\n",
            "  offset = pd.tseries.frequencies.to_offset(freq)\n",
            "/usr/local/lib/python3.11/dist-packages/gluonts/time_feature/seasonality.py:47: FutureWarning: 'M' is deprecated and will be removed in a future version, please use 'ME' instead.\n",
            "  offset = pd.tseries.frequencies.to_offset(freq)\n",
            "/usr/local/lib/python3.11/dist-packages/gluonts/time_feature/seasonality.py:47: FutureWarning: 'M' is deprecated and will be removed in a future version, please use 'ME' instead.\n",
            "  offset = pd.tseries.frequencies.to_offset(freq)\n",
            "/usr/local/lib/python3.11/dist-packages/gluonts/time_feature/seasonality.py:47: FutureWarning: 'M' is deprecated and will be removed in a future version, please use 'ME' instead.\n",
            "  offset = pd.tseries.frequencies.to_offset(freq)\n",
            "/usr/local/lib/python3.11/dist-packages/gluonts/time_feature/seasonality.py:47: FutureWarning: 'M' is deprecated and will be removed in a future version, please use 'ME' instead.\n",
            "  offset = pd.tseries.frequencies.to_offset(freq)\n",
            "/usr/local/lib/python3.11/dist-packages/gluonts/time_feature/seasonality.py:47: FutureWarning: 'M' is deprecated and will be removed in a future version, please use 'ME' instead.\n",
            "  offset = pd.tseries.frequencies.to_offset(freq)\n",
            "/usr/local/lib/python3.11/dist-packages/gluonts/time_feature/seasonality.py:47: FutureWarning: 'M' is deprecated and will be removed in a future version, please use 'ME' instead.\n",
            "  offset = pd.tseries.frequencies.to_offset(freq)\n",
            "/usr/local/lib/python3.11/dist-packages/gluonts/time_feature/seasonality.py:47: FutureWarning: 'M' is deprecated and will be removed in a future version, please use 'ME' instead.\n",
            "  offset = pd.tseries.frequencies.to_offset(freq)\n",
            "/usr/local/lib/python3.11/dist-packages/gluonts/time_feature/seasonality.py:47: FutureWarning: 'M' is deprecated and will be removed in a future version, please use 'ME' instead.\n",
            "  offset = pd.tseries.frequencies.to_offset(freq)\n",
            "/usr/local/lib/python3.11/dist-packages/gluonts/time_feature/seasonality.py:47: FutureWarning: 'M' is deprecated and will be removed in a future version, please use 'ME' instead.\n",
            "  offset = pd.tseries.frequencies.to_offset(freq)\n",
            "/usr/local/lib/python3.11/dist-packages/gluonts/time_feature/seasonality.py:47: FutureWarning: 'M' is deprecated and will be removed in a future version, please use 'ME' instead.\n",
            "  offset = pd.tseries.frequencies.to_offset(freq)\n",
            "/usr/local/lib/python3.11/dist-packages/gluonts/time_feature/seasonality.py:47: FutureWarning: 'M' is deprecated and will be removed in a future version, please use 'ME' instead.\n",
            "  offset = pd.tseries.frequencies.to_offset(freq)\n",
            "/usr/local/lib/python3.11/dist-packages/gluonts/time_feature/seasonality.py:47: FutureWarning: 'M' is deprecated and will be removed in a future version, please use 'ME' instead.\n",
            "  offset = pd.tseries.frequencies.to_offset(freq)\n",
            "/usr/local/lib/python3.11/dist-packages/gluonts/time_feature/seasonality.py:47: FutureWarning: 'M' is deprecated and will be removed in a future version, please use 'ME' instead.\n",
            "  offset = pd.tseries.frequencies.to_offset(freq)\n",
            "/usr/local/lib/python3.11/dist-packages/gluonts/time_feature/seasonality.py:47: FutureWarning: 'M' is deprecated and will be removed in a future version, please use 'ME' instead.\n",
            "  offset = pd.tseries.frequencies.to_offset(freq)\n",
            "/usr/local/lib/python3.11/dist-packages/gluonts/time_feature/seasonality.py:47: FutureWarning: 'M' is deprecated and will be removed in a future version, please use 'ME' instead.\n",
            "  offset = pd.tseries.frequencies.to_offset(freq)\n",
            "/usr/local/lib/python3.11/dist-packages/gluonts/time_feature/seasonality.py:47: FutureWarning: 'M' is deprecated and will be removed in a future version, please use 'ME' instead.\n",
            "  offset = pd.tseries.frequencies.to_offset(freq)\n",
            "/usr/local/lib/python3.11/dist-packages/gluonts/time_feature/seasonality.py:47: FutureWarning: 'M' is deprecated and will be removed in a future version, please use 'ME' instead.\n",
            "  offset = pd.tseries.frequencies.to_offset(freq)\n",
            "/usr/local/lib/python3.11/dist-packages/gluonts/time_feature/seasonality.py:47: FutureWarning: 'M' is deprecated and will be removed in a future version, please use 'ME' instead.\n",
            "  offset = pd.tseries.frequencies.to_offset(freq)\n",
            "/usr/local/lib/python3.11/dist-packages/gluonts/time_feature/seasonality.py:47: FutureWarning: 'M' is deprecated and will be removed in a future version, please use 'ME' instead.\n",
            "  offset = pd.tseries.frequencies.to_offset(freq)\n"
          ]
        }
      ],
      "source": [
        "from evaluate import load\n",
        "from gluonts.time_feature import get_seasonality\n",
        "\n",
        "mase_metric = load(\"evaluate-metric/mase\")\n",
        "smape_metric = load(\"evaluate-metric/smape\")\n",
        "\n",
        "forecast_median = np.median(forecasts, 1)\n",
        "\n",
        "mase_metrics = []\n",
        "smape_metrics = []\n",
        "for item_id, ts in enumerate(test_dataset):\n",
        "    training_data = ts[\"target\"][:-prediction_length]\n",
        "    ground_truth = ts[\"target\"][-prediction_length:]\n",
        "    mase = mase_metric.compute(\n",
        "        predictions=forecast_median[item_id],\n",
        "        references=np.array(ground_truth),\n",
        "        training=np.array(training_data),\n",
        "        periodicity=get_seasonality(freq),\n",
        "    )\n",
        "    mase_metrics.append(mase[\"mase\"])\n",
        "\n",
        "    smape = smape_metric.compute(\n",
        "        predictions=forecast_median[item_id],\n",
        "        references=np.array(ground_truth),\n",
        "    )\n",
        "    smape_metrics.append(smape[\"smape\"])"
      ]
    },
    {
      "cell_type": "code",
      "execution_count": null,
      "id": "fuuFbNYdZlIR",
      "metadata": {
        "colab": {
          "base_uri": "https://localhost:8080/"
        },
        "id": "fuuFbNYdZlIR",
        "outputId": "a41aca3c-8d1c-4e1c-ee3c-81dfd1483cf2"
      },
      "outputs": [
        {
          "output_type": "stream",
          "name": "stdout",
          "text": [
            "MASE: 1.4396037521361633\n"
          ]
        }
      ],
      "source": [
        "print(f\"MASE: {np.mean(mase_metrics)}\")"
      ]
    },
    {
      "cell_type": "code",
      "execution_count": null,
      "id": "w6ETpUrML2wE",
      "metadata": {
        "colab": {
          "base_uri": "https://localhost:8080/"
        },
        "id": "w6ETpUrML2wE",
        "outputId": "519257d7-4170-4fb3-af93-688fef54fbe5"
      },
      "outputs": [
        {
          "output_type": "stream",
          "name": "stdout",
          "text": [
            "sMAPE: 0.17512301272053357\n"
          ]
        }
      ],
      "source": [
        "print(f\"sMAPE: {np.mean(smape_metrics)}\")"
      ]
    },
    {
      "cell_type": "markdown",
      "id": "S91QglbEL7Qm",
      "metadata": {
        "id": "S91QglbEL7Qm"
      },
      "source": [
        "We can also plot the individual metrics of each time series in the dataset and observe that a handful of time series contribute a lot to the final test metric:"
      ]
    },
    {
      "cell_type": "code",
      "execution_count": null,
      "id": "cb342aac",
      "metadata": {
        "colab": {
          "base_uri": "https://localhost:8080/",
          "height": 449
        },
        "id": "cb342aac",
        "outputId": "9c949519-2eac-4b2e-f5a6-37838d0a5fbf"
      },
      "outputs": [
        {
          "output_type": "display_data",
          "data": {
            "text/plain": [
              "<Figure size 640x480 with 1 Axes>"
            ],
            "image/png": "[encoded data removed]"
          },
          "metadata": {}
        }
      ],
      "source": [
        "plt.scatter(mase_metrics, smape_metrics, alpha=0.3)\n",
        "plt.xlabel(\"MASE\")\n",
        "plt.ylabel(\"sMAPE\")\n",
        "plt.show()"
      ]
    },
    {
      "cell_type": "markdown",
      "id": "moksM2QmMACr",
      "metadata": {
        "id": "moksM2QmMACr"
      },
      "source": [
        "To plot the prediction for any time series with respect the ground truth test data we define the following helper:"
      ]
    },
    {
      "cell_type": "code",
      "execution_count": null,
      "id": "3ae05011",
      "metadata": {
        "id": "3ae05011"
      },
      "outputs": [],
      "source": [
        "import matplotlib.dates as mdates\n",
        "\n",
        "\n",
        "def plot(ts_index):\n",
        "    fig, ax = plt.subplots()\n",
        "\n",
        "    index = pd.period_range(\n",
        "        start=test_dataset[ts_index][FieldName.START],\n",
        "        periods=len(test_dataset[ts_index][FieldName.TARGET]),\n",
        "        freq=freq,\n",
        "    ).to_timestamp()\n",
        "\n",
        "    # Major ticks every half year, minor ticks every month,\n",
        "    ax.xaxis.set_major_locator(mdates.MonthLocator(bymonth=(1, 7)))\n",
        "    ax.xaxis.set_minor_locator(mdates.MonthLocator())\n",
        "\n",
        "    ax.plot(\n",
        "        index[-2 * prediction_length :],\n",
        "        test_dataset[ts_index][\"target\"][-2 * prediction_length :],\n",
        "        label=\"actual\",\n",
        "    )\n",
        "\n",
        "    plt.plot(\n",
        "        index[-prediction_length:],\n",
        "        np.median(forecasts[ts_index], axis=0),\n",
        "        label=\"median\",\n",
        "    )\n",
        "\n",
        "    plt.fill_between(\n",
        "        index[-prediction_length:],\n",
        "        forecasts[ts_index].mean(0) - forecasts[ts_index].std(axis=0),\n",
        "        forecasts[ts_index].mean(0) + forecasts[ts_index].std(axis=0),\n",
        "        alpha=0.3,\n",
        "        interpolate=True,\n",
        "        label=\"+/- 1-std\",\n",
        "    )\n",
        "    plt.legend()\n",
        "    plt.show()"
      ]
    },
    {
      "cell_type": "markdown",
      "id": "mwtksAcxMHoK",
      "metadata": {
        "id": "mwtksAcxMHoK"
      },
      "source": [
        "For example:"
      ]
    },
    {
      "cell_type": "code",
      "execution_count": null,
      "id": "5N8fdnm_MKQP",
      "metadata": {
        "colab": {
          "base_uri": "https://localhost:8080/",
          "height": 430
        },
        "id": "5N8fdnm_MKQP",
        "outputId": "b600799a-759a-41f8-c21f-b67d4902401d"
      },
      "outputs": [
        {
          "output_type": "display_data",
          "data": {
            "text/plain": [
              "<Figure size 640x480 with 1 Axes>"
            ],
            "image/png": "[encoded data removed]"
          },
          "metadata": {}
        }
      ],
      "source": [
        "plot(334)"
      ]
    },
    {
      "cell_type": "markdown",
      "id": "Nf4Y8MvLMOi8",
      "metadata": {
        "id": "Nf4Y8MvLMOi8"
      },
      "source": [
        "How do we compare against other models? The [Monash Time Series Repository](https://forecastingdata.org/#results) has a comparison table of test set MASE metrics which we can add to:\n",
        "\n",
        "|Dataset | \tSES| \tTheta | \tTBATS| \tETS\t| (DHR-)ARIMA| \tPR|\tCatBoost |\tFFNN\t| DeepAR | \tN-BEATS | \tWaveNet| \t**Transformer** (Our) |\n",
        "|:------------------:|:-----------------:|:--:|:--:|:--:|:--:|:--:|:--:|:---:|:---:|:--:|:--:|:--:|\n",
        "|Tourism Monthly | \t3.306 |\t1.649 |\t1.751 |\t1.526|\t1.589|\t1.678\t|1.699|\t1.582\t| 1.409\t| 1.574|\t1.482\t|  **1.256**|\n",
        "\n",
        "Note that, with our model, we are beating all other models reported (see also table 2 in the corresponding [paper](https://openreview.net/pdf?id=wEc1mgAjU-)), and we didn't do any hyperparameter tuning. We just trained the Transformer for 40 epochs.\n",
        "\n",
        "Of course, we need to be careful with just claiming state-of-the-art results on time series with neural networks, as it seems [\"XGBoost is typically all you need\"](https://www.sciencedirect.com/science/article/pii/S0169207021001679).  We are just very curious to see how far neural networks can bring us, and whether Transformers are going to be useful in this domain. This particular dataset seems to indicate that it's definitely worth exploring.\n",
        "\n",
        "## Next Steps\n",
        "\n",
        "We would encourage the readers to try out the [notebook](https://colab.research.google.com/github/huggingface/notebooks/blob/main/examples/time-series-transformers.ipynb) with other time series datasets from the [Hub](https://huggingface.co/datasets/monash_tsf) and replace the appropriate frequency and prediction length parameters. For your datasets, one would need to convert them to the convention used by GluonTS, which is explained nicely in their documentation [here](https://ts.gluon.ai/stable/tutorials/forecasting/extended_tutorial.html#What-is-in-a-dataset?). We have also prepared an example notebook showing you how to convert your dataset into the 🤗 datasets format [here](https://github.com/huggingface/notebooks/blob/main/examples/time_series_datasets.ipynb).\n",
        "\n",
        "As time series researchers will know, there has been a lot of interest in applying Transformer based models to the time series problem. The vanilla Transformer is just one of many attention-based models and so there is a need to add more models to the library.\n",
        "\n",
        "At the moment there is nothing stopping us from modeling multivariate time series, however for that one would need to instantiate the model with a multivariate distribution head. Currently, diagonal independent distributions are supported, and other multivariate distributions will be added. Stay tuned for a future blog post which will include a tutorial.\n",
        "\n",
        "Another thing on the roadmap is time series classification. This entails adding a time series model with a classification head to the library, for the anomaly detection task for example.\n",
        "\n",
        "The current model assumes the presence of a date-time together with the time series values, which might not be the case for every time series in the wild. See for instance neuroscience datasets like the one from [WOODS](https://woods-benchmarks.github.io/). Thus, one would need to generalize the current model to make some inputs optional in the whole pipeline.\n",
        "\n",
        "Finally, the NLP/Vision domain has benefitted tremendously from [large pre-trained models](https://arxiv.org/abs/1810.04805), while this is not the case as far as we are aware for the time series domain. Transformer based models seem like the obvious choice in pursuing this avenue of research and we cannot wait to see what researchers and practitioners come up with!\n"
      ]
    },
    {
      "cell_type": "code",
      "execution_count": null,
      "id": "CYtLcclMTs99",
      "metadata": {
        "id": "CYtLcclMTs99"
      },
      "outputs": [],
      "source": []
    }
  ],
  "metadata": {
    "accelerator": "GPU",
    "colab": {
      "provenance": []
    },
    "gpuClass": "standard",
    "kernelspec": {
      "display_name": "Python 3 (ipykernel)",
      "language": "python",
      "name": "python3"
    },
    "language_info": {
      "codemirror_mode": {
        "name": "ipython",
        "version": 3
      },
      "file_extension": ".py",
      "mimetype": "text/x-python",
      "name": "python",
      "nbconvert_exporter": "python",
      "pygments_lexer": "ipython3",
      "version": "3.10.11"
    },
    "widgets": {
      "application/vnd.jupyter.widget-state+json": {
        "3bfaa5e3146f447c9eb2294220913af3": {
          "model_module": "@jupyter-widgets/controls",
          "model_name": "HBoxModel",
          "model_module_version": "1.5.0",
          "state": {
            "_dom_classes": [],
            "_model_module": "@jupyter-widgets/controls",
            "_model_module_version": "1.5.0",
            "_model_name": "HBoxModel",
            "_view_count": null,
            "_view_module": "@jupyter-widgets/controls",
            "_view_module_version": "1.5.0",
            "_view_name": "HBoxView",
            "box_style": "",
            "children": [
              "IPY_MODEL_889e8ea67e544997a8fe02687218e1b5",
              "IPY_MODEL_d2eba79b2b0e4fc7829e7a16b66d9c01",
              "IPY_MODEL_d247ecad211540baa33384dfe8e478b4"
            ],
            "layout": "IPY_MODEL_fcd56f6fd0a74275a587d5d8da6b98df"
          }
        },
        "889e8ea67e544997a8fe02687218e1b5": {
          "model_module": "@jupyter-widgets/controls",
          "model_name": "HTMLModel",
          "model_module_version": "1.5.0",
          "state": {
            "_dom_classes": [],
            "_model_module": "@jupyter-widgets/controls",
            "_model_module_version": "1.5.0",
            "_model_name": "HTMLModel",
            "_view_count": null,
            "_view_module": "@jupyter-widgets/controls",
            "_view_module_version": "1.5.0",
            "_view_name": "HTMLView",
            "description": "",
            "description_tooltip": null,
            "layout": "IPY_MODEL_168b152c283e4774ab81ed5563599521",
            "placeholder": "​",
            "style": "IPY_MODEL_7a0ea8f99513421d8be9c92f71356c02",
            "value": "README.md: 100%"
          }
        },
        "d2eba79b2b0e4fc7829e7a16b66d9c01": {
          "model_module": "@jupyter-widgets/controls",
          "model_name": "FloatProgressModel",
          "model_module_version": "1.5.0",
          "state": {
            "_dom_classes": [],
            "_model_module": "@jupyter-widgets/controls",
            "_model_module_version": "1.5.0",
            "_model_name": "FloatProgressModel",
            "_view_count": null,
            "_view_module": "@jupyter-widgets/controls",
            "_view_module_version": "1.5.0",
            "_view_name": "ProgressView",
            "bar_style": "success",
            "description": "",
            "description_tooltip": null,
            "layout": "IPY_MODEL_1b0d6ed7065b4b5a84cf8ddf17b9373b",
            "max": 31241,
            "min": 0,
            "orientation": "horizontal",
            "style": "IPY_MODEL_83c218a3bedc43a7abac1e4adb964a63",
            "value": 31241
          }
        },
        "d247ecad211540baa33384dfe8e478b4": {
          "model_module": "@jupyter-widgets/controls",
          "model_name": "HTMLModel",
          "model_module_version": "1.5.0",
          "state": {
            "_dom_classes": [],
            "_model_module": "@jupyter-widgets/controls",
            "_model_module_version": "1.5.0",
            "_model_name": "HTMLModel",
            "_view_count": null,
            "_view_module": "@jupyter-widgets/controls",
            "_view_module_version": "1.5.0",
            "_view_name": "HTMLView",
            "description": "",
            "description_tooltip": null,
            "layout": "IPY_MODEL_8f524496cf044ee6ad89c96573bf39d2",
            "placeholder": "​",
            "style": "IPY_MODEL_dbd45d2a7f5846d7aff225fa99dd7707",
            "value": " 31.2k/31.2k [00:00&lt;00:00, 577kB/s]"
          }
        },
        "fcd56f6fd0a74275a587d5d8da6b98df": {
          "model_module": "@jupyter-widgets/base",
          "model_name": "LayoutModel",
          "model_module_version": "1.2.0",
          "state": {
            "_model_module": "@jupyter-widgets/base",
            "_model_module_version": "1.2.0",
            "_model_name": "LayoutModel",
            "_view_count": null,
            "_view_module": "@jupyter-widgets/base",
            "_view_module_version": "1.2.0",
            "_view_name": "LayoutView",
            "align_content": null,
            "align_items": null,
            "align_self": null,
            "border": null,
            "bottom": null,
            "display": null,
            "flex": null,
            "flex_flow": null,
            "grid_area": null,
            "grid_auto_columns": null,
            "grid_auto_flow": null,
            "grid_auto_rows": null,
            "grid_column": null,
            "grid_gap": null,
            "grid_row": null,
            "grid_template_areas": null,
            "grid_template_columns": null,
            "grid_template_rows": null,
            "height": null,
            "justify_content": null,
            "justify_items": null,
            "left": null,
            "margin": null,
            "max_height": null,
            "max_width": null,
            "min_height": null,
            "min_width": null,
            "object_fit": null,
            "object_position": null,
            "order": null,
            "overflow": null,
            "overflow_x": null,
            "overflow_y": null,
            "padding": null,
            "right": null,
            "top": null,
            "visibility": null,
            "width": null
          }
        },
        "168b152c283e4774ab81ed5563599521": {
          "model_module": "@jupyter-widgets/base",
          "model_name": "LayoutModel",
          "model_module_version": "1.2.0",
          "state": {
            "_model_module": "@jupyter-widgets/base",
            "_model_module_version": "1.2.0",
            "_model_name": "LayoutModel",
            "_view_count": null,
            "_view_module": "@jupyter-widgets/base",
            "_view_module_version": "1.2.0",
            "_view_name": "LayoutView",
            "align_content": null,
            "align_items": null,
            "align_self": null,
            "border": null,
            "bottom": null,
            "display": null,
            "flex": null,
            "flex_flow": null,
            "grid_area": null,
            "grid_auto_columns": null,
            "grid_auto_flow": null,
            "grid_auto_rows": null,
            "grid_column": null,
            "grid_gap": null,
            "grid_row": null,
            "grid_template_areas": null,
            "grid_template_columns": null,
            "grid_template_rows": null,
            "height": null,
            "justify_content": null,
            "justify_items": null,
            "left": null,
            "margin": null,
            "max_height": null,
            "max_width": null,
            "min_height": null,
            "min_width": null,
            "object_fit": null,
            "object_position": null,
            "order": null,
            "overflow": null,
            "overflow_x": null,
            "overflow_y": null,
            "padding": null,
            "right": null,
            "top": null,
            "visibility": null,
            "width": null
          }
        },
        "7a0ea8f99513421d8be9c92f71356c02": {
          "model_module": "@jupyter-widgets/controls",
          "model_name": "DescriptionStyleModel",
          "model_module_version": "1.5.0",
          "state": {
            "_model_module": "@jupyter-widgets/controls",
            "_model_module_version": "1.5.0",
            "_model_name": "DescriptionStyleModel",
            "_view_count": null,
            "_view_module": "@jupyter-widgets/base",
            "_view_module_version": "1.2.0",
            "_view_name": "StyleView",
            "description_width": ""
          }
        },
        "1b0d6ed7065b4b5a84cf8ddf17b9373b": {
          "model_module": "@jupyter-widgets/base",
          "model_name": "LayoutModel",
          "model_module_version": "1.2.0",
          "state": {
            "_model_module": "@jupyter-widgets/base",
            "_model_module_version": "1.2.0",
            "_model_name": "LayoutModel",
            "_view_count": null,
            "_view_module": "@jupyter-widgets/base",
            "_view_module_version": "1.2.0",
            "_view_name": "LayoutView",
            "align_content": null,
            "align_items": null,
            "align_self": null,
            "border": null,
            "bottom": null,
            "display": null,
            "flex": null,
            "flex_flow": null,
            "grid_area": null,
            "grid_auto_columns": null,
            "grid_auto_flow": null,
            "grid_auto_rows": null,
            "grid_column": null,
            "grid_gap": null,
            "grid_row": null,
            "grid_template_areas": null,
            "grid_template_columns": null,
            "grid_template_rows": null,
            "height": null,
            "justify_content": null,
            "justify_items": null,
            "left": null,
            "margin": null,
            "max_height": null,
            "max_width": null,
            "min_height": null,
            "min_width": null,
            "object_fit": null,
            "object_position": null,
            "order": null,
            "overflow": null,
            "overflow_x": null,
            "overflow_y": null,
            "padding": null,
            "right": null,
            "top": null,
            "visibility": null,
            "width": null
          }
        },
        "83c218a3bedc43a7abac1e4adb964a63": {
          "model_module": "@jupyter-widgets/controls",
          "model_name": "ProgressStyleModel",
          "model_module_version": "1.5.0",
          "state": {
            "_model_module": "@jupyter-widgets/controls",
            "_model_module_version": "1.5.0",
            "_model_name": "ProgressStyleModel",
            "_view_count": null,
            "_view_module": "@jupyter-widgets/base",
            "_view_module_version": "1.2.0",
            "_view_name": "StyleView",
            "bar_color": null,
            "description_width": ""
          }
        },
        "8f524496cf044ee6ad89c96573bf39d2": {
          "model_module": "@jupyter-widgets/base",
          "model_name": "LayoutModel",
          "model_module_version": "1.2.0",
          "state": {
            "_model_module": "@jupyter-widgets/base",
            "_model_module_version": "1.2.0",
            "_model_name": "LayoutModel",
            "_view_count": null,
            "_view_module": "@jupyter-widgets/base",
            "_view_module_version": "1.2.0",
            "_view_name": "LayoutView",
            "align_content": null,
            "align_items": null,
            "align_self": null,
            "border": null,
            "bottom": null,
            "display": null,
            "flex": null,
            "flex_flow": null,
            "grid_area": null,
            "grid_auto_columns": null,
            "grid_auto_flow": null,
            "grid_auto_rows": null,
            "grid_column": null,
            "grid_gap": null,
            "grid_row": null,
            "grid_template_areas": null,
            "grid_template_columns": null,
            "grid_template_rows": null,
            "height": null,
            "justify_content": null,
            "justify_items": null,
            "left": null,
            "margin": null,
            "max_height": null,
            "max_width": null,
            "min_height": null,
            "min_width": null,
            "object_fit": null,
            "object_position": null,
            "order": null,
            "overflow": null,
            "overflow_x": null,
            "overflow_y": null,
            "padding": null,
            "right": null,
            "top": null,
            "visibility": null,
            "width": null
          }
        },
        "dbd45d2a7f5846d7aff225fa99dd7707": {
          "model_module": "@jupyter-widgets/controls",
          "model_name": "DescriptionStyleModel",
          "model_module_version": "1.5.0",
          "state": {
            "_model_module": "@jupyter-widgets/controls",
            "_model_module_version": "1.5.0",
            "_model_name": "DescriptionStyleModel",
            "_view_count": null,
            "_view_module": "@jupyter-widgets/base",
            "_view_module_version": "1.2.0",
            "_view_name": "StyleView",
            "description_width": ""
          }
        },
        "bd9caa026f4540149fb78f3b04b6f222": {
          "model_module": "@jupyter-widgets/controls",
          "model_name": "HBoxModel",
          "model_module_version": "1.5.0",
          "state": {
            "_dom_classes": [],
            "_model_module": "@jupyter-widgets/controls",
            "_model_module_version": "1.5.0",
            "_model_name": "HBoxModel",
            "_view_count": null,
            "_view_module": "@jupyter-widgets/controls",
            "_view_module_version": "1.5.0",
            "_view_name": "HBoxView",
            "box_style": "",
            "children": [
              "IPY_MODEL_cc5ca3c9a676479e9079e71dadd06efb",
              "IPY_MODEL_c1cedb145a1f47db9be3e1382a656a3b",
              "IPY_MODEL_11486acba2a84d97997c5eb2dedba668"
            ],
            "layout": "IPY_MODEL_bccf6b4100a54de58dc62e54c78fd711"
          }
        },
        "cc5ca3c9a676479e9079e71dadd06efb": {
          "model_module": "@jupyter-widgets/controls",
          "model_name": "HTMLModel",
          "model_module_version": "1.5.0",
          "state": {
            "_dom_classes": [],
            "_model_module": "@jupyter-widgets/controls",
            "_model_module_version": "1.5.0",
            "_model_name": "HTMLModel",
            "_view_count": null,
            "_view_module": "@jupyter-widgets/controls",
            "_view_module_version": "1.5.0",
            "_view_name": "HTMLView",
            "description": "",
            "description_tooltip": null,
            "layout": "IPY_MODEL_57a27489cd5c4906a323f557e8e6ee81",
            "placeholder": "​",
            "style": "IPY_MODEL_b4aeb2da6a0c44e4a9d4e39e285f4981",
            "value": "monash_tsf.py: 100%"
          }
        },
        "c1cedb145a1f47db9be3e1382a656a3b": {
          "model_module": "@jupyter-widgets/controls",
          "model_name": "FloatProgressModel",
          "model_module_version": "1.5.0",
          "state": {
            "_dom_classes": [],
            "_model_module": "@jupyter-widgets/controls",
            "_model_module_version": "1.5.0",
            "_model_name": "FloatProgressModel",
            "_view_count": null,
            "_view_module": "@jupyter-widgets/controls",
            "_view_module_version": "1.5.0",
            "_view_name": "ProgressView",
            "bar_style": "success",
            "description": "",
            "description_tooltip": null,
            "layout": "IPY_MODEL_b644f5e22bed46528092e9414f6e316f",
            "max": 25572,
            "min": 0,
            "orientation": "horizontal",
            "style": "IPY_MODEL_d2093d68f2c14cef9293be943f52b0cd",
            "value": 25572
          }
        },
        "11486acba2a84d97997c5eb2dedba668": {
          "model_module": "@jupyter-widgets/controls",
          "model_name": "HTMLModel",
          "model_module_version": "1.5.0",
          "state": {
            "_dom_classes": [],
            "_model_module": "@jupyter-widgets/controls",
            "_model_module_version": "1.5.0",
            "_model_name": "HTMLModel",
            "_view_count": null,
            "_view_module": "@jupyter-widgets/controls",
            "_view_module_version": "1.5.0",
            "_view_name": "HTMLView",
            "description": "",
            "description_tooltip": null,
            "layout": "IPY_MODEL_0ce71fd530ac44d6b42bc0f3e11214f7",
            "placeholder": "​",
            "style": "IPY_MODEL_517000289bed46c0a9d5887dfb493f1c",
            "value": " 25.6k/25.6k [00:00&lt;00:00, 703kB/s]"
          }
        },
        "bccf6b4100a54de58dc62e54c78fd711": {
          "model_module": "@jupyter-widgets/base",
          "model_name": "LayoutModel",
          "model_module_version": "1.2.0",
          "state": {
            "_model_module": "@jupyter-widgets/base",
            "_model_module_version": "1.2.0",
            "_model_name": "LayoutModel",
            "_view_count": null,
            "_view_module": "@jupyter-widgets/base",
            "_view_module_version": "1.2.0",
            "_view_name": "LayoutView",
            "align_content": null,
            "align_items": null,
            "align_self": null,
            "border": null,
            "bottom": null,
            "display": null,
            "flex": null,
            "flex_flow": null,
            "grid_area": null,
            "grid_auto_columns": null,
            "grid_auto_flow": null,
            "grid_auto_rows": null,
            "grid_column": null,
            "grid_gap": null,
            "grid_row": null,
            "grid_template_areas": null,
            "grid_template_columns": null,
            "grid_template_rows": null,
            "height": null,
            "justify_content": null,
            "justify_items": null,
            "left": null,
            "margin": null,
            "max_height": null,
            "max_width": null,
            "min_height": null,
            "min_width": null,
            "object_fit": null,
            "object_position": null,
            "order": null,
            "overflow": null,
            "overflow_x": null,
            "overflow_y": null,
            "padding": null,
            "right": null,
            "top": null,
            "visibility": null,
            "width": null
          }
        },
        "57a27489cd5c4906a323f557e8e6ee81": {
          "model_module": "@jupyter-widgets/base",
          "model_name": "LayoutModel",
          "model_module_version": "1.2.0",
          "state": {
            "_model_module": "@jupyter-widgets/base",
            "_model_module_version": "1.2.0",
            "_model_name": "LayoutModel",
            "_view_count": null,
            "_view_module": "@jupyter-widgets/base",
            "_view_module_version": "1.2.0",
            "_view_name": "LayoutView",
            "align_content": null,
            "align_items": null,
            "align_self": null,
            "border": null,
            "bottom": null,
            "display": null,
            "flex": null,
            "flex_flow": null,
            "grid_area": null,
            "grid_auto_columns": null,
            "grid_auto_flow": null,
            "grid_auto_rows": null,
            "grid_column": null,
            "grid_gap": null,
            "grid_row": null,
            "grid_template_areas": null,
            "grid_template_columns": null,
            "grid_template_rows": null,
            "height": null,
            "justify_content": null,
            "justify_items": null,
            "left": null,
            "margin": null,
            "max_height": null,
            "max_width": null,
            "min_height": null,
            "min_width": null,
            "object_fit": null,
            "object_position": null,
            "order": null,
            "overflow": null,
            "overflow_x": null,
            "overflow_y": null,
            "padding": null,
            "right": null,
            "top": null,
            "visibility": null,
            "width": null
          }
        },
        "b4aeb2da6a0c44e4a9d4e39e285f4981": {
          "model_module": "@jupyter-widgets/controls",
          "model_name": "DescriptionStyleModel",
          "model_module_version": "1.5.0",
          "state": {
            "_model_module": "@jupyter-widgets/controls",
            "_model_module_version": "1.5.0",
            "_model_name": "DescriptionStyleModel",
            "_view_count": null,
            "_view_module": "@jupyter-widgets/base",
            "_view_module_version": "1.2.0",
            "_view_name": "StyleView",
            "description_width": ""
          }
        },
        "b644f5e22bed46528092e9414f6e316f": {
          "model_module": "@jupyter-widgets/base",
          "model_name": "LayoutModel",
          "model_module_version": "1.2.0",
          "state": {
            "_model_module": "@jupyter-widgets/base",
            "_model_module_version": "1.2.0",
            "_model_name": "LayoutModel",
            "_view_count": null,
            "_view_module": "@jupyter-widgets/base",
            "_view_module_version": "1.2.0",
            "_view_name": "LayoutView",
            "align_content": null,
            "align_items": null,
            "align_self": null,
            "border": null,
            "bottom": null,
            "display": null,
            "flex": null,
            "flex_flow": null,
            "grid_area": null,
            "grid_auto_columns": null,
            "grid_auto_flow": null,
            "grid_auto_rows": null,
            "grid_column": null,
            "grid_gap": null,
            "grid_row": null,
            "grid_template_areas": null,
            "grid_template_columns": null,
            "grid_template_rows": null,
            "height": null,
            "justify_content": null,
            "justify_items": null,
            "left": null,
            "margin": null,
            "max_height": null,
            "max_width": null,
            "min_height": null,
            "min_width": null,
            "object_fit": null,
            "object_position": null,
            "order": null,
            "overflow": null,
            "overflow_x": null,
            "overflow_y": null,
            "padding": null,
            "right": null,
            "top": null,
            "visibility": null,
            "width": null
          }
        },
        "d2093d68f2c14cef9293be943f52b0cd": {
          "model_module": "@jupyter-widgets/controls",
          "model_name": "ProgressStyleModel",
          "model_module_version": "1.5.0",
          "state": {
            "_model_module": "@jupyter-widgets/controls",
            "_model_module_version": "1.5.0",
            "_model_name": "ProgressStyleModel",
            "_view_count": null,
            "_view_module": "@jupyter-widgets/base",
            "_view_module_version": "1.2.0",
            "_view_name": "StyleView",
            "bar_color": null,
            "description_width": ""
          }
        },
        "0ce71fd530ac44d6b42bc0f3e11214f7": {
          "model_module": "@jupyter-widgets/base",
          "model_name": "LayoutModel",
          "model_module_version": "1.2.0",
          "state": {
            "_model_module": "@jupyter-widgets/base",
            "_model_module_version": "1.2.0",
            "_model_name": "LayoutModel",
            "_view_count": null,
            "_view_module": "@jupyter-widgets/base",
            "_view_module_version": "1.2.0",
            "_view_name": "LayoutView",
            "align_content": null,
            "align_items": null,
            "align_self": null,
            "border": null,
            "bottom": null,
            "display": null,
            "flex": null,
            "flex_flow": null,
            "grid_area": null,
            "grid_auto_columns": null,
            "grid_auto_flow": null,
            "grid_auto_rows": null,
            "grid_column": null,
            "grid_gap": null,
            "grid_row": null,
            "grid_template_areas": null,
            "grid_template_columns": null,
            "grid_template_rows": null,
            "height": null,
            "justify_content": null,
            "justify_items": null,
            "left": null,
            "margin": null,
            "max_height": null,
            "max_width": null,
            "min_height": null,
            "min_width": null,
            "object_fit": null,
            "object_position": null,
            "order": null,
            "overflow": null,
            "overflow_x": null,
            "overflow_y": null,
            "padding": null,
            "right": null,
            "top": null,
            "visibility": null,
            "width": null
          }
        },
        "517000289bed46c0a9d5887dfb493f1c": {
          "model_module": "@jupyter-widgets/controls",
          "model_name": "DescriptionStyleModel",
          "model_module_version": "1.5.0",
          "state": {
            "_model_module": "@jupyter-widgets/controls",
            "_model_module_version": "1.5.0",
            "_model_name": "DescriptionStyleModel",
            "_view_count": null,
            "_view_module": "@jupyter-widgets/base",
            "_view_module_version": "1.2.0",
            "_view_name": "StyleView",
            "description_width": ""
          }
        },
        "28a65379e2d24dbeba359d1d9c0bff07": {
          "model_module": "@jupyter-widgets/controls",
          "model_name": "HBoxModel",
          "model_module_version": "1.5.0",
          "state": {
            "_dom_classes": [],
            "_model_module": "@jupyter-widgets/controls",
            "_model_module_version": "1.5.0",
            "_model_name": "HBoxModel",
            "_view_count": null,
            "_view_module": "@jupyter-widgets/controls",
            "_view_module_version": "1.5.0",
            "_view_name": "HBoxView",
            "box_style": "",
            "children": [
              "IPY_MODEL_7f5968253901481d876fc6ea8b798d29",
              "IPY_MODEL_381bbb86837d4b9abcc26ee3d24f68a6",
              "IPY_MODEL_8afce63a5703496595d0d6fc5b8e1578"
            ],
            "layout": "IPY_MODEL_d19ffadc882b402a99a5b12385f94e0f"
          }
        },
        "7f5968253901481d876fc6ea8b798d29": {
          "model_module": "@jupyter-widgets/controls",
          "model_name": "HTMLModel",
          "model_module_version": "1.5.0",
          "state": {
            "_dom_classes": [],
            "_model_module": "@jupyter-widgets/controls",
            "_model_module_version": "1.5.0",
            "_model_name": "HTMLModel",
            "_view_count": null,
            "_view_module": "@jupyter-widgets/controls",
            "_view_module_version": "1.5.0",
            "_view_name": "HTMLView",
            "description": "",
            "description_tooltip": null,
            "layout": "IPY_MODEL_3d146eefb49c4681ade070eb237e2287",
            "placeholder": "​",
            "style": "IPY_MODEL_910992ce5e5048dd826711083ad31870",
            "value": "utils.py: 100%"
          }
        },
        "381bbb86837d4b9abcc26ee3d24f68a6": {
          "model_module": "@jupyter-widgets/controls",
          "model_name": "FloatProgressModel",
          "model_module_version": "1.5.0",
          "state": {
            "_dom_classes": [],
            "_model_module": "@jupyter-widgets/controls",
            "_model_module_version": "1.5.0",
            "_model_name": "FloatProgressModel",
            "_view_count": null,
            "_view_module": "@jupyter-widgets/controls",
            "_view_module_version": "1.5.0",
            "_view_name": "ProgressView",
            "bar_style": "success",
            "description": "",
            "description_tooltip": null,
            "layout": "IPY_MODEL_2d35db66448241d3b86bba853287b742",
            "max": 7544,
            "min": 0,
            "orientation": "horizontal",
            "style": "IPY_MODEL_bd9253a08e144fdbbf5b52bceddd147b",
            "value": 7544
          }
        },
        "8afce63a5703496595d0d6fc5b8e1578": {
          "model_module": "@jupyter-widgets/controls",
          "model_name": "HTMLModel",
          "model_module_version": "1.5.0",
          "state": {
            "_dom_classes": [],
            "_model_module": "@jupyter-widgets/controls",
            "_model_module_version": "1.5.0",
            "_model_name": "HTMLModel",
            "_view_count": null,
            "_view_module": "@jupyter-widgets/controls",
            "_view_module_version": "1.5.0",
            "_view_name": "HTMLView",
            "description": "",
            "description_tooltip": null,
            "layout": "IPY_MODEL_ebba4580d5a74d66aae32922d462a049",
            "placeholder": "​",
            "style": "IPY_MODEL_9ef61a1baa144f2b8e49a7a8a429ae7c",
            "value": " 7.54k/7.54k [00:00&lt;00:00, 224kB/s]"
          }
        },
        "d19ffadc882b402a99a5b12385f94e0f": {
          "model_module": "@jupyter-widgets/base",
          "model_name": "LayoutModel",
          "model_module_version": "1.2.0",
          "state": {
            "_model_module": "@jupyter-widgets/base",
            "_model_module_version": "1.2.0",
            "_model_name": "LayoutModel",
            "_view_count": null,
            "_view_module": "@jupyter-widgets/base",
            "_view_module_version": "1.2.0",
            "_view_name": "LayoutView",
            "align_content": null,
            "align_items": null,
            "align_self": null,
            "border": null,
            "bottom": null,
            "display": null,
            "flex": null,
            "flex_flow": null,
            "grid_area": null,
            "grid_auto_columns": null,
            "grid_auto_flow": null,
            "grid_auto_rows": null,
            "grid_column": null,
            "grid_gap": null,
            "grid_row": null,
            "grid_template_areas": null,
            "grid_template_columns": null,
            "grid_template_rows": null,
            "height": null,
            "justify_content": null,
            "justify_items": null,
            "left": null,
            "margin": null,
            "max_height": null,
            "max_width": null,
            "min_height": null,
            "min_width": null,
            "object_fit": null,
            "object_position": null,
            "order": null,
            "overflow": null,
            "overflow_x": null,
            "overflow_y": null,
            "padding": null,
            "right": null,
            "top": null,
            "visibility": null,
            "width": null
          }
        },
        "3d146eefb49c4681ade070eb237e2287": {
          "model_module": "@jupyter-widgets/base",
          "model_name": "LayoutModel",
          "model_module_version": "1.2.0",
          "state": {
            "_model_module": "@jupyter-widgets/base",
            "_model_module_version": "1.2.0",
            "_model_name": "LayoutModel",
            "_view_count": null,
            "_view_module": "@jupyter-widgets/base",
            "_view_module_version": "1.2.0",
            "_view_name": "LayoutView",
            "align_content": null,
            "align_items": null,
            "align_self": null,
            "border": null,
            "bottom": null,
            "display": null,
            "flex": null,
            "flex_flow": null,
            "grid_area": null,
            "grid_auto_columns": null,
            "grid_auto_flow": null,
            "grid_auto_rows": null,
            "grid_column": null,
            "grid_gap": null,
            "grid_row": null,
            "grid_template_areas": null,
            "grid_template_columns": null,
            "grid_template_rows": null,
            "height": null,
            "justify_content": null,
            "justify_items": null,
            "left": null,
            "margin": null,
            "max_height": null,
            "max_width": null,
            "min_height": null,
            "min_width": null,
            "object_fit": null,
            "object_position": null,
            "order": null,
            "overflow": null,
            "overflow_x": null,
            "overflow_y": null,
            "padding": null,
            "right": null,
            "top": null,
            "visibility": null,
            "width": null
          }
        },
        "910992ce5e5048dd826711083ad31870": {
          "model_module": "@jupyter-widgets/controls",
          "model_name": "DescriptionStyleModel",
          "model_module_version": "1.5.0",
          "state": {
            "_model_module": "@jupyter-widgets/controls",
            "_model_module_version": "1.5.0",
            "_model_name": "DescriptionStyleModel",
            "_view_count": null,
            "_view_module": "@jupyter-widgets/base",
            "_view_module_version": "1.2.0",
            "_view_name": "StyleView",
            "description_width": ""
          }
        },
        "2d35db66448241d3b86bba853287b742": {
          "model_module": "@jupyter-widgets/base",
          "model_name": "LayoutModel",
          "model_module_version": "1.2.0",
          "state": {
            "_model_module": "@jupyter-widgets/base",
            "_model_module_version": "1.2.0",
            "_model_name": "LayoutModel",
            "_view_count": null,
            "_view_module": "@jupyter-widgets/base",
            "_view_module_version": "1.2.0",
            "_view_name": "LayoutView",
            "align_content": null,
            "align_items": null,
            "align_self": null,
            "border": null,
            "bottom": null,
            "display": null,
            "flex": null,
            "flex_flow": null,
            "grid_area": null,
            "grid_auto_columns": null,
            "grid_auto_flow": null,
            "grid_auto_rows": null,
            "grid_column": null,
            "grid_gap": null,
            "grid_row": null,
            "grid_template_areas": null,
            "grid_template_columns": null,
            "grid_template_rows": null,
            "height": null,
            "justify_content": null,
            "justify_items": null,
            "left": null,
            "margin": null,
            "max_height": null,
            "max_width": null,
            "min_height": null,
            "min_width": null,
            "object_fit": null,
            "object_position": null,
            "order": null,
            "overflow": null,
            "overflow_x": null,
            "overflow_y": null,
            "padding": null,
            "right": null,
            "top": null,
            "visibility": null,
            "width": null
          }
        },
        "bd9253a08e144fdbbf5b52bceddd147b": {
          "model_module": "@jupyter-widgets/controls",
          "model_name": "ProgressStyleModel",
          "model_module_version": "1.5.0",
          "state": {
            "_model_module": "@jupyter-widgets/controls",
            "_model_module_version": "1.5.0",
            "_model_name": "ProgressStyleModel",
            "_view_count": null,
            "_view_module": "@jupyter-widgets/base",
            "_view_module_version": "1.2.0",
            "_view_name": "StyleView",
            "bar_color": null,
            "description_width": ""
          }
        },
        "ebba4580d5a74d66aae32922d462a049": {
          "model_module": "@jupyter-widgets/base",
          "model_name": "LayoutModel",
          "model_module_version": "1.2.0",
          "state": {
            "_model_module": "@jupyter-widgets/base",
            "_model_module_version": "1.2.0",
            "_model_name": "LayoutModel",
            "_view_count": null,
            "_view_module": "@jupyter-widgets/base",
            "_view_module_version": "1.2.0",
            "_view_name": "LayoutView",
            "align_content": null,
            "align_items": null,
            "align_self": null,
            "border": null,
            "bottom": null,
            "display": null,
            "flex": null,
            "flex_flow": null,
            "grid_area": null,
            "grid_auto_columns": null,
            "grid_auto_flow": null,
            "grid_auto_rows": null,
            "grid_column": null,
            "grid_gap": null,
            "grid_row": null,
            "grid_template_areas": null,
            "grid_template_columns": null,
            "grid_template_rows": null,
            "height": null,
            "justify_content": null,
            "justify_items": null,
            "left": null,
            "margin": null,
            "max_height": null,
            "max_width": null,
            "min_height": null,
            "min_width": null,
            "object_fit": null,
            "object_position": null,
            "order": null,
            "overflow": null,
            "overflow_x": null,
            "overflow_y": null,
            "padding": null,
            "right": null,
            "top": null,
            "visibility": null,
            "width": null
          }
        },
        "9ef61a1baa144f2b8e49a7a8a429ae7c": {
          "model_module": "@jupyter-widgets/controls",
          "model_name": "DescriptionStyleModel",
          "model_module_version": "1.5.0",
          "state": {
            "_model_module": "@jupyter-widgets/controls",
            "_model_module_version": "1.5.0",
            "_model_name": "DescriptionStyleModel",
            "_view_count": null,
            "_view_module": "@jupyter-widgets/base",
            "_view_module_version": "1.2.0",
            "_view_name": "StyleView",
            "description_width": ""
          }
        },
        "cd4747d412a842a6bda059c4bc7e2034": {
          "model_module": "@jupyter-widgets/controls",
          "model_name": "HBoxModel",
          "model_module_version": "1.5.0",
          "state": {
            "_dom_classes": [],
            "_model_module": "@jupyter-widgets/controls",
            "_model_module_version": "1.5.0",
            "_model_name": "HBoxModel",
            "_view_count": null,
            "_view_module": "@jupyter-widgets/controls",
            "_view_module_version": "1.5.0",
            "_view_name": "HBoxView",
            "box_style": "",
            "children": [
              "IPY_MODEL_cd673e4be9344c0392f1621879a5dc9b",
              "IPY_MODEL_843f281ba1734654a82d27d7df9e24e5",
              "IPY_MODEL_8819b8b4cc4d4332a2ab1bf722c76dbd"
            ],
            "layout": "IPY_MODEL_ed1436c64fa9427a8bec30f503e07013"
          }
        },
        "cd673e4be9344c0392f1621879a5dc9b": {
          "model_module": "@jupyter-widgets/controls",
          "model_name": "HTMLModel",
          "model_module_version": "1.5.0",
          "state": {
            "_dom_classes": [],
            "_model_module": "@jupyter-widgets/controls",
            "_model_module_version": "1.5.0",
            "_model_name": "HTMLModel",
            "_view_count": null,
            "_view_module": "@jupyter-widgets/controls",
            "_view_module_version": "1.5.0",
            "_view_name": "HTMLView",
            "description": "",
            "description_tooltip": null,
            "layout": "IPY_MODEL_61dfa0d5fa60464a87702b41e73995db",
            "placeholder": "​",
            "style": "IPY_MODEL_53f1252440ee408d973b48f60e1b02b9",
            "value": "tourism_monthly_dataset.zip: 100%"
          }
        },
        "843f281ba1734654a82d27d7df9e24e5": {
          "model_module": "@jupyter-widgets/controls",
          "model_name": "FloatProgressModel",
          "model_module_version": "1.5.0",
          "state": {
            "_dom_classes": [],
            "_model_module": "@jupyter-widgets/controls",
            "_model_module_version": "1.5.0",
            "_model_name": "FloatProgressModel",
            "_view_count": null,
            "_view_module": "@jupyter-widgets/controls",
            "_view_module_version": "1.5.0",
            "_view_name": "ProgressView",
            "bar_style": "success",
            "description": "",
            "description_tooltip": null,
            "layout": "IPY_MODEL_50c6a34f70a3490183d323054b5cae06",
            "max": 199791,
            "min": 0,
            "orientation": "horizontal",
            "style": "IPY_MODEL_3dc8f8ede51d44bd9e6bb19ec80010c5",
            "value": 199791
          }
        },
        "8819b8b4cc4d4332a2ab1bf722c76dbd": {
          "model_module": "@jupyter-widgets/controls",
          "model_name": "HTMLModel",
          "model_module_version": "1.5.0",
          "state": {
            "_dom_classes": [],
            "_model_module": "@jupyter-widgets/controls",
            "_model_module_version": "1.5.0",
            "_model_name": "HTMLModel",
            "_view_count": null,
            "_view_module": "@jupyter-widgets/controls",
            "_view_module_version": "1.5.0",
            "_view_name": "HTMLView",
            "description": "",
            "description_tooltip": null,
            "layout": "IPY_MODEL_e2ea028d6db04fe8859a37fef2e4094e",
            "placeholder": "​",
            "style": "IPY_MODEL_e5011fa0be324ac4bd07cad34c5f0d39",
            "value": " 200k/200k [00:00&lt;00:00, 6.65MB/s]"
          }
        },
        "ed1436c64fa9427a8bec30f503e07013": {
          "model_module": "@jupyter-widgets/base",
          "model_name": "LayoutModel",
          "model_module_version": "1.2.0",
          "state": {
            "_model_module": "@jupyter-widgets/base",
            "_model_module_version": "1.2.0",
            "_model_name": "LayoutModel",
            "_view_count": null,
            "_view_module": "@jupyter-widgets/base",
            "_view_module_version": "1.2.0",
            "_view_name": "LayoutView",
            "align_content": null,
            "align_items": null,
            "align_self": null,
            "border": null,
            "bottom": null,
            "display": null,
            "flex": null,
            "flex_flow": null,
            "grid_area": null,
            "grid_auto_columns": null,
            "grid_auto_flow": null,
            "grid_auto_rows": null,
            "grid_column": null,
            "grid_gap": null,
            "grid_row": null,
            "grid_template_areas": null,
            "grid_template_columns": null,
            "grid_template_rows": null,
            "height": null,
            "justify_content": null,
            "justify_items": null,
            "left": null,
            "margin": null,
            "max_height": null,
            "max_width": null,
            "min_height": null,
            "min_width": null,
            "object_fit": null,
            "object_position": null,
            "order": null,
            "overflow": null,
            "overflow_x": null,
            "overflow_y": null,
            "padding": null,
            "right": null,
            "top": null,
            "visibility": null,
            "width": null
          }
        },
        "61dfa0d5fa60464a87702b41e73995db": {
          "model_module": "@jupyter-widgets/base",
          "model_name": "LayoutModel",
          "model_module_version": "1.2.0",
          "state": {
            "_model_module": "@jupyter-widgets/base",
            "_model_module_version": "1.2.0",
            "_model_name": "LayoutModel",
            "_view_count": null,
            "_view_module": "@jupyter-widgets/base",
            "_view_module_version": "1.2.0",
            "_view_name": "LayoutView",
            "align_content": null,
            "align_items": null,
            "align_self": null,
            "border": null,
            "bottom": null,
            "display": null,
            "flex": null,
            "flex_flow": null,
            "grid_area": null,
            "grid_auto_columns": null,
            "grid_auto_flow": null,
            "grid_auto_rows": null,
            "grid_column": null,
            "grid_gap": null,
            "grid_row": null,
            "grid_template_areas": null,
            "grid_template_columns": null,
            "grid_template_rows": null,
            "height": null,
            "justify_content": null,
            "justify_items": null,
            "left": null,
            "margin": null,
            "max_height": null,
            "max_width": null,
            "min_height": null,
            "min_width": null,
            "object_fit": null,
            "object_position": null,
            "order": null,
            "overflow": null,
            "overflow_x": null,
            "overflow_y": null,
            "padding": null,
            "right": null,
            "top": null,
            "visibility": null,
            "width": null
          }
        },
        "53f1252440ee408d973b48f60e1b02b9": {
          "model_module": "@jupyter-widgets/controls",
          "model_name": "DescriptionStyleModel",
          "model_module_version": "1.5.0",
          "state": {
            "_model_module": "@jupyter-widgets/controls",
            "_model_module_version": "1.5.0",
            "_model_name": "DescriptionStyleModel",
            "_view_count": null,
            "_view_module": "@jupyter-widgets/base",
            "_view_module_version": "1.2.0",
            "_view_name": "StyleView",
            "description_width": ""
          }
        },
        "50c6a34f70a3490183d323054b5cae06": {
          "model_module": "@jupyter-widgets/base",
          "model_name": "LayoutModel",
          "model_module_version": "1.2.0",
          "state": {
            "_model_module": "@jupyter-widgets/base",
            "_model_module_version": "1.2.0",
            "_model_name": "LayoutModel",
            "_view_count": null,
            "_view_module": "@jupyter-widgets/base",
            "_view_module_version": "1.2.0",
            "_view_name": "LayoutView",
            "align_content": null,
            "align_items": null,
            "align_self": null,
            "border": null,
            "bottom": null,
            "display": null,
            "flex": null,
            "flex_flow": null,
            "grid_area": null,
            "grid_auto_columns": null,
            "grid_auto_flow": null,
            "grid_auto_rows": null,
            "grid_column": null,
            "grid_gap": null,
            "grid_row": null,
            "grid_template_areas": null,
            "grid_template_columns": null,
            "grid_template_rows": null,
            "height": null,
            "justify_content": null,
            "justify_items": null,
            "left": null,
            "margin": null,
            "max_height": null,
            "max_width": null,
            "min_height": null,
            "min_width": null,
            "object_fit": null,
            "object_position": null,
            "order": null,
            "overflow": null,
            "overflow_x": null,
            "overflow_y": null,
            "padding": null,
            "right": null,
            "top": null,
            "visibility": null,
            "width": null
          }
        },
        "3dc8f8ede51d44bd9e6bb19ec80010c5": {
          "model_module": "@jupyter-widgets/controls",
          "model_name": "ProgressStyleModel",
          "model_module_version": "1.5.0",
          "state": {
            "_model_module": "@jupyter-widgets/controls",
            "_model_module_version": "1.5.0",
            "_model_name": "ProgressStyleModel",
            "_view_count": null,
            "_view_module": "@jupyter-widgets/base",
            "_view_module_version": "1.2.0",
            "_view_name": "StyleView",
            "bar_color": null,
            "description_width": ""
          }
        },
        "e2ea028d6db04fe8859a37fef2e4094e": {
          "model_module": "@jupyter-widgets/base",
          "model_name": "LayoutModel",
          "model_module_version": "1.2.0",
          "state": {
            "_model_module": "@jupyter-widgets/base",
            "_model_module_version": "1.2.0",
            "_model_name": "LayoutModel",
            "_view_count": null,
            "_view_module": "@jupyter-widgets/base",
            "_view_module_version": "1.2.0",
            "_view_name": "LayoutView",
            "align_content": null,
            "align_items": null,
            "align_self": null,
            "border": null,
            "bottom": null,
            "display": null,
            "flex": null,
            "flex_flow": null,
            "grid_area": null,
            "grid_auto_columns": null,
            "grid_auto_flow": null,
            "grid_auto_rows": null,
            "grid_column": null,
            "grid_gap": null,
            "grid_row": null,
            "grid_template_areas": null,
            "grid_template_columns": null,
            "grid_template_rows": null,
            "height": null,
            "justify_content": null,
            "justify_items": null,
            "left": null,
            "margin": null,
            "max_height": null,
            "max_width": null,
            "min_height": null,
            "min_width": null,
            "object_fit": null,
            "object_position": null,
            "order": null,
            "overflow": null,
            "overflow_x": null,
            "overflow_y": null,
            "padding": null,
            "right": null,
            "top": null,
            "visibility": null,
            "width": null
          }
        },
        "e5011fa0be324ac4bd07cad34c5f0d39": {
          "model_module": "@jupyter-widgets/controls",
          "model_name": "DescriptionStyleModel",
          "model_module_version": "1.5.0",
          "state": {
            "_model_module": "@jupyter-widgets/controls",
            "_model_module_version": "1.5.0",
            "_model_name": "DescriptionStyleModel",
            "_view_count": null,
            "_view_module": "@jupyter-widgets/base",
            "_view_module_version": "1.2.0",
            "_view_name": "StyleView",
            "description_width": ""
          }
        },
        "7d5bef74a7be44a293d5b0a507320059": {
          "model_module": "@jupyter-widgets/controls",
          "model_name": "HBoxModel",
          "model_module_version": "1.5.0",
          "state": {
            "_dom_classes": [],
            "_model_module": "@jupyter-widgets/controls",
            "_model_module_version": "1.5.0",
            "_model_name": "HBoxModel",
            "_view_count": null,
            "_view_module": "@jupyter-widgets/controls",
            "_view_module_version": "1.5.0",
            "_view_name": "HBoxView",
            "box_style": "",
            "children": [
              "IPY_MODEL_7c903146db36455391fef003ae159125",
              "IPY_MODEL_108f218192d84bd38816a0ca918286a7",
              "IPY_MODEL_a0442a21dadf4e4e851ee72e3999dd78"
            ],
            "layout": "IPY_MODEL_a2c8766479464c06a885fa43282f9745"
          }
        },
        "7c903146db36455391fef003ae159125": {
          "model_module": "@jupyter-widgets/controls",
          "model_name": "HTMLModel",
          "model_module_version": "1.5.0",
          "state": {
            "_dom_classes": [],
            "_model_module": "@jupyter-widgets/controls",
            "_model_module_version": "1.5.0",
            "_model_name": "HTMLModel",
            "_view_count": null,
            "_view_module": "@jupyter-widgets/controls",
            "_view_module_version": "1.5.0",
            "_view_name": "HTMLView",
            "description": "",
            "description_tooltip": null,
            "layout": "IPY_MODEL_a0aaaa4fd74441d2952e1d35b9f621b5",
            "placeholder": "​",
            "style": "IPY_MODEL_88657bb7ef8d435ca1cba60cc197403a",
            "value": "Generating train split: 100%"
          }
        },
        "108f218192d84bd38816a0ca918286a7": {
          "model_module": "@jupyter-widgets/controls",
          "model_name": "FloatProgressModel",
          "model_module_version": "1.5.0",
          "state": {
            "_dom_classes": [],
            "_model_module": "@jupyter-widgets/controls",
            "_model_module_version": "1.5.0",
            "_model_name": "FloatProgressModel",
            "_view_count": null,
            "_view_module": "@jupyter-widgets/controls",
            "_view_module_version": "1.5.0",
            "_view_name": "ProgressView",
            "bar_style": "success",
            "description": "",
            "description_tooltip": null,
            "layout": "IPY_MODEL_8a47563612f5403198af5d5d49138438",
            "max": 366,
            "min": 0,
            "orientation": "horizontal",
            "style": "IPY_MODEL_f10ccb9c03424cf79d13ad76eade1738",
            "value": 366
          }
        },
        "a0442a21dadf4e4e851ee72e3999dd78": {
          "model_module": "@jupyter-widgets/controls",
          "model_name": "HTMLModel",
          "model_module_version": "1.5.0",
          "state": {
            "_dom_classes": [],
            "_model_module": "@jupyter-widgets/controls",
            "_model_module_version": "1.5.0",
            "_model_name": "HTMLModel",
            "_view_count": null,
            "_view_module": "@jupyter-widgets/controls",
            "_view_module_version": "1.5.0",
            "_view_name": "HTMLView",
            "description": "",
            "description_tooltip": null,
            "layout": "IPY_MODEL_7ad414e9fea2447a80e7c94197ed3d3c",
            "placeholder": "​",
            "style": "IPY_MODEL_c82056decafe4a8c8d4f214c91eb2b0f",
            "value": " 366/366 [00:00&lt;00:00, 2783.09 examples/s]"
          }
        },
        "a2c8766479464c06a885fa43282f9745": {
          "model_module": "@jupyter-widgets/base",
          "model_name": "LayoutModel",
          "model_module_version": "1.2.0",
          "state": {
            "_model_module": "@jupyter-widgets/base",
            "_model_module_version": "1.2.0",
            "_model_name": "LayoutModel",
            "_view_count": null,
            "_view_module": "@jupyter-widgets/base",
            "_view_module_version": "1.2.0",
            "_view_name": "LayoutView",
            "align_content": null,
            "align_items": null,
            "align_self": null,
            "border": null,
            "bottom": null,
            "display": null,
            "flex": null,
            "flex_flow": null,
            "grid_area": null,
            "grid_auto_columns": null,
            "grid_auto_flow": null,
            "grid_auto_rows": null,
            "grid_column": null,
            "grid_gap": null,
            "grid_row": null,
            "grid_template_areas": null,
            "grid_template_columns": null,
            "grid_template_rows": null,
            "height": null,
            "justify_content": null,
            "justify_items": null,
            "left": null,
            "margin": null,
            "max_height": null,
            "max_width": null,
            "min_height": null,
            "min_width": null,
            "object_fit": null,
            "object_position": null,
            "order": null,
            "overflow": null,
            "overflow_x": null,
            "overflow_y": null,
            "padding": null,
            "right": null,
            "top": null,
            "visibility": null,
            "width": null
          }
        },
        "a0aaaa4fd74441d2952e1d35b9f621b5": {
          "model_module": "@jupyter-widgets/base",
          "model_name": "LayoutModel",
          "model_module_version": "1.2.0",
          "state": {
            "_model_module": "@jupyter-widgets/base",
            "_model_module_version": "1.2.0",
            "_model_name": "LayoutModel",
            "_view_count": null,
            "_view_module": "@jupyter-widgets/base",
            "_view_module_version": "1.2.0",
            "_view_name": "LayoutView",
            "align_content": null,
            "align_items": null,
            "align_self": null,
            "border": null,
            "bottom": null,
            "display": null,
            "flex": null,
            "flex_flow": null,
            "grid_area": null,
            "grid_auto_columns": null,
            "grid_auto_flow": null,
            "grid_auto_rows": null,
            "grid_column": null,
            "grid_gap": null,
            "grid_row": null,
            "grid_template_areas": null,
            "grid_template_columns": null,
            "grid_template_rows": null,
            "height": null,
            "justify_content": null,
            "justify_items": null,
            "left": null,
            "margin": null,
            "max_height": null,
            "max_width": null,
            "min_height": null,
            "min_width": null,
            "object_fit": null,
            "object_position": null,
            "order": null,
            "overflow": null,
            "overflow_x": null,
            "overflow_y": null,
            "padding": null,
            "right": null,
            "top": null,
            "visibility": null,
            "width": null
          }
        },
        "88657bb7ef8d435ca1cba60cc197403a": {
          "model_module": "@jupyter-widgets/controls",
          "model_name": "DescriptionStyleModel",
          "model_module_version": "1.5.0",
          "state": {
            "_model_module": "@jupyter-widgets/controls",
            "_model_module_version": "1.5.0",
            "_model_name": "DescriptionStyleModel",
            "_view_count": null,
            "_view_module": "@jupyter-widgets/base",
            "_view_module_version": "1.2.0",
            "_view_name": "StyleView",
            "description_width": ""
          }
        },
        "8a47563612f5403198af5d5d49138438": {
          "model_module": "@jupyter-widgets/base",
          "model_name": "LayoutModel",
          "model_module_version": "1.2.0",
          "state": {
            "_model_module": "@jupyter-widgets/base",
            "_model_module_version": "1.2.0",
            "_model_name": "LayoutModel",
            "_view_count": null,
            "_view_module": "@jupyter-widgets/base",
            "_view_module_version": "1.2.0",
            "_view_name": "LayoutView",
            "align_content": null,
            "align_items": null,
            "align_self": null,
            "border": null,
            "bottom": null,
            "display": null,
            "flex": null,
            "flex_flow": null,
            "grid_area": null,
            "grid_auto_columns": null,
            "grid_auto_flow": null,
            "grid_auto_rows": null,
            "grid_column": null,
            "grid_gap": null,
            "grid_row": null,
            "grid_template_areas": null,
            "grid_template_columns": null,
            "grid_template_rows": null,
            "height": null,
            "justify_content": null,
            "justify_items": null,
            "left": null,
            "margin": null,
            "max_height": null,
            "max_width": null,
            "min_height": null,
            "min_width": null,
            "object_fit": null,
            "object_position": null,
            "order": null,
            "overflow": null,
            "overflow_x": null,
            "overflow_y": null,
            "padding": null,
            "right": null,
            "top": null,
            "visibility": null,
            "width": null
          }
        },
        "f10ccb9c03424cf79d13ad76eade1738": {
          "model_module": "@jupyter-widgets/controls",
          "model_name": "ProgressStyleModel",
          "model_module_version": "1.5.0",
          "state": {
            "_model_module": "@jupyter-widgets/controls",
            "_model_module_version": "1.5.0",
            "_model_name": "ProgressStyleModel",
            "_view_count": null,
            "_view_module": "@jupyter-widgets/base",
            "_view_module_version": "1.2.0",
            "_view_name": "StyleView",
            "bar_color": null,
            "description_width": ""
          }
        },
        "7ad414e9fea2447a80e7c94197ed3d3c": {
          "model_module": "@jupyter-widgets/base",
          "model_name": "LayoutModel",
          "model_module_version": "1.2.0",
          "state": {
            "_model_module": "@jupyter-widgets/base",
            "_model_module_version": "1.2.0",
            "_model_name": "LayoutModel",
            "_view_count": null,
            "_view_module": "@jupyter-widgets/base",
            "_view_module_version": "1.2.0",
            "_view_name": "LayoutView",
            "align_content": null,
            "align_items": null,
            "align_self": null,
            "border": null,
            "bottom": null,
            "display": null,
            "flex": null,
            "flex_flow": null,
            "grid_area": null,
            "grid_auto_columns": null,
            "grid_auto_flow": null,
            "grid_auto_rows": null,
            "grid_column": null,
            "grid_gap": null,
            "grid_row": null,
            "grid_template_areas": null,
            "grid_template_columns": null,
            "grid_template_rows": null,
            "height": null,
            "justify_content": null,
            "justify_items": null,
            "left": null,
            "margin": null,
            "max_height": null,
            "max_width": null,
            "min_height": null,
            "min_width": null,
            "object_fit": null,
            "object_position": null,
            "order": null,
            "overflow": null,
            "overflow_x": null,
            "overflow_y": null,
            "padding": null,
            "right": null,
            "top": null,
            "visibility": null,
            "width": null
          }
        },
        "c82056decafe4a8c8d4f214c91eb2b0f": {
          "model_module": "@jupyter-widgets/controls",
          "model_name": "DescriptionStyleModel",
          "model_module_version": "1.5.0",
          "state": {
            "_model_module": "@jupyter-widgets/controls",
            "_model_module_version": "1.5.0",
            "_model_name": "DescriptionStyleModel",
            "_view_count": null,
            "_view_module": "@jupyter-widgets/base",
            "_view_module_version": "1.2.0",
            "_view_name": "StyleView",
            "description_width": ""
          }
        },
        "82fe6354a06143ce8cf4e06e0e058b57": {
          "model_module": "@jupyter-widgets/controls",
          "model_name": "HBoxModel",
          "model_module_version": "1.5.0",
          "state": {
            "_dom_classes": [],
            "_model_module": "@jupyter-widgets/controls",
            "_model_module_version": "1.5.0",
            "_model_name": "HBoxModel",
            "_view_count": null,
            "_view_module": "@jupyter-widgets/controls",
            "_view_module_version": "1.5.0",
            "_view_name": "HBoxView",
            "box_style": "",
            "children": [
              "IPY_MODEL_05240f32701742d0a9df6e9c08c44ef4",
              "IPY_MODEL_402d09de51344203823d7d63944d0926",
              "IPY_MODEL_85b5d4e8cab841e6a62f25c92e791508"
            ],
            "layout": "IPY_MODEL_96376ff5224141e38c348aa71a573ef1"
          }
        },
        "05240f32701742d0a9df6e9c08c44ef4": {
          "model_module": "@jupyter-widgets/controls",
          "model_name": "HTMLModel",
          "model_module_version": "1.5.0",
          "state": {
            "_dom_classes": [],
            "_model_module": "@jupyter-widgets/controls",
            "_model_module_version": "1.5.0",
            "_model_name": "HTMLModel",
            "_view_count": null,
            "_view_module": "@jupyter-widgets/controls",
            "_view_module_version": "1.5.0",
            "_view_name": "HTMLView",
            "description": "",
            "description_tooltip": null,
            "layout": "IPY_MODEL_7fa417cf9a4944c7b2f9b12b42478632",
            "placeholder": "​",
            "style": "IPY_MODEL_9cc1ef07391a450eb0e98f698790a694",
            "value": "Generating test split: 100%"
          }
        },
        "402d09de51344203823d7d63944d0926": {
          "model_module": "@jupyter-widgets/controls",
          "model_name": "FloatProgressModel",
          "model_module_version": "1.5.0",
          "state": {
            "_dom_classes": [],
            "_model_module": "@jupyter-widgets/controls",
            "_model_module_version": "1.5.0",
            "_model_name": "FloatProgressModel",
            "_view_count": null,
            "_view_module": "@jupyter-widgets/controls",
            "_view_module_version": "1.5.0",
            "_view_name": "ProgressView",
            "bar_style": "success",
            "description": "",
            "description_tooltip": null,
            "layout": "IPY_MODEL_2fa9f92ca866468db0f7082ac90d4d43",
            "max": 366,
            "min": 0,
            "orientation": "horizontal",
            "style": "IPY_MODEL_ce5e3eedaf08478da6c87b00202e8d0b",
            "value": 366
          }
        },
        "85b5d4e8cab841e6a62f25c92e791508": {
          "model_module": "@jupyter-widgets/controls",
          "model_name": "HTMLModel",
          "model_module_version": "1.5.0",
          "state": {
            "_dom_classes": [],
            "_model_module": "@jupyter-widgets/controls",
            "_model_module_version": "1.5.0",
            "_model_name": "HTMLModel",
            "_view_count": null,
            "_view_module": "@jupyter-widgets/controls",
            "_view_module_version": "1.5.0",
            "_view_name": "HTMLView",
            "description": "",
            "description_tooltip": null,
            "layout": "IPY_MODEL_4d3f2e2eacb8429cade7f9837ee9c0cf",
            "placeholder": "​",
            "style": "IPY_MODEL_a0f043cbc07b4c2d9759475db00cf4a0",
            "value": " 366/366 [00:00&lt;00:00, 3580.54 examples/s]"
          }
        },
        "96376ff5224141e38c348aa71a573ef1": {
          "model_module": "@jupyter-widgets/base",
          "model_name": "LayoutModel",
          "model_module_version": "1.2.0",
          "state": {
            "_model_module": "@jupyter-widgets/base",
            "_model_module_version": "1.2.0",
            "_model_name": "LayoutModel",
            "_view_count": null,
            "_view_module": "@jupyter-widgets/base",
            "_view_module_version": "1.2.0",
            "_view_name": "LayoutView",
            "align_content": null,
            "align_items": null,
            "align_self": null,
            "border": null,
            "bottom": null,
            "display": null,
            "flex": null,
            "flex_flow": null,
            "grid_area": null,
            "grid_auto_columns": null,
            "grid_auto_flow": null,
            "grid_auto_rows": null,
            "grid_column": null,
            "grid_gap": null,
            "grid_row": null,
            "grid_template_areas": null,
            "grid_template_columns": null,
            "grid_template_rows": null,
            "height": null,
            "justify_content": null,
            "justify_items": null,
            "left": null,
            "margin": null,
            "max_height": null,
            "max_width": null,
            "min_height": null,
            "min_width": null,
            "object_fit": null,
            "object_position": null,
            "order": null,
            "overflow": null,
            "overflow_x": null,
            "overflow_y": null,
            "padding": null,
            "right": null,
            "top": null,
            "visibility": null,
            "width": null
          }
        },
        "7fa417cf9a4944c7b2f9b12b42478632": {
          "model_module": "@jupyter-widgets/base",
          "model_name": "LayoutModel",
          "model_module_version": "1.2.0",
          "state": {
            "_model_module": "@jupyter-widgets/base",
            "_model_module_version": "1.2.0",
            "_model_name": "LayoutModel",
            "_view_count": null,
            "_view_module": "@jupyter-widgets/base",
            "_view_module_version": "1.2.0",
            "_view_name": "LayoutView",
            "align_content": null,
            "align_items": null,
            "align_self": null,
            "border": null,
            "bottom": null,
            "display": null,
            "flex": null,
            "flex_flow": null,
            "grid_area": null,
            "grid_auto_columns": null,
            "grid_auto_flow": null,
            "grid_auto_rows": null,
            "grid_column": null,
            "grid_gap": null,
            "grid_row": null,
            "grid_template_areas": null,
            "grid_template_columns": null,
            "grid_template_rows": null,
            "height": null,
            "justify_content": null,
            "justify_items": null,
            "left": null,
            "margin": null,
            "max_height": null,
            "max_width": null,
            "min_height": null,
            "min_width": null,
            "object_fit": null,
            "object_position": null,
            "order": null,
            "overflow": null,
            "overflow_x": null,
            "overflow_y": null,
            "padding": null,
            "right": null,
            "top": null,
            "visibility": null,
            "width": null
          }
        },
        "9cc1ef07391a450eb0e98f698790a694": {
          "model_module": "@jupyter-widgets/controls",
          "model_name": "DescriptionStyleModel",
          "model_module_version": "1.5.0",
          "state": {
            "_model_module": "@jupyter-widgets/controls",
            "_model_module_version": "1.5.0",
            "_model_name": "DescriptionStyleModel",
            "_view_count": null,
            "_view_module": "@jupyter-widgets/base",
            "_view_module_version": "1.2.0",
            "_view_name": "StyleView",
            "description_width": ""
          }
        },
        "2fa9f92ca866468db0f7082ac90d4d43": {
          "model_module": "@jupyter-widgets/base",
          "model_name": "LayoutModel",
          "model_module_version": "1.2.0",
          "state": {
            "_model_module": "@jupyter-widgets/base",
            "_model_module_version": "1.2.0",
            "_model_name": "LayoutModel",
            "_view_count": null,
            "_view_module": "@jupyter-widgets/base",
            "_view_module_version": "1.2.0",
            "_view_name": "LayoutView",
            "align_content": null,
            "align_items": null,
            "align_self": null,
            "border": null,
            "bottom": null,
            "display": null,
            "flex": null,
            "flex_flow": null,
            "grid_area": null,
            "grid_auto_columns": null,
            "grid_auto_flow": null,
            "grid_auto_rows": null,
            "grid_column": null,
            "grid_gap": null,
            "grid_row": null,
            "grid_template_areas": null,
            "grid_template_columns": null,
            "grid_template_rows": null,
            "height": null,
            "justify_content": null,
            "justify_items": null,
            "left": null,
            "margin": null,
            "max_height": null,
            "max_width": null,
            "min_height": null,
            "min_width": null,
            "object_fit": null,
            "object_position": null,
            "order": null,
            "overflow": null,
            "overflow_x": null,
            "overflow_y": null,
            "padding": null,
            "right": null,
            "top": null,
            "visibility": null,
            "width": null
          }
        },
        "ce5e3eedaf08478da6c87b00202e8d0b": {
          "model_module": "@jupyter-widgets/controls",
          "model_name": "ProgressStyleModel",
          "model_module_version": "1.5.0",
          "state": {
            "_model_module": "@jupyter-widgets/controls",
            "_model_module_version": "1.5.0",
            "_model_name": "ProgressStyleModel",
            "_view_count": null,
            "_view_module": "@jupyter-widgets/base",
            "_view_module_version": "1.2.0",
            "_view_name": "StyleView",
            "bar_color": null,
            "description_width": ""
          }
        },
        "4d3f2e2eacb8429cade7f9837ee9c0cf": {
          "model_module": "@jupyter-widgets/base",
          "model_name": "LayoutModel",
          "model_module_version": "1.2.0",
          "state": {
            "_model_module": "@jupyter-widgets/base",
            "_model_module_version": "1.2.0",
            "_model_name": "LayoutModel",
            "_view_count": null,
            "_view_module": "@jupyter-widgets/base",
            "_view_module_version": "1.2.0",
            "_view_name": "LayoutView",
            "align_content": null,
            "align_items": null,
            "align_self": null,
            "border": null,
            "bottom": null,
            "display": null,
            "flex": null,
            "flex_flow": null,
            "grid_area": null,
            "grid_auto_columns": null,
            "grid_auto_flow": null,
            "grid_auto_rows": null,
            "grid_column": null,
            "grid_gap": null,
            "grid_row": null,
            "grid_template_areas": null,
            "grid_template_columns": null,
            "grid_template_rows": null,
            "height": null,
            "justify_content": null,
            "justify_items": null,
            "left": null,
            "margin": null,
            "max_height": null,
            "max_width": null,
            "min_height": null,
            "min_width": null,
            "object_fit": null,
            "object_position": null,
            "order": null,
            "overflow": null,
            "overflow_x": null,
            "overflow_y": null,
            "padding": null,
            "right": null,
            "top": null,
            "visibility": null,
            "width": null
          }
        },
        "a0f043cbc07b4c2d9759475db00cf4a0": {
          "model_module": "@jupyter-widgets/controls",
          "model_name": "DescriptionStyleModel",
          "model_module_version": "1.5.0",
          "state": {
            "_model_module": "@jupyter-widgets/controls",
            "_model_module_version": "1.5.0",
            "_model_name": "DescriptionStyleModel",
            "_view_count": null,
            "_view_module": "@jupyter-widgets/base",
            "_view_module_version": "1.2.0",
            "_view_name": "StyleView",
            "description_width": ""
          }
        },
        "3fa09ba187e8449b8202a7883e738003": {
          "model_module": "@jupyter-widgets/controls",
          "model_name": "HBoxModel",
          "model_module_version": "1.5.0",
          "state": {
            "_dom_classes": [],
            "_model_module": "@jupyter-widgets/controls",
            "_model_module_version": "1.5.0",
            "_model_name": "HBoxModel",
            "_view_count": null,
            "_view_module": "@jupyter-widgets/controls",
            "_view_module_version": "1.5.0",
            "_view_name": "HBoxView",
            "box_style": "",
            "children": [
              "IPY_MODEL_ba39a56c18aa46c8be598dbb0bf899ad",
              "IPY_MODEL_e43c04c806bb4cacb7018ad597eb44a3",
              "IPY_MODEL_c2c462e8ab924d8aaa1e286ef8d9c347"
            ],
            "layout": "IPY_MODEL_d9614393829a470aa29a4e6586037c21"
          }
        },
        "ba39a56c18aa46c8be598dbb0bf899ad": {
          "model_module": "@jupyter-widgets/controls",
          "model_name": "HTMLModel",
          "model_module_version": "1.5.0",
          "state": {
            "_dom_classes": [],
            "_model_module": "@jupyter-widgets/controls",
            "_model_module_version": "1.5.0",
            "_model_name": "HTMLModel",
            "_view_count": null,
            "_view_module": "@jupyter-widgets/controls",
            "_view_module_version": "1.5.0",
            "_view_name": "HTMLView",
            "description": "",
            "description_tooltip": null,
            "layout": "IPY_MODEL_ef0d328d44e74007bf5211ec380e663b",
            "placeholder": "​",
            "style": "IPY_MODEL_c9ef87a8346d4ad8892e3d4e0b6f523d",
            "value": "Generating validation split: 100%"
          }
        },
        "e43c04c806bb4cacb7018ad597eb44a3": {
          "model_module": "@jupyter-widgets/controls",
          "model_name": "FloatProgressModel",
          "model_module_version": "1.5.0",
          "state": {
            "_dom_classes": [],
            "_model_module": "@jupyter-widgets/controls",
            "_model_module_version": "1.5.0",
            "_model_name": "FloatProgressModel",
            "_view_count": null,
            "_view_module": "@jupyter-widgets/controls",
            "_view_module_version": "1.5.0",
            "_view_name": "ProgressView",
            "bar_style": "success",
            "description": "",
            "description_tooltip": null,
            "layout": "IPY_MODEL_f72246a480324bf1a87c67fee910cb88",
            "max": 366,
            "min": 0,
            "orientation": "horizontal",
            "style": "IPY_MODEL_72b06fb321bf4f78b57ed52908af31a3",
            "value": 366
          }
        },
        "c2c462e8ab924d8aaa1e286ef8d9c347": {
          "model_module": "@jupyter-widgets/controls",
          "model_name": "HTMLModel",
          "model_module_version": "1.5.0",
          "state": {
            "_dom_classes": [],
            "_model_module": "@jupyter-widgets/controls",
            "_model_module_version": "1.5.0",
            "_model_name": "HTMLModel",
            "_view_count": null,
            "_view_module": "@jupyter-widgets/controls",
            "_view_module_version": "1.5.0",
            "_view_name": "HTMLView",
            "description": "",
            "description_tooltip": null,
            "layout": "IPY_MODEL_da7305dc5e474d078435bdea05668835",
            "placeholder": "​",
            "style": "IPY_MODEL_b9563d00d78b4a81bda83ff3220ac5d3",
            "value": " 366/366 [00:00&lt;00:00, 3324.18 examples/s]"
          }
        },
        "d9614393829a470aa29a4e6586037c21": {
          "model_module": "@jupyter-widgets/base",
          "model_name": "LayoutModel",
          "model_module_version": "1.2.0",
          "state": {
            "_model_module": "@jupyter-widgets/base",
            "_model_module_version": "1.2.0",
            "_model_name": "LayoutModel",
            "_view_count": null,
            "_view_module": "@jupyter-widgets/base",
            "_view_module_version": "1.2.0",
            "_view_name": "LayoutView",
            "align_content": null,
            "align_items": null,
            "align_self": null,
            "border": null,
            "bottom": null,
            "display": null,
            "flex": null,
            "flex_flow": null,
            "grid_area": null,
            "grid_auto_columns": null,
            "grid_auto_flow": null,
            "grid_auto_rows": null,
            "grid_column": null,
            "grid_gap": null,
            "grid_row": null,
            "grid_template_areas": null,
            "grid_template_columns": null,
            "grid_template_rows": null,
            "height": null,
            "justify_content": null,
            "justify_items": null,
            "left": null,
            "margin": null,
            "max_height": null,
            "max_width": null,
            "min_height": null,
            "min_width": null,
            "object_fit": null,
            "object_position": null,
            "order": null,
            "overflow": null,
            "overflow_x": null,
            "overflow_y": null,
            "padding": null,
            "right": null,
            "top": null,
            "visibility": null,
            "width": null
          }
        },
        "ef0d328d44e74007bf5211ec380e663b": {
          "model_module": "@jupyter-widgets/base",
          "model_name": "LayoutModel",
          "model_module_version": "1.2.0",
          "state": {
            "_model_module": "@jupyter-widgets/base",
            "_model_module_version": "1.2.0",
            "_model_name": "LayoutModel",
            "_view_count": null,
            "_view_module": "@jupyter-widgets/base",
            "_view_module_version": "1.2.0",
            "_view_name": "LayoutView",
            "align_content": null,
            "align_items": null,
            "align_self": null,
            "border": null,
            "bottom": null,
            "display": null,
            "flex": null,
            "flex_flow": null,
            "grid_area": null,
            "grid_auto_columns": null,
            "grid_auto_flow": null,
            "grid_auto_rows": null,
            "grid_column": null,
            "grid_gap": null,
            "grid_row": null,
            "grid_template_areas": null,
            "grid_template_columns": null,
            "grid_template_rows": null,
            "height": null,
            "justify_content": null,
            "justify_items": null,
            "left": null,
            "margin": null,
            "max_height": null,
            "max_width": null,
            "min_height": null,
            "min_width": null,
            "object_fit": null,
            "object_position": null,
            "order": null,
            "overflow": null,
            "overflow_x": null,
            "overflow_y": null,
            "padding": null,
            "right": null,
            "top": null,
            "visibility": null,
            "width": null
          }
        },
        "c9ef87a8346d4ad8892e3d4e0b6f523d": {
          "model_module": "@jupyter-widgets/controls",
          "model_name": "DescriptionStyleModel",
          "model_module_version": "1.5.0",
          "state": {
            "_model_module": "@jupyter-widgets/controls",
            "_model_module_version": "1.5.0",
            "_model_name": "DescriptionStyleModel",
            "_view_count": null,
            "_view_module": "@jupyter-widgets/base",
            "_view_module_version": "1.2.0",
            "_view_name": "StyleView",
            "description_width": ""
          }
        },
        "f72246a480324bf1a87c67fee910cb88": {
          "model_module": "@jupyter-widgets/base",
          "model_name": "LayoutModel",
          "model_module_version": "1.2.0",
          "state": {
            "_model_module": "@jupyter-widgets/base",
            "_model_module_version": "1.2.0",
            "_model_name": "LayoutModel",
            "_view_count": null,
            "_view_module": "@jupyter-widgets/base",
            "_view_module_version": "1.2.0",
            "_view_name": "LayoutView",
            "align_content": null,
            "align_items": null,
            "align_self": null,
            "border": null,
            "bottom": null,
            "display": null,
            "flex": null,
            "flex_flow": null,
            "grid_area": null,
            "grid_auto_columns": null,
            "grid_auto_flow": null,
            "grid_auto_rows": null,
            "grid_column": null,
            "grid_gap": null,
            "grid_row": null,
            "grid_template_areas": null,
            "grid_template_columns": null,
            "grid_template_rows": null,
            "height": null,
            "justify_content": null,
            "justify_items": null,
            "left": null,
            "margin": null,
            "max_height": null,
            "max_width": null,
            "min_height": null,
            "min_width": null,
            "object_fit": null,
            "object_position": null,
            "order": null,
            "overflow": null,
            "overflow_x": null,
            "overflow_y": null,
            "padding": null,
            "right": null,
            "top": null,
            "visibility": null,
            "width": null
          }
        },
        "72b06fb321bf4f78b57ed52908af31a3": {
          "model_module": "@jupyter-widgets/controls",
          "model_name": "ProgressStyleModel",
          "model_module_version": "1.5.0",
          "state": {
            "_model_module": "@jupyter-widgets/controls",
            "_model_module_version": "1.5.0",
            "_model_name": "ProgressStyleModel",
            "_view_count": null,
            "_view_module": "@jupyter-widgets/base",
            "_view_module_version": "1.2.0",
            "_view_name": "StyleView",
            "bar_color": null,
            "description_width": ""
          }
        },
        "da7305dc5e474d078435bdea05668835": {
          "model_module": "@jupyter-widgets/base",
          "model_name": "LayoutModel",
          "model_module_version": "1.2.0",
          "state": {
            "_model_module": "@jupyter-widgets/base",
            "_model_module_version": "1.2.0",
            "_model_name": "LayoutModel",
            "_view_count": null,
            "_view_module": "@jupyter-widgets/base",
            "_view_module_version": "1.2.0",
            "_view_name": "LayoutView",
            "align_content": null,
            "align_items": null,
            "align_self": null,
            "border": null,
            "bottom": null,
            "display": null,
            "flex": null,
            "flex_flow": null,
            "grid_area": null,
            "grid_auto_columns": null,
            "grid_auto_flow": null,
            "grid_auto_rows": null,
            "grid_column": null,
            "grid_gap": null,
            "grid_row": null,
            "grid_template_areas": null,
            "grid_template_columns": null,
            "grid_template_rows": null,
            "height": null,
            "justify_content": null,
            "justify_items": null,
            "left": null,
            "margin": null,
            "max_height": null,
            "max_width": null,
            "min_height": null,
            "min_width": null,
            "object_fit": null,
            "object_position": null,
            "order": null,
            "overflow": null,
            "overflow_x": null,
            "overflow_y": null,
            "padding": null,
            "right": null,
            "top": null,
            "visibility": null,
            "width": null
          }
        },
        "b9563d00d78b4a81bda83ff3220ac5d3": {
          "model_module": "@jupyter-widgets/controls",
          "model_name": "DescriptionStyleModel",
          "model_module_version": "1.5.0",
          "state": {
            "_model_module": "@jupyter-widgets/controls",
            "_model_module_version": "1.5.0",
            "_model_name": "DescriptionStyleModel",
            "_view_count": null,
            "_view_module": "@jupyter-widgets/base",
            "_view_module_version": "1.2.0",
            "_view_name": "StyleView",
            "description_width": ""
          }
        },
        "58fbd92e39e94609ab01913e263806bd": {
          "model_module": "@jupyter-widgets/controls",
          "model_name": "HBoxModel",
          "model_module_version": "1.5.0",
          "state": {
            "_dom_classes": [],
            "_model_module": "@jupyter-widgets/controls",
            "_model_module_version": "1.5.0",
            "_model_name": "HBoxModel",
            "_view_count": null,
            "_view_module": "@jupyter-widgets/controls",
            "_view_module_version": "1.5.0",
            "_view_name": "HBoxView",
            "box_style": "",
            "children": [
              "IPY_MODEL_53a7cb0178a84d149ea44f787793acfa",
              "IPY_MODEL_ae3ab7d427594d6fb6539e70c8c63eda",
              "IPY_MODEL_5fa9e642b4e8451ea8090c7624dbbac0"
            ],
            "layout": "IPY_MODEL_3c47ab5f6eb74266b55c06f7398ac83a"
          }
        },
        "53a7cb0178a84d149ea44f787793acfa": {
          "model_module": "@jupyter-widgets/controls",
          "model_name": "HTMLModel",
          "model_module_version": "1.5.0",
          "state": {
            "_dom_classes": [],
            "_model_module": "@jupyter-widgets/controls",
            "_model_module_version": "1.5.0",
            "_model_name": "HTMLModel",
            "_view_count": null,
            "_view_module": "@jupyter-widgets/controls",
            "_view_module_version": "1.5.0",
            "_view_name": "HTMLView",
            "description": "",
            "description_tooltip": null,
            "layout": "IPY_MODEL_57135c5f8800441596ca4603533f07a8",
            "placeholder": "​",
            "style": "IPY_MODEL_8fa3960e913142e4871be7b9cc8f2916",
            "value": "Downloading builder script: 100%"
          }
        },
        "ae3ab7d427594d6fb6539e70c8c63eda": {
          "model_module": "@jupyter-widgets/controls",
          "model_name": "FloatProgressModel",
          "model_module_version": "1.5.0",
          "state": {
            "_dom_classes": [],
            "_model_module": "@jupyter-widgets/controls",
            "_model_module_version": "1.5.0",
            "_model_name": "FloatProgressModel",
            "_view_count": null,
            "_view_module": "@jupyter-widgets/controls",
            "_view_module_version": "1.5.0",
            "_view_name": "ProgressView",
            "bar_style": "success",
            "description": "",
            "description_tooltip": null,
            "layout": "IPY_MODEL_1e4a85231b22473ca36d1d435338963b",
            "max": 5504,
            "min": 0,
            "orientation": "horizontal",
            "style": "IPY_MODEL_27bd58fcd8724325a8225109c11653db",
            "value": 5504
          }
        },
        "5fa9e642b4e8451ea8090c7624dbbac0": {
          "model_module": "@jupyter-widgets/controls",
          "model_name": "HTMLModel",
          "model_module_version": "1.5.0",
          "state": {
            "_dom_classes": [],
            "_model_module": "@jupyter-widgets/controls",
            "_model_module_version": "1.5.0",
            "_model_name": "HTMLModel",
            "_view_count": null,
            "_view_module": "@jupyter-widgets/controls",
            "_view_module_version": "1.5.0",
            "_view_name": "HTMLView",
            "description": "",
            "description_tooltip": null,
            "layout": "IPY_MODEL_2b4fa50e9c5144e7802d568823479ee8",
            "placeholder": "​",
            "style": "IPY_MODEL_0601f6b63d694375b5506018e1be68f8",
            "value": " 5.50k/5.50k [00:00&lt;00:00, 582kB/s]"
          }
        },
        "3c47ab5f6eb74266b55c06f7398ac83a": {
          "model_module": "@jupyter-widgets/base",
          "model_name": "LayoutModel",
          "model_module_version": "1.2.0",
          "state": {
            "_model_module": "@jupyter-widgets/base",
            "_model_module_version": "1.2.0",
            "_model_name": "LayoutModel",
            "_view_count": null,
            "_view_module": "@jupyter-widgets/base",
            "_view_module_version": "1.2.0",
            "_view_name": "LayoutView",
            "align_content": null,
            "align_items": null,
            "align_self": null,
            "border": null,
            "bottom": null,
            "display": null,
            "flex": null,
            "flex_flow": null,
            "grid_area": null,
            "grid_auto_columns": null,
            "grid_auto_flow": null,
            "grid_auto_rows": null,
            "grid_column": null,
            "grid_gap": null,
            "grid_row": null,
            "grid_template_areas": null,
            "grid_template_columns": null,
            "grid_template_rows": null,
            "height": null,
            "justify_content": null,
            "justify_items": null,
            "left": null,
            "margin": null,
            "max_height": null,
            "max_width": null,
            "min_height": null,
            "min_width": null,
            "object_fit": null,
            "object_position": null,
            "order": null,
            "overflow": null,
            "overflow_x": null,
            "overflow_y": null,
            "padding": null,
            "right": null,
            "top": null,
            "visibility": null,
            "width": null
          }
        },
        "57135c5f8800441596ca4603533f07a8": {
          "model_module": "@jupyter-widgets/base",
          "model_name": "LayoutModel",
          "model_module_version": "1.2.0",
          "state": {
            "_model_module": "@jupyter-widgets/base",
            "_model_module_version": "1.2.0",
            "_model_name": "LayoutModel",
            "_view_count": null,
            "_view_module": "@jupyter-widgets/base",
            "_view_module_version": "1.2.0",
            "_view_name": "LayoutView",
            "align_content": null,
            "align_items": null,
            "align_self": null,
            "border": null,
            "bottom": null,
            "display": null,
            "flex": null,
            "flex_flow": null,
            "grid_area": null,
            "grid_auto_columns": null,
            "grid_auto_flow": null,
            "grid_auto_rows": null,
            "grid_column": null,
            "grid_gap": null,
            "grid_row": null,
            "grid_template_areas": null,
            "grid_template_columns": null,
            "grid_template_rows": null,
            "height": null,
            "justify_content": null,
            "justify_items": null,
            "left": null,
            "margin": null,
            "max_height": null,
            "max_width": null,
            "min_height": null,
            "min_width": null,
            "object_fit": null,
            "object_position": null,
            "order": null,
            "overflow": null,
            "overflow_x": null,
            "overflow_y": null,
            "padding": null,
            "right": null,
            "top": null,
            "visibility": null,
            "width": null
          }
        },
        "8fa3960e913142e4871be7b9cc8f2916": {
          "model_module": "@jupyter-widgets/controls",
          "model_name": "DescriptionStyleModel",
          "model_module_version": "1.5.0",
          "state": {
            "_model_module": "@jupyter-widgets/controls",
            "_model_module_version": "1.5.0",
            "_model_name": "DescriptionStyleModel",
            "_view_count": null,
            "_view_module": "@jupyter-widgets/base",
            "_view_module_version": "1.2.0",
            "_view_name": "StyleView",
            "description_width": ""
          }
        },
        "1e4a85231b22473ca36d1d435338963b": {
          "model_module": "@jupyter-widgets/base",
          "model_name": "LayoutModel",
          "model_module_version": "1.2.0",
          "state": {
            "_model_module": "@jupyter-widgets/base",
            "_model_module_version": "1.2.0",
            "_model_name": "LayoutModel",
            "_view_count": null,
            "_view_module": "@jupyter-widgets/base",
            "_view_module_version": "1.2.0",
            "_view_name": "LayoutView",
            "align_content": null,
            "align_items": null,
            "align_self": null,
            "border": null,
            "bottom": null,
            "display": null,
            "flex": null,
            "flex_flow": null,
            "grid_area": null,
            "grid_auto_columns": null,
            "grid_auto_flow": null,
            "grid_auto_rows": null,
            "grid_column": null,
            "grid_gap": null,
            "grid_row": null,
            "grid_template_areas": null,
            "grid_template_columns": null,
            "grid_template_rows": null,
            "height": null,
            "justify_content": null,
            "justify_items": null,
            "left": null,
            "margin": null,
            "max_height": null,
            "max_width": null,
            "min_height": null,
            "min_width": null,
            "object_fit": null,
            "object_position": null,
            "order": null,
            "overflow": null,
            "overflow_x": null,
            "overflow_y": null,
            "padding": null,
            "right": null,
            "top": null,
            "visibility": null,
            "width": null
          }
        },
        "27bd58fcd8724325a8225109c11653db": {
          "model_module": "@jupyter-widgets/controls",
          "model_name": "ProgressStyleModel",
          "model_module_version": "1.5.0",
          "state": {
            "_model_module": "@jupyter-widgets/controls",
            "_model_module_version": "1.5.0",
            "_model_name": "ProgressStyleModel",
            "_view_count": null,
            "_view_module": "@jupyter-widgets/base",
            "_view_module_version": "1.2.0",
            "_view_name": "StyleView",
            "bar_color": null,
            "description_width": ""
          }
        },
        "2b4fa50e9c5144e7802d568823479ee8": {
          "model_module": "@jupyter-widgets/base",
          "model_name": "LayoutModel",
          "model_module_version": "1.2.0",
          "state": {
            "_model_module": "@jupyter-widgets/base",
            "_model_module_version": "1.2.0",
            "_model_name": "LayoutModel",
            "_view_count": null,
            "_view_module": "@jupyter-widgets/base",
            "_view_module_version": "1.2.0",
            "_view_name": "LayoutView",
            "align_content": null,
            "align_items": null,
            "align_self": null,
            "border": null,
            "bottom": null,
            "display": null,
            "flex": null,
            "flex_flow": null,
            "grid_area": null,
            "grid_auto_columns": null,
            "grid_auto_flow": null,
            "grid_auto_rows": null,
            "grid_column": null,
            "grid_gap": null,
            "grid_row": null,
            "grid_template_areas": null,
            "grid_template_columns": null,
            "grid_template_rows": null,
            "height": null,
            "justify_content": null,
            "justify_items": null,
            "left": null,
            "margin": null,
            "max_height": null,
            "max_width": null,
            "min_height": null,
            "min_width": null,
            "object_fit": null,
            "object_position": null,
            "order": null,
            "overflow": null,
            "overflow_x": null,
            "overflow_y": null,
            "padding": null,
            "right": null,
            "top": null,
            "visibility": null,
            "width": null
          }
        },
        "0601f6b63d694375b5506018e1be68f8": {
          "model_module": "@jupyter-widgets/controls",
          "model_name": "DescriptionStyleModel",
          "model_module_version": "1.5.0",
          "state": {
            "_model_module": "@jupyter-widgets/controls",
            "_model_module_version": "1.5.0",
            "_model_name": "DescriptionStyleModel",
            "_view_count": null,
            "_view_module": "@jupyter-widgets/base",
            "_view_module_version": "1.2.0",
            "_view_name": "StyleView",
            "description_width": ""
          }
        },
        "edabcc9f66554f24a7e7570ae8c96201": {
          "model_module": "@jupyter-widgets/controls",
          "model_name": "HBoxModel",
          "model_module_version": "1.5.0",
          "state": {
            "_dom_classes": [],
            "_model_module": "@jupyter-widgets/controls",
            "_model_module_version": "1.5.0",
            "_model_name": "HBoxModel",
            "_view_count": null,
            "_view_module": "@jupyter-widgets/controls",
            "_view_module_version": "1.5.0",
            "_view_name": "HBoxView",
            "box_style": "",
            "children": [
              "IPY_MODEL_a0534f30b0f546478765124559f31845",
              "IPY_MODEL_b5b1ce1ed47244bf95cd17da1959db15",
              "IPY_MODEL_14904faf19ff4c98895362373773c701"
            ],
            "layout": "IPY_MODEL_60dece238e2f4bc0afef80c551458917"
          }
        },
        "a0534f30b0f546478765124559f31845": {
          "model_module": "@jupyter-widgets/controls",
          "model_name": "HTMLModel",
          "model_module_version": "1.5.0",
          "state": {
            "_dom_classes": [],
            "_model_module": "@jupyter-widgets/controls",
            "_model_module_version": "1.5.0",
            "_model_name": "HTMLModel",
            "_view_count": null,
            "_view_module": "@jupyter-widgets/controls",
            "_view_module_version": "1.5.0",
            "_view_name": "HTMLView",
            "description": "",
            "description_tooltip": null,
            "layout": "IPY_MODEL_555a64496a694e23ac8bda752e0e4602",
            "placeholder": "​",
            "style": "IPY_MODEL_02e7457a78804c54b24921e598b63066",
            "value": "Downloading builder script: 100%"
          }
        },
        "b5b1ce1ed47244bf95cd17da1959db15": {
          "model_module": "@jupyter-widgets/controls",
          "model_name": "FloatProgressModel",
          "model_module_version": "1.5.0",
          "state": {
            "_dom_classes": [],
            "_model_module": "@jupyter-widgets/controls",
            "_model_module_version": "1.5.0",
            "_model_name": "FloatProgressModel",
            "_view_count": null,
            "_view_module": "@jupyter-widgets/controls",
            "_view_module_version": "1.5.0",
            "_view_name": "ProgressView",
            "bar_style": "success",
            "description": "",
            "description_tooltip": null,
            "layout": "IPY_MODEL_f203877873dc48f9b8c5474b273bba50",
            "max": 6651,
            "min": 0,
            "orientation": "horizontal",
            "style": "IPY_MODEL_961b1de86fb54fc499c98c860e9ad8e7",
            "value": 6651
          }
        },
        "14904faf19ff4c98895362373773c701": {
          "model_module": "@jupyter-widgets/controls",
          "model_name": "HTMLModel",
          "model_module_version": "1.5.0",
          "state": {
            "_dom_classes": [],
            "_model_module": "@jupyter-widgets/controls",
            "_model_module_version": "1.5.0",
            "_model_name": "HTMLModel",
            "_view_count": null,
            "_view_module": "@jupyter-widgets/controls",
            "_view_module_version": "1.5.0",
            "_view_name": "HTMLView",
            "description": "",
            "description_tooltip": null,
            "layout": "IPY_MODEL_dd9e8a80ead544fca90ff3fa1e8b8c11",
            "placeholder": "​",
            "style": "IPY_MODEL_1370efeccc014551b2d7eaaaf38de166",
            "value": " 6.65k/6.65k [00:00&lt;00:00, 611kB/s]"
          }
        },
        "60dece238e2f4bc0afef80c551458917": {
          "model_module": "@jupyter-widgets/base",
          "model_name": "LayoutModel",
          "model_module_version": "1.2.0",
          "state": {
            "_model_module": "@jupyter-widgets/base",
            "_model_module_version": "1.2.0",
            "_model_name": "LayoutModel",
            "_view_count": null,
            "_view_module": "@jupyter-widgets/base",
            "_view_module_version": "1.2.0",
            "_view_name": "LayoutView",
            "align_content": null,
            "align_items": null,
            "align_self": null,
            "border": null,
            "bottom": null,
            "display": null,
            "flex": null,
            "flex_flow": null,
            "grid_area": null,
            "grid_auto_columns": null,
            "grid_auto_flow": null,
            "grid_auto_rows": null,
            "grid_column": null,
            "grid_gap": null,
            "grid_row": null,
            "grid_template_areas": null,
            "grid_template_columns": null,
            "grid_template_rows": null,
            "height": null,
            "justify_content": null,
            "justify_items": null,
            "left": null,
            "margin": null,
            "max_height": null,
            "max_width": null,
            "min_height": null,
            "min_width": null,
            "object_fit": null,
            "object_position": null,
            "order": null,
            "overflow": null,
            "overflow_x": null,
            "overflow_y": null,
            "padding": null,
            "right": null,
            "top": null,
            "visibility": null,
            "width": null
          }
        },
        "555a64496a694e23ac8bda752e0e4602": {
          "model_module": "@jupyter-widgets/base",
          "model_name": "LayoutModel",
          "model_module_version": "1.2.0",
          "state": {
            "_model_module": "@jupyter-widgets/base",
            "_model_module_version": "1.2.0",
            "_model_name": "LayoutModel",
            "_view_count": null,
            "_view_module": "@jupyter-widgets/base",
            "_view_module_version": "1.2.0",
            "_view_name": "LayoutView",
            "align_content": null,
            "align_items": null,
            "align_self": null,
            "border": null,
            "bottom": null,
            "display": null,
            "flex": null,
            "flex_flow": null,
            "grid_area": null,
            "grid_auto_columns": null,
            "grid_auto_flow": null,
            "grid_auto_rows": null,
            "grid_column": null,
            "grid_gap": null,
            "grid_row": null,
            "grid_template_areas": null,
            "grid_template_columns": null,
            "grid_template_rows": null,
            "height": null,
            "justify_content": null,
            "justify_items": null,
            "left": null,
            "margin": null,
            "max_height": null,
            "max_width": null,
            "min_height": null,
            "min_width": null,
            "object_fit": null,
            "object_position": null,
            "order": null,
            "overflow": null,
            "overflow_x": null,
            "overflow_y": null,
            "padding": null,
            "right": null,
            "top": null,
            "visibility": null,
            "width": null
          }
        },
        "02e7457a78804c54b24921e598b63066": {
          "model_module": "@jupyter-widgets/controls",
          "model_name": "DescriptionStyleModel",
          "model_module_version": "1.5.0",
          "state": {
            "_model_module": "@jupyter-widgets/controls",
            "_model_module_version": "1.5.0",
            "_model_name": "DescriptionStyleModel",
            "_view_count": null,
            "_view_module": "@jupyter-widgets/base",
            "_view_module_version": "1.2.0",
            "_view_name": "StyleView",
            "description_width": ""
          }
        },
        "f203877873dc48f9b8c5474b273bba50": {
          "model_module": "@jupyter-widgets/base",
          "model_name": "LayoutModel",
          "model_module_version": "1.2.0",
          "state": {
            "_model_module": "@jupyter-widgets/base",
            "_model_module_version": "1.2.0",
            "_model_name": "LayoutModel",
            "_view_count": null,
            "_view_module": "@jupyter-widgets/base",
            "_view_module_version": "1.2.0",
            "_view_name": "LayoutView",
            "align_content": null,
            "align_items": null,
            "align_self": null,
            "border": null,
            "bottom": null,
            "display": null,
            "flex": null,
            "flex_flow": null,
            "grid_area": null,
            "grid_auto_columns": null,
            "grid_auto_flow": null,
            "grid_auto_rows": null,
            "grid_column": null,
            "grid_gap": null,
            "grid_row": null,
            "grid_template_areas": null,
            "grid_template_columns": null,
            "grid_template_rows": null,
            "height": null,
            "justify_content": null,
            "justify_items": null,
            "left": null,
            "margin": null,
            "max_height": null,
            "max_width": null,
            "min_height": null,
            "min_width": null,
            "object_fit": null,
            "object_position": null,
            "order": null,
            "overflow": null,
            "overflow_x": null,
            "overflow_y": null,
            "padding": null,
            "right": null,
            "top": null,
            "visibility": null,
            "width": null
          }
        },
        "961b1de86fb54fc499c98c860e9ad8e7": {
          "model_module": "@jupyter-widgets/controls",
          "model_name": "ProgressStyleModel",
          "model_module_version": "1.5.0",
          "state": {
            "_model_module": "@jupyter-widgets/controls",
            "_model_module_version": "1.5.0",
            "_model_name": "ProgressStyleModel",
            "_view_count": null,
            "_view_module": "@jupyter-widgets/base",
            "_view_module_version": "1.2.0",
            "_view_name": "StyleView",
            "bar_color": null,
            "description_width": ""
          }
        },
        "dd9e8a80ead544fca90ff3fa1e8b8c11": {
          "model_module": "@jupyter-widgets/base",
          "model_name": "LayoutModel",
          "model_module_version": "1.2.0",
          "state": {
            "_model_module": "@jupyter-widgets/base",
            "_model_module_version": "1.2.0",
            "_model_name": "LayoutModel",
            "_view_count": null,
            "_view_module": "@jupyter-widgets/base",
            "_view_module_version": "1.2.0",
            "_view_name": "LayoutView",
            "align_content": null,
            "align_items": null,
            "align_self": null,
            "border": null,
            "bottom": null,
            "display": null,
            "flex": null,
            "flex_flow": null,
            "grid_area": null,
            "grid_auto_columns": null,
            "grid_auto_flow": null,
            "grid_auto_rows": null,
            "grid_column": null,
            "grid_gap": null,
            "grid_row": null,
            "grid_template_areas": null,
            "grid_template_columns": null,
            "grid_template_rows": null,
            "height": null,
            "justify_content": null,
            "justify_items": null,
            "left": null,
            "margin": null,
            "max_height": null,
            "max_width": null,
            "min_height": null,
            "min_width": null,
            "object_fit": null,
            "object_position": null,
            "order": null,
            "overflow": null,
            "overflow_x": null,
            "overflow_y": null,
            "padding": null,
            "right": null,
            "top": null,
            "visibility": null,
            "width": null
          }
        },
        "1370efeccc014551b2d7eaaaf38de166": {
          "model_module": "@jupyter-widgets/controls",
          "model_name": "DescriptionStyleModel",
          "model_module_version": "1.5.0",
          "state": {
            "_model_module": "@jupyter-widgets/controls",
            "_model_module_version": "1.5.0",
            "_model_name": "DescriptionStyleModel",
            "_view_count": null,
            "_view_module": "@jupyter-widgets/base",
            "_view_module_version": "1.2.0",
            "_view_name": "StyleView",
            "description_width": ""
          }
        }
      }
    }
  },
  "nbformat": 4,
  "nbformat_minor": 5
}