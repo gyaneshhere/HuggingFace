{
  "cells": [
    {
      "cell_type": "markdown",
      "metadata": {
        "id": "Pi9CF0391ARI"
      },
      "source": [
        "# Integrating Agents With Tools\n",
        "\n",
        "This notebook is part of the [Hugging Face Agents Course](https://www.hf.co/learn/agents-course), a free Course from beginner to expert, where you learn to build Agents.\n",
        "\n",
        "![Agents course share](https://huggingface.co/datasets/agents-course/course-images/resolve/main/en/communication/share.png)"
      ]
    },
    {
      "cell_type": "markdown",
      "metadata": {
        "id": "9gsYky7F1GzT"
      },
      "source": [
        "## Let's install the dependencies and login to our HF account to access the Inference API\n",
        "\n",
        "If you haven't installed `smolagents` yet, you can do so by running the following command:"
      ]
    },
    {
      "cell_type": "code",
      "execution_count": 1,
      "metadata": {
        "id": "MoFopncp0pnJ",
        "outputId": "6b38be6c-41df-4415-c8e3-88716a80973f",
        "colab": {
          "base_uri": "https://localhost:8080/"
        }
      },
      "outputs": [
        {
          "output_type": "stream",
          "name": "stdout",
          "text": [
            "Collecting smolagents\n",
            "  Downloading smolagents-1.9.2-py3-none-any.whl.metadata (14 kB)\n",
            "Requirement already satisfied: huggingface-hub>=0.28.0 in /usr/local/lib/python3.11/dist-packages (from smolagents) (0.28.1)\n",
            "Requirement already satisfied: requests>=2.32.3 in /usr/local/lib/python3.11/dist-packages (from smolagents) (2.32.3)\n",
            "Requirement already satisfied: rich>=13.9.4 in /usr/local/lib/python3.11/dist-packages (from smolagents) (13.9.4)\n",
            "Collecting pandas>=2.2.3 (from smolagents)\n",
            "  Downloading pandas-2.2.3-cp311-cp311-manylinux_2_17_x86_64.manylinux2014_x86_64.whl.metadata (89 kB)\n",
            "\u001b[2K     \u001b[90m━━━━━━━━━━━━━━━━━━━━━━━━━━━━━━━━━━━━━━━━\u001b[0m \u001b[32m89.9/89.9 kB\u001b[0m \u001b[31m1.9 MB/s\u001b[0m eta \u001b[36m0:00:00\u001b[0m\n",
            "\u001b[?25hRequirement already satisfied: jinja2>=3.1.4 in /usr/local/lib/python3.11/dist-packages (from smolagents) (3.1.5)\n",
            "Requirement already satisfied: pillow>=11.0.0 in /usr/local/lib/python3.11/dist-packages (from smolagents) (11.1.0)\n",
            "Collecting markdownify>=0.14.1 (from smolagents)\n",
            "  Downloading markdownify-1.0.0-py3-none-any.whl.metadata (9.1 kB)\n",
            "Collecting duckduckgo-search>=6.3.7 (from smolagents)\n",
            "  Downloading duckduckgo_search-7.5.0-py3-none-any.whl.metadata (17 kB)\n",
            "Collecting python-dotenv (from smolagents)\n",
            "  Downloading python_dotenv-1.0.1-py3-none-any.whl.metadata (23 kB)\n",
            "Requirement already satisfied: click>=8.1.8 in /usr/local/lib/python3.11/dist-packages (from duckduckgo-search>=6.3.7->smolagents) (8.1.8)\n",
            "Collecting primp>=0.14.0 (from duckduckgo-search>=6.3.7->smolagents)\n",
            "  Downloading primp-0.14.0-cp38-abi3-manylinux_2_17_x86_64.manylinux2014_x86_64.whl.metadata (13 kB)\n",
            "Requirement already satisfied: lxml>=5.3.0 in /usr/local/lib/python3.11/dist-packages (from duckduckgo-search>=6.3.7->smolagents) (5.3.1)\n",
            "Requirement already satisfied: filelock in /usr/local/lib/python3.11/dist-packages (from huggingface-hub>=0.28.0->smolagents) (3.17.0)\n",
            "Requirement already satisfied: fsspec>=2023.5.0 in /usr/local/lib/python3.11/dist-packages (from huggingface-hub>=0.28.0->smolagents) (2024.10.0)\n",
            "Requirement already satisfied: packaging>=20.9 in /usr/local/lib/python3.11/dist-packages (from huggingface-hub>=0.28.0->smolagents) (24.2)\n",
            "Requirement already satisfied: pyyaml>=5.1 in /usr/local/lib/python3.11/dist-packages (from huggingface-hub>=0.28.0->smolagents) (6.0.2)\n",
            "Requirement already satisfied: tqdm>=4.42.1 in /usr/local/lib/python3.11/dist-packages (from huggingface-hub>=0.28.0->smolagents) (4.67.1)\n",
            "Requirement already satisfied: typing-extensions>=3.7.4.3 in /usr/local/lib/python3.11/dist-packages (from huggingface-hub>=0.28.0->smolagents) (4.12.2)\n",
            "Requirement already satisfied: MarkupSafe>=2.0 in /usr/local/lib/python3.11/dist-packages (from jinja2>=3.1.4->smolagents) (3.0.2)\n",
            "Requirement already satisfied: beautifulsoup4<5,>=4.9 in /usr/local/lib/python3.11/dist-packages (from markdownify>=0.14.1->smolagents) (4.13.3)\n",
            "Requirement already satisfied: six<2,>=1.15 in /usr/local/lib/python3.11/dist-packages (from markdownify>=0.14.1->smolagents) (1.17.0)\n",
            "Requirement already satisfied: numpy>=1.23.2 in /usr/local/lib/python3.11/dist-packages (from pandas>=2.2.3->smolagents) (1.26.4)\n",
            "Requirement already satisfied: python-dateutil>=2.8.2 in /usr/local/lib/python3.11/dist-packages (from pandas>=2.2.3->smolagents) (2.8.2)\n",
            "Requirement already satisfied: pytz>=2020.1 in /usr/local/lib/python3.11/dist-packages (from pandas>=2.2.3->smolagents) (2025.1)\n",
            "Requirement already satisfied: tzdata>=2022.7 in /usr/local/lib/python3.11/dist-packages (from pandas>=2.2.3->smolagents) (2025.1)\n",
            "Requirement already satisfied: charset-normalizer<4,>=2 in /usr/local/lib/python3.11/dist-packages (from requests>=2.32.3->smolagents) (3.4.1)\n",
            "Requirement already satisfied: idna<4,>=2.5 in /usr/local/lib/python3.11/dist-packages (from requests>=2.32.3->smolagents) (3.10)\n",
            "Requirement already satisfied: urllib3<3,>=1.21.1 in /usr/local/lib/python3.11/dist-packages (from requests>=2.32.3->smolagents) (2.3.0)\n",
            "Requirement already satisfied: certifi>=2017.4.17 in /usr/local/lib/python3.11/dist-packages (from requests>=2.32.3->smolagents) (2025.1.31)\n",
            "Requirement already satisfied: markdown-it-py>=2.2.0 in /usr/local/lib/python3.11/dist-packages (from rich>=13.9.4->smolagents) (3.0.0)\n",
            "Requirement already satisfied: pygments<3.0.0,>=2.13.0 in /usr/local/lib/python3.11/dist-packages (from rich>=13.9.4->smolagents) (2.18.0)\n",
            "Requirement already satisfied: soupsieve>1.2 in /usr/local/lib/python3.11/dist-packages (from beautifulsoup4<5,>=4.9->markdownify>=0.14.1->smolagents) (2.6)\n",
            "Requirement already satisfied: mdurl~=0.1 in /usr/local/lib/python3.11/dist-packages (from markdown-it-py>=2.2.0->rich>=13.9.4->smolagents) (0.1.2)\n",
            "Downloading smolagents-1.9.2-py3-none-any.whl (101 kB)\n",
            "\u001b[2K   \u001b[90m━━━━━━━━━━━━━━━━━━━━━━━━━━━━━━━━━━━━━━━━\u001b[0m \u001b[32m101.8/101.8 kB\u001b[0m \u001b[31m4.2 MB/s\u001b[0m eta \u001b[36m0:00:00\u001b[0m\n",
            "\u001b[?25hDownloading duckduckgo_search-7.5.0-py3-none-any.whl (20 kB)\n",
            "Downloading markdownify-1.0.0-py3-none-any.whl (13 kB)\n",
            "Downloading pandas-2.2.3-cp311-cp311-manylinux_2_17_x86_64.manylinux2014_x86_64.whl (13.1 MB)\n",
            "\u001b[2K   \u001b[90m━━━━━━━━━━━━━━━━━━━━━━━━━━━━━━━━━━━━━━━━\u001b[0m \u001b[32m13.1/13.1 MB\u001b[0m \u001b[31m50.4 MB/s\u001b[0m eta \u001b[36m0:00:00\u001b[0m\n",
            "\u001b[?25hDownloading python_dotenv-1.0.1-py3-none-any.whl (19 kB)\n",
            "Downloading primp-0.14.0-cp38-abi3-manylinux_2_17_x86_64.manylinux2014_x86_64.whl (3.3 MB)\n",
            "\u001b[2K   \u001b[90m━━━━━━━━━━━━━━━━━━━━━━━━━━━━━━━━━━━━━━━━\u001b[0m \u001b[32m3.3/3.3 MB\u001b[0m \u001b[31m45.8 MB/s\u001b[0m eta \u001b[36m0:00:00\u001b[0m\n",
            "\u001b[?25hInstalling collected packages: python-dotenv, primp, pandas, markdownify, duckduckgo-search, smolagents\n",
            "  Attempting uninstall: pandas\n",
            "    Found existing installation: pandas 2.2.2\n",
            "    Uninstalling pandas-2.2.2:\n",
            "      Successfully uninstalled pandas-2.2.2\n",
            "\u001b[31mERROR: pip's dependency resolver does not currently take into account all the packages that are installed. This behaviour is the source of the following dependency conflicts.\n",
            "google-colab 1.0.0 requires pandas==2.2.2, but you have pandas 2.2.3 which is incompatible.\u001b[0m\u001b[31m\n",
            "\u001b[0mSuccessfully installed duckduckgo-search-7.5.0 markdownify-1.0.0 pandas-2.2.3 primp-0.14.0 python-dotenv-1.0.1 smolagents-1.9.2\n"
          ]
        }
      ],
      "source": [
        "!pip install smolagents -U"
      ]
    },
    {
      "cell_type": "markdown",
      "source": [
        "Let's also login to the Hugging Face Hub to have access to the Inference API."
      ],
      "metadata": {
        "id": "cH-4W1GhYL4T"
      }
    },
    {
      "cell_type": "code",
      "execution_count": 2,
      "metadata": {
        "id": "TFTc-ry70y1f",
        "outputId": "2d0daff0-eec4-456f-8324-b90008cf5358",
        "colab": {
          "base_uri": "https://localhost:8080/",
          "height": 17,
          "referenced_widgets": [
            "30299d17f0194d9ebe2c12b1055ec61e",
            "39da76b1fc3f4555a17e174ba1bbfdb1",
            "cbbc4800c283489ba3a96226722a76ff",
            "6f8b30f147114c248b1d35c7f97853e1",
            "f5a4758ba94e494dbb7538931a8e43cc",
            "aa9b5e7778a74f9eac4af315313fbb97",
            "ed87048d0bbc4d2eafd6689c3f1e5cf9",
            "ee431e20fe464914a47cd51816eff34b",
            "be5f562f79cd408f9b2a320dc648479d",
            "a71f26ebdfce4e58b17356d3f30eeec9",
            "94daeb6b225d42ebbf3d21b529935147",
            "15e313ef96cd478483530c4a1425a395",
            "7dce6ac6c8194548bd91c2b0d33d55fc",
            "23177f2bab694f34aa9c5481398e3095",
            "9d7a3a407bab4bc591b8cab7e3af8614",
            "eaec3ce7a2ed4dfda88fecc421354d5e",
            "4e39af27d00e4b98b2767692e8e0dec4",
            "ab03b602141842f5b182df0ca42f807e",
            "9d4ca1de29864aafafcdef469e3508b1",
            "5ecf2c12e4b34b9683eaebd2315f075c"
          ]
        }
      },
      "outputs": [
        {
          "output_type": "display_data",
          "data": {
            "text/plain": [
              "VBox(children=(HTML(value='<center> <img\\nsrc=https://huggingface.co/front/assets/huggingface_logo-noborder.sv…"
            ],
            "application/vnd.jupyter.widget-view+json": {
              "version_major": 2,
              "version_minor": 0,
              "model_id": "30299d17f0194d9ebe2c12b1055ec61e"
            }
          },
          "metadata": {}
        }
      ],
      "source": [
        "from huggingface_hub import notebook_login\n",
        "\n",
        "notebook_login()"
      ]
    },
    {
      "cell_type": "markdown",
      "metadata": {
        "id": "ekKxaZrd1HlB"
      },
      "source": [
        "## Selecting a Playlist for the Party Using `smolagents` and a `ToolCallingAgent`\n",
        "\n",
        "Let's revisit the previous example where Alfred started party preparations, but this time we'll use a `ToolCallingAgent` to highlight the difference. We'll build an agent that can search the web using DuckDuckGo, just like in our Code Agent example. The only difference is the agent type - the framework handles everything else:"
      ]
    },
    {
      "cell_type": "code",
      "execution_count": 3,
      "metadata": {
        "colab": {
          "base_uri": "https://localhost:8080/",
          "height": 1000
        },
        "id": "6IInDOUN01sP",
        "outputId": "f1703409-340a-419b-8814-e373a43b75ec"
      },
      "outputs": [
        {
          "output_type": "display_data",
          "data": {
            "text/plain": [
              "\u001b[38;2;212;183;2m╭─\u001b[0m\u001b[38;2;212;183;2m───────────────────────────────────────────────────\u001b[0m\u001b[38;2;212;183;2m \u001b[0m\u001b[1;38;2;212;183;2mNew run\u001b[0m\u001b[38;2;212;183;2m \u001b[0m\u001b[38;2;212;183;2m───────────────────────────────────────────────────\u001b[0m\u001b[38;2;212;183;2m─╮\u001b[0m\n",
              "\u001b[38;2;212;183;2m│\u001b[0m                                                                                                                 \u001b[38;2;212;183;2m│\u001b[0m\n",
              "\u001b[38;2;212;183;2m│\u001b[0m \u001b[1mSearch for the best music recommendations for a Bollyword Dance party at the Indian mansion.\u001b[0m                    \u001b[38;2;212;183;2m│\u001b[0m\n",
              "\u001b[38;2;212;183;2m│\u001b[0m                                                                                                                 \u001b[38;2;212;183;2m│\u001b[0m\n",
              "\u001b[38;2;212;183;2m╰─\u001b[0m\u001b[38;2;212;183;2m HfApiModel - Qwen/Qwen2.5-Coder-32B-Instruct \u001b[0m\u001b[38;2;212;183;2m─────────────────────────────────────────────────────────────────\u001b[0m\u001b[38;2;212;183;2m─╯\u001b[0m\n"
            ],
            "text/html": [
              "<pre style=\"white-space:pre;overflow-x:auto;line-height:normal;font-family:Menlo,'DejaVu Sans Mono',consolas,'Courier New',monospace\"><span style=\"color: #d4b702; text-decoration-color: #d4b702\">╭──────────────────────────────────────────────────── </span><span style=\"color: #d4b702; text-decoration-color: #d4b702; font-weight: bold\">New run</span><span style=\"color: #d4b702; text-decoration-color: #d4b702\"> ────────────────────────────────────────────────────╮</span>\n",
              "<span style=\"color: #d4b702; text-decoration-color: #d4b702\">│</span>                                                                                                                 <span style=\"color: #d4b702; text-decoration-color: #d4b702\">│</span>\n",
              "<span style=\"color: #d4b702; text-decoration-color: #d4b702\">│</span> <span style=\"font-weight: bold\">Search for the best music recommendations for a Bollyword Dance party at the Indian mansion.</span>                    <span style=\"color: #d4b702; text-decoration-color: #d4b702\">│</span>\n",
              "<span style=\"color: #d4b702; text-decoration-color: #d4b702\">│</span>                                                                                                                 <span style=\"color: #d4b702; text-decoration-color: #d4b702\">│</span>\n",
              "<span style=\"color: #d4b702; text-decoration-color: #d4b702\">╰─ HfApiModel - Qwen/Qwen2.5-Coder-32B-Instruct ──────────────────────────────────────────────────────────────────╯</span>\n",
              "</pre>\n"
            ]
          },
          "metadata": {}
        },
        {
          "output_type": "display_data",
          "data": {
            "text/plain": [
              "\u001b[38;2;212;183;2m━━━━━━━━━━━━━━━━━━━━━━━━━━━━━━━━━━━━━━━━━━━━━━━━━━━━━ \u001b[0m\u001b[1mStep \u001b[0m\u001b[1;36m1\u001b[0m\u001b[38;2;212;183;2m ━━━━━━━━━━━━━━━━━━━━━━━━━━━━━━━━━━━━━━━━━━━━━━━━━━━━━━\u001b[0m\n"
            ],
            "text/html": [
              "<pre style=\"white-space:pre;overflow-x:auto;line-height:normal;font-family:Menlo,'DejaVu Sans Mono',consolas,'Courier New',monospace\"><span style=\"color: #d4b702; text-decoration-color: #d4b702\">━━━━━━━━━━━━━━━━━━━━━━━━━━━━━━━━━━━━━━━━━━━━━━━━━━━━━ </span><span style=\"font-weight: bold\">Step </span><span style=\"color: #008080; text-decoration-color: #008080; font-weight: bold\">1</span><span style=\"color: #d4b702; text-decoration-color: #d4b702\"> ━━━━━━━━━━━━━━━━━━━━━━━━━━━━━━━━━━━━━━━━━━━━━━━━━━━━━━</span>\n",
              "</pre>\n"
            ]
          },
          "metadata": {}
        },
        {
          "output_type": "stream",
          "name": "stderr",
          "text": [
            "/usr/local/lib/python3.11/dist-packages/huggingface_hub/utils/_auth.py:94: UserWarning: \n",
            "The secret `HF_TOKEN` does not exist in your Colab secrets.\n",
            "To authenticate with the Hugging Face Hub, create a token in your settings tab (https://huggingface.co/settings/tokens), set it as secret in your Google Colab and restart your session.\n",
            "You will be able to reuse this secret in all of your notebooks.\n",
            "Please note that authentication is recommended but still optional to access public models or datasets.\n",
            "  warnings.warn(\n"
          ]
        },
        {
          "output_type": "display_data",
          "data": {
            "text/plain": [
              "╭─────────────────────────────────────────────────────────────────────────────────────────────────────────────────╮\n",
              "│ Calling tool: 'web_search' with arguments: {'query': 'Best Bollyword dance party music for Indian mansion       │\n",
              "│ guests'}                                                                                                        │\n",
              "╰─────────────────────────────────────────────────────────────────────────────────────────────────────────────────╯\n"
            ],
            "text/html": [
              "<pre style=\"white-space:pre;overflow-x:auto;line-height:normal;font-family:Menlo,'DejaVu Sans Mono',consolas,'Courier New',monospace\">╭─────────────────────────────────────────────────────────────────────────────────────────────────────────────────╮\n",
              "│ Calling tool: 'web_search' with arguments: {'query': 'Best Bollyword dance party music for Indian mansion       │\n",
              "│ guests'}                                                                                                        │\n",
              "╰─────────────────────────────────────────────────────────────────────────────────────────────────────────────────╯\n",
              "</pre>\n"
            ]
          },
          "metadata": {}
        },
        {
          "output_type": "display_data",
          "data": {
            "text/plain": [
              "Observations: ## Search Results\n",
              "\n",
              "|\u001b[1;36m43\u001b[0m Best Bollywood Party Songs - BuzzFeed\u001b[1m]\u001b[0m\u001b[1m(\u001b[0m\u001b[4;94mhttps://www.buzzfeed.com/aakritianand1/43-best-bollywood-party-songs\u001b[0m\u001b[4;94m)\u001b[0m\n",
              "A song set in a house party was designed to be an ultimate banger of a party song. And this super new-age vibe, \n",
              "with casual dressing and casual dancing, is on the playlist for a reason.\n",
              "\n",
              "|\u001b[1;36m44\u001b[0m Best Bollywood Dance Songs \u001b[1m(\u001b[0mParty To These\u001b[1m)\u001b[0m - Music Grotto\u001b[1m]\u001b[0m\u001b[1m(\u001b[0m\u001b[4;94mhttps://www.musicgrotto.com/bollywood-dance-songs/\u001b[0m\u001b[4;94m)\u001b[0m\n",
              "Do you want to dance and party to some Bollywood music? Check out these \u001b[1;36m44\u001b[0m best Bollywood dance songs you can play \n",
              "at your next event!\n",
              "\n",
              "|\u001b[1;36m35\u001b[0m Best Bollywood Party Songs Ever - Music Industry How \n",
              "To\u001b[1m]\u001b[0m\u001b[1m(\u001b[0m\u001b[4;94mhttps://www.musicindustryhowto.com/bollywood-party-songs/\u001b[0m\u001b[4;94m)\u001b[0m\n",
              "Spread the love Whether hosting a birthday, wedding, or New Year party, you need epic music to kick the party into \n",
              "life. And when it comes to setting the party's tone, nothing does it better than Bollywood party songs. \n",
              "Interestingly, Bollywood songs have become popular globally, not just in India. They will get you dancing hard,\u001b[33m...\u001b[0m\n",
              "\n",
              "|Non-Stop Party Songs | Best Bollywood Dance Music - YouTube\u001b[1m]\u001b[0m\u001b[1m(\u001b[0m\u001b[4;94mhttps://www.youtube.com/watch?\u001b[0m\u001b[4;94mv\u001b[0m\u001b[4;94m=\u001b[0m\u001b[4;94mOcowdKKfrhQ\u001b[0m\u001b[4;94m)\u001b[0m\n",
              "Get ready to dance non-stop with this ultimate Bollywood dance hits collection! 💃🕺 Whether you're hosting a \n",
              "party, looking for some high-energy beats, or just need a mood booster, this non \u001b[33m...\u001b[0m\n",
              "\n",
              "|Top- \u001b[1;36m100\u001b[0m: BOLLYWOOD PARTY SONGS ♫ | Party Dance Hits - \n",
              "SoundCloud\u001b[1m]\u001b[0m\u001b[1m(\u001b[0m\u001b[4;94mhttps://soundcloud.com/aym5047/sets/top-100-bollywood-party-songs\u001b[0m\u001b[4;94m)\u001b[0m\n",
              "Listen to ♫ Top- \u001b[1;36m100\u001b[0m: BOLLYWOOD PARTY SONGS ♫ | Party Dance Hits, a playlist curated by aym5047 on desktop and \n",
              "mobile.\n",
              "\n",
              "|\u001b[1;36m100\u001b[0m Best Bollywood Dance Songs - \n",
              "HubPages\u001b[1m]\u001b[0m\u001b[1m(\u001b[0m\u001b[4;94mhttps://discover.hubpages.com/entertainment/200-Greatest-Bollywood-Dance-Songs-Dance-Hits-for-Parties\u001b[0m\u001b[4;94m)\u001b[0m\n",
              "Celebrating the \u001b[1;36m100\u001b[0m best Bollywood party songs, including \u001b[32m\"Bom Diggy Diggy\"\u001b[0m from Sonu Ke Titu Ki Sweety, \u001b[32m\"Aankh \u001b[0m\n",
              "\u001b[32mMarey\"\u001b[0m from Simba, and \u001b[32m\"Garmi\"\u001b[0m from Street Dancer \u001b[1;36m3\u001b[0m.\n",
              "\n",
              "|\u001b[1;36m67\u001b[0m Best Bollywood Songs for Dance: Perfect Dance Party!\u001b[1m]\u001b[0m\u001b[1m(\u001b[0m\u001b[4;94mhttps://leveltunes.com/bollywood-songs-for-dance/\u001b[0m\u001b[4;94m)\u001b[0m\n",
              "Get the party started with our handpicked list of \u001b[1;36m67\u001b[0m top Bollywood dance songs that'll make you groove all night \n",
              "long. Check it out now!\n",
              "\n",
              "|Top- \u001b[1;36m100\u001b[0m: BOLLYWOOD PARTY SONGS ♫ | Party Dance \n",
              "Hits\u001b[1m]\u001b[0m\u001b[1m(\u001b[0m\u001b[4;94mhttps://www.youtube.com/playlist?\u001b[0m\u001b[4;94mlist\u001b[0m\u001b[4;94m=\u001b[0m\u001b[4;94mPL9bw4S5ePsEG1Ovrxj9o2RLx43ALFoFyU\u001b[0m\u001b[4;94m)\u001b[0m\n",
              "Share your videos with friends, family, and the world\n",
              "\n",
              "|Bollywood Party Mix | Bollywood Dance Songs | Best Hindi Songs Party \n",
              "\u001b[33m...\u001b[0m\u001b[1m]\u001b[0m\u001b[1m(\u001b[0m\u001b[4;94mhttps://www.youtube.com/watch?\u001b[0m\u001b[4;94mv\u001b[0m\u001b[4;94m=\u001b[0m\u001b[4;94mss_YdigmvP4\u001b[0m\u001b[4;94m)\u001b[0m\n",
              "This video jukebox brings you the best of Bollywood dance songs, blending high-energy beats and electrifying \n",
              "rhythms to keep the party going all night.\n",
              "\n",
              "|\u001b[1;36m35\u001b[0m Best Bollywood Party Songs Ever - Music Industry How \n",
              "To\u001b[1m]\u001b[0m\u001b[1m(\u001b[0m\u001b[4;94mhttps://www.musicindustryhowto.com/bollywood-party-songs/3/\u001b[0m\u001b[4;94m)\u001b[0m\n",
              "Best Bollywood Party Songs Ever, Final Thoughts Want to keep your dance floor alive at a party? Ask the DJ to play \n",
              "any of the above Bollywood party songs. They're full of energy and happiness, exactly what you need for a dance \n",
              "floor. You may also like our list of romantic Hindi songs.\n"
            ],
            "text/html": [
              "<pre style=\"white-space:pre;overflow-x:auto;line-height:normal;font-family:Menlo,'DejaVu Sans Mono',consolas,'Courier New',monospace\">Observations: ## Search Results\n",
              "\n",
              "|<span style=\"color: #008080; text-decoration-color: #008080; font-weight: bold\">43</span> Best Bollywood Party Songs - BuzzFeed<span style=\"font-weight: bold\">](</span><span style=\"color: #0000ff; text-decoration-color: #0000ff; text-decoration: underline\">https://www.buzzfeed.com/aakritianand1/43-best-bollywood-party-songs)</span>\n",
              "A song set in a house party was designed to be an ultimate banger of a party song. And this super new-age vibe, \n",
              "with casual dressing and casual dancing, is on the playlist for a reason.\n",
              "\n",
              "|<span style=\"color: #008080; text-decoration-color: #008080; font-weight: bold\">44</span> Best Bollywood Dance Songs <span style=\"font-weight: bold\">(</span>Party To These<span style=\"font-weight: bold\">)</span> - Music Grotto<span style=\"font-weight: bold\">](</span><span style=\"color: #0000ff; text-decoration-color: #0000ff; text-decoration: underline\">https://www.musicgrotto.com/bollywood-dance-songs/)</span>\n",
              "Do you want to dance and party to some Bollywood music? Check out these <span style=\"color: #008080; text-decoration-color: #008080; font-weight: bold\">44</span> best Bollywood dance songs you can play \n",
              "at your next event!\n",
              "\n",
              "|<span style=\"color: #008080; text-decoration-color: #008080; font-weight: bold\">35</span> Best Bollywood Party Songs Ever - Music Industry How \n",
              "To<span style=\"font-weight: bold\">](</span><span style=\"color: #0000ff; text-decoration-color: #0000ff; text-decoration: underline\">https://www.musicindustryhowto.com/bollywood-party-songs/)</span>\n",
              "Spread the love Whether hosting a birthday, wedding, or New Year party, you need epic music to kick the party into \n",
              "life. And when it comes to setting the party's tone, nothing does it better than Bollywood party songs. \n",
              "Interestingly, Bollywood songs have become popular globally, not just in India. They will get you dancing hard,<span style=\"color: #808000; text-decoration-color: #808000\">...</span>\n",
              "\n",
              "|Non-Stop Party Songs | Best Bollywood Dance Music - YouTube<span style=\"font-weight: bold\">](</span><span style=\"color: #0000ff; text-decoration-color: #0000ff; text-decoration: underline\">https://www.youtube.com/watch?v=OcowdKKfrhQ)</span>\n",
              "Get ready to dance non-stop with this ultimate Bollywood dance hits collection! 💃🕺 Whether you're hosting a \n",
              "party, looking for some high-energy beats, or just need a mood booster, this non <span style=\"color: #808000; text-decoration-color: #808000\">...</span>\n",
              "\n",
              "|Top- <span style=\"color: #008080; text-decoration-color: #008080; font-weight: bold\">100</span>: BOLLYWOOD PARTY SONGS ♫ | Party Dance Hits - \n",
              "SoundCloud<span style=\"font-weight: bold\">](</span><span style=\"color: #0000ff; text-decoration-color: #0000ff; text-decoration: underline\">https://soundcloud.com/aym5047/sets/top-100-bollywood-party-songs)</span>\n",
              "Listen to ♫ Top- <span style=\"color: #008080; text-decoration-color: #008080; font-weight: bold\">100</span>: BOLLYWOOD PARTY SONGS ♫ | Party Dance Hits, a playlist curated by aym5047 on desktop and \n",
              "mobile.\n",
              "\n",
              "|<span style=\"color: #008080; text-decoration-color: #008080; font-weight: bold\">100</span> Best Bollywood Dance Songs - \n",
              "HubPages<span style=\"font-weight: bold\">](</span><span style=\"color: #0000ff; text-decoration-color: #0000ff; text-decoration: underline\">https://discover.hubpages.com/entertainment/200-Greatest-Bollywood-Dance-Songs-Dance-Hits-for-Parties)</span>\n",
              "Celebrating the <span style=\"color: #008080; text-decoration-color: #008080; font-weight: bold\">100</span> best Bollywood party songs, including <span style=\"color: #008000; text-decoration-color: #008000\">\"Bom Diggy Diggy\"</span> from Sonu Ke Titu Ki Sweety, <span style=\"color: #008000; text-decoration-color: #008000\">\"Aankh </span>\n",
              "<span style=\"color: #008000; text-decoration-color: #008000\">Marey\"</span> from Simba, and <span style=\"color: #008000; text-decoration-color: #008000\">\"Garmi\"</span> from Street Dancer <span style=\"color: #008080; text-decoration-color: #008080; font-weight: bold\">3</span>.\n",
              "\n",
              "|<span style=\"color: #008080; text-decoration-color: #008080; font-weight: bold\">67</span> Best Bollywood Songs for Dance: Perfect Dance Party!<span style=\"font-weight: bold\">](</span><span style=\"color: #0000ff; text-decoration-color: #0000ff; text-decoration: underline\">https://leveltunes.com/bollywood-songs-for-dance/)</span>\n",
              "Get the party started with our handpicked list of <span style=\"color: #008080; text-decoration-color: #008080; font-weight: bold\">67</span> top Bollywood dance songs that'll make you groove all night \n",
              "long. Check it out now!\n",
              "\n",
              "|Top- <span style=\"color: #008080; text-decoration-color: #008080; font-weight: bold\">100</span>: BOLLYWOOD PARTY SONGS ♫ | Party Dance \n",
              "Hits<span style=\"font-weight: bold\">](</span><span style=\"color: #0000ff; text-decoration-color: #0000ff; text-decoration: underline\">https://www.youtube.com/playlist?list=PL9bw4S5ePsEG1Ovrxj9o2RLx43ALFoFyU)</span>\n",
              "Share your videos with friends, family, and the world\n",
              "\n",
              "|Bollywood Party Mix | Bollywood Dance Songs | Best Hindi Songs Party \n",
              "<span style=\"color: #808000; text-decoration-color: #808000\">...</span><span style=\"font-weight: bold\">](</span><span style=\"color: #0000ff; text-decoration-color: #0000ff; text-decoration: underline\">https://www.youtube.com/watch?v=ss_YdigmvP4)</span>\n",
              "This video jukebox brings you the best of Bollywood dance songs, blending high-energy beats and electrifying \n",
              "rhythms to keep the party going all night.\n",
              "\n",
              "|<span style=\"color: #008080; text-decoration-color: #008080; font-weight: bold\">35</span> Best Bollywood Party Songs Ever - Music Industry How \n",
              "To<span style=\"font-weight: bold\">](</span><span style=\"color: #0000ff; text-decoration-color: #0000ff; text-decoration: underline\">https://www.musicindustryhowto.com/bollywood-party-songs/3/)</span>\n",
              "Best Bollywood Party Songs Ever, Final Thoughts Want to keep your dance floor alive at a party? Ask the DJ to play \n",
              "any of the above Bollywood party songs. They're full of energy and happiness, exactly what you need for a dance \n",
              "floor. You may also like our list of romantic Hindi songs.\n",
              "</pre>\n"
            ]
          },
          "metadata": {}
        },
        {
          "output_type": "display_data",
          "data": {
            "text/plain": [
              "\u001b[2m[Step 0: Duration 3.56 seconds| Input tokens: 1,177 | Output tokens: 29]\u001b[0m\n"
            ],
            "text/html": [
              "<pre style=\"white-space:pre;overflow-x:auto;line-height:normal;font-family:Menlo,'DejaVu Sans Mono',consolas,'Courier New',monospace\"><span style=\"color: #7f7f7f; text-decoration-color: #7f7f7f\">[Step 0: Duration 3.56 seconds| Input tokens: 1,177 | Output tokens: 29]</span>\n",
              "</pre>\n"
            ]
          },
          "metadata": {}
        },
        {
          "output_type": "display_data",
          "data": {
            "text/plain": [
              "\u001b[38;2;212;183;2m━━━━━━━━━━━━━━━━━━━━━━━━━━━━━━━━━━━━━━━━━━━━━━━━━━━━━ \u001b[0m\u001b[1mStep \u001b[0m\u001b[1;36m2\u001b[0m\u001b[38;2;212;183;2m ━━━━━━━━━━━━━━━━━━━━━━━━━━━━━━━━━━━━━━━━━━━━━━━━━━━━━━\u001b[0m\n"
            ],
            "text/html": [
              "<pre style=\"white-space:pre;overflow-x:auto;line-height:normal;font-family:Menlo,'DejaVu Sans Mono',consolas,'Courier New',monospace\"><span style=\"color: #d4b702; text-decoration-color: #d4b702\">━━━━━━━━━━━━━━━━━━━━━━━━━━━━━━━━━━━━━━━━━━━━━━━━━━━━━ </span><span style=\"font-weight: bold\">Step </span><span style=\"color: #008080; text-decoration-color: #008080; font-weight: bold\">2</span><span style=\"color: #d4b702; text-decoration-color: #d4b702\"> ━━━━━━━━━━━━━━━━━━━━━━━━━━━━━━━━━━━━━━━━━━━━━━━━━━━━━━</span>\n",
              "</pre>\n"
            ]
          },
          "metadata": {}
        },
        {
          "output_type": "display_data",
          "data": {
            "text/plain": [
              "╭─────────────────────────────────────────────────────────────────────────────────────────────────────────────────╮\n",
              "│ Calling tool: 'final_answer' with arguments: {'answer': 'For your Bollyword Dance Party at the Indian mansion,  │\n",
              "│ here are some recommended song playlists:\\\\n- 43 Best Bollywood Party Songs on BuzzFeed: https://www. buzzfeed. │\n",
              "│ com/aakritianand1/43-best-bollywood-party-songs \\\\\\\\- 44 Best Bollywood Dance Songs on Music Grotto:            │\n",
              "│ https://www. musicgrotto. com/bollywood-dance-songs/ \\\\\\\\- 100 Best Bollywood Dance Songs on Level Tunes:       │\n",
              "│ https://leveltunes. com/bollywood-songs-for-dance/\\\\nThese playlists include a mix of popular and electrifying  │\n",
              "│ Bollyword songs that are perfect for a high-energy dance party. '}                                              │\n",
              "╰─────────────────────────────────────────────────────────────────────────────────────────────────────────────────╯\n"
            ],
            "text/html": [
              "<pre style=\"white-space:pre;overflow-x:auto;line-height:normal;font-family:Menlo,'DejaVu Sans Mono',consolas,'Courier New',monospace\">╭─────────────────────────────────────────────────────────────────────────────────────────────────────────────────╮\n",
              "│ Calling tool: 'final_answer' with arguments: {'answer': 'For your Bollyword Dance Party at the Indian mansion,  │\n",
              "│ here are some recommended song playlists:\\\\n- 43 Best Bollywood Party Songs on BuzzFeed: https://www. buzzfeed. │\n",
              "│ com/aakritianand1/43-best-bollywood-party-songs \\\\\\\\- 44 Best Bollywood Dance Songs on Music Grotto:            │\n",
              "│ https://www. musicgrotto. com/bollywood-dance-songs/ \\\\\\\\- 100 Best Bollywood Dance Songs on Level Tunes:       │\n",
              "│ https://leveltunes. com/bollywood-songs-for-dance/\\\\nThese playlists include a mix of popular and electrifying  │\n",
              "│ Bollyword songs that are perfect for a high-energy dance party. '}                                              │\n",
              "╰─────────────────────────────────────────────────────────────────────────────────────────────────────────────────╯\n",
              "</pre>\n"
            ]
          },
          "metadata": {}
        },
        {
          "output_type": "display_data",
          "data": {
            "text/plain": [
              "\u001b[1;38;2;212;183;2mFinal answer: For your Bollyword Dance Party at the Indian mansion, here are some recommended song playlists:\\n- 43\u001b[0m\n",
              "\u001b[1;38;2;212;183;2mBest Bollywood Party Songs on BuzzFeed: https://www. buzzfeed. com/aakritianand1/43-best-bollywood-party-songs \\\\- \u001b[0m\n",
              "\u001b[1;38;2;212;183;2m44 Best Bollywood Dance Songs on Music Grotto: https://www. musicgrotto. com/bollywood-dance-songs/ \\\\- 100 Best \u001b[0m\n",
              "\u001b[1;38;2;212;183;2mBollywood Dance Songs on Level Tunes: https://leveltunes. com/bollywood-songs-for-dance/\\nThese playlists include a\u001b[0m\n",
              "\u001b[1;38;2;212;183;2mmix of popular and electrifying Bollyword songs that are perfect for a high-energy dance party. \u001b[0m\n"
            ],
            "text/html": [
              "<pre style=\"white-space:pre;overflow-x:auto;line-height:normal;font-family:Menlo,'DejaVu Sans Mono',consolas,'Courier New',monospace\"><span style=\"color: #d4b702; text-decoration-color: #d4b702; font-weight: bold\">Final answer: For your Bollyword Dance Party at the Indian mansion, here are some recommended song playlists:\\n- 43</span>\n",
              "<span style=\"color: #d4b702; text-decoration-color: #d4b702; font-weight: bold\">Best Bollywood Party Songs on BuzzFeed: https://www. buzzfeed. com/aakritianand1/43-best-bollywood-party-songs \\\\- </span>\n",
              "<span style=\"color: #d4b702; text-decoration-color: #d4b702; font-weight: bold\">44 Best Bollywood Dance Songs on Music Grotto: https://www. musicgrotto. com/bollywood-dance-songs/ \\\\- 100 Best </span>\n",
              "<span style=\"color: #d4b702; text-decoration-color: #d4b702; font-weight: bold\">Bollywood Dance Songs on Level Tunes: https://leveltunes. com/bollywood-songs-for-dance/\\nThese playlists include a</span>\n",
              "<span style=\"color: #d4b702; text-decoration-color: #d4b702; font-weight: bold\">mix of popular and electrifying Bollyword songs that are perfect for a high-energy dance party. </span>\n",
              "</pre>\n"
            ]
          },
          "metadata": {}
        },
        {
          "output_type": "display_data",
          "data": {
            "text/plain": [
              "\u001b[2m[Step 1: Duration 10.00 seconds| Input tokens: 3,198 | Output tokens: 191]\u001b[0m\n"
            ],
            "text/html": [
              "<pre style=\"white-space:pre;overflow-x:auto;line-height:normal;font-family:Menlo,'DejaVu Sans Mono',consolas,'Courier New',monospace\"><span style=\"color: #7f7f7f; text-decoration-color: #7f7f7f\">[Step 1: Duration 10.00 seconds| Input tokens: 3,198 | Output tokens: 191]</span>\n",
              "</pre>\n"
            ]
          },
          "metadata": {}
        },
        {
          "output_type": "execute_result",
          "data": {
            "text/plain": [
              "'For your Bollyword Dance Party at the Indian mansion, here are some recommended song playlists:\\\\n- 43 Best Bollywood Party Songs on BuzzFeed: https://www. buzzfeed. com/aakritianand1/43-best-bollywood-party-songs \\\\\\\\- 44 Best Bollywood Dance Songs on Music Grotto: https://www. musicgrotto. com/bollywood-dance-songs/ \\\\\\\\- 100 Best Bollywood Dance Songs on Level Tunes: https://leveltunes. com/bollywood-songs-for-dance/\\\\nThese playlists include a mix of popular and electrifying Bollyword songs that are perfect for a high-energy dance party. '"
            ],
            "application/vnd.google.colaboratory.intrinsic+json": {
              "type": "string"
            }
          },
          "metadata": {},
          "execution_count": 3
        }
      ],
      "source": [
        "from smolagents import ToolCallingAgent, DuckDuckGoSearchTool, HfApiModel\n",
        "\n",
        "agent = ToolCallingAgent(tools=[DuckDuckGoSearchTool()], model=HfApiModel())\n",
        "\n",
        "agent.run(\"Search for the best music recommendations for a Bollyword Dance party at the Indian mansion.\")"
      ]
    },
    {
      "cell_type": "markdown",
      "source": [
        "\n",
        "When you examine the agent's trace, instead of seeing `Executing parsed code:`, you'll see something like:\n",
        "\n",
        "```text\n",
        "╭─────────────────────────────────────────────────────────────────────────────────────────────────────────────────╮\n",
        "│ Calling tool: 'web_search' with arguments: {'query': \"best music recommendations for a party at Wayne's         │\n",
        "│ mansion\"}                                                                                                       │\n",
        "╰─────────────────────────────────────────────────────────────────────────────────────────────────────────────────╯\n",
        "```  \n",
        "\n",
        "The agent generates a structured tool call that the system processes to produce the output, rather than directly executing code like a `CodeAgent`.\n",
        "\n",
        "Now that we understand both agent types, we can choose the right one for our needs. Let's continue exploring `smolagents` to make Alfred's party a success! 🎉"
      ],
      "metadata": {
        "id": "Cl19VWGRYXrr"
      }
    }
  ],
  "metadata": {
    "colab": {
      "provenance": []
    },
    "kernelspec": {
      "display_name": "Python 3",
      "name": "python3"
    },
    "language_info": {
      "name": "python"
    }
  },
  "nbformat": 4,
  "nbformat_minor": 0
}